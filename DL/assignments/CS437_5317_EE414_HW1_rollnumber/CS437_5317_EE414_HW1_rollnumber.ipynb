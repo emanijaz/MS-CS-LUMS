{
  "nbformat": 4,
  "nbformat_minor": 0,
  "metadata": {
    "kernelspec": {
      "display_name": "Python 3",
      "language": "python",
      "name": "python3"
    },
    "language_info": {
      "codemirror_mode": {
        "name": "ipython",
        "version": 3
      },
      "file_extension": ".py",
      "mimetype": "text/x-python",
      "name": "python",
      "nbconvert_exporter": "python",
      "pygments_lexer": "ipython3",
      "version": "3.7.3"
    },
    "notify_time": "5",
    "toc": {
      "base_numbering": 1,
      "nav_menu": {},
      "number_sections": true,
      "sideBar": true,
      "skip_h1_title": false,
      "title_cell": "Table of Contents",
      "title_sidebar": "Contents",
      "toc_cell": false,
      "toc_position": {},
      "toc_section_display": true,
      "toc_window_display": false
    },
    "colab": {
      "name": "hw1_rollnumber.ipynb",
      "provenance": [],
      "collapsed_sections": []
    }
  },
  "cells": [
    {
      "cell_type": "markdown",
      "metadata": {
        "id": "l8t4yditbX_Q"
      },
      "source": [
        "**Colab Notebook Sharing Link(edit access)**: ***Enter Here***"
      ]
    },
    {
      "cell_type": "markdown",
      "metadata": {
        "id": "vpn9k3BV1X2s"
      },
      "source": [
        "# CS 437 - Deep Learning - PA1:Neural Network Class\n",
        "\n",
        "*__Submission Instructions:__*\n",
        "- Rename this notebook to `hw1_rollnumber.ipynb` before submission on LMS.\n",
        "- All code must be written in this notebook (you do not need to submit any other files).\n",
        "- The output of all cells must be present in the version of the notebook you submit. You will be penalized if the output is absent.\n",
        "- The university honor code should be maintained. Any violation, if found, will result in disciplinary action. \n",
        "- You have to download assignment from LMS and do all your workings on colab. Don't download the files again and again.\n",
        "- You can share the notebook link of your colab noteboob in the begining of the notebook."
      ]
    },
    {
      "cell_type": "code",
      "metadata": {
        "ExecuteTime": {
          "end_time": "2019-01-30T14:39:17.671980Z",
          "start_time": "2019-01-30T14:38:40.137027Z"
        },
        "id": "UPL8Ut1u1X2-"
      },
      "source": [
        "import numpy as np\n",
        "import pandas as pd\n",
        "import time\n",
        "%matplotlib inline\n",
        "import matplotlib.pyplot as plt\n",
        "plt.style.use('seaborn')\n",
        "from IPython.display import Image\n",
        "import pydot\n",
        "from tqdm import tqdm_notebook\n",
        "import seaborn as sns\n",
        "from keras.datasets import fashion_mnist\n",
        "from sklearn.model_selection import train_test_split\n",
        "from keras.utils import np_utils\n",
        "from sklearn.datasets import make_moons\n",
        "from sklearn.linear_model import LinearRegression, LogisticRegression\n",
        "from sklearn.metrics import confusion_matrix,classification_report"
      ],
      "execution_count": 1,
      "outputs": []
    },
    {
      "cell_type": "markdown",
      "metadata": {
        "id": "YdFtEQ5O1X2_"
      },
      "source": [
        "**Please write your roll number in the next cell**"
      ]
    },
    {
      "cell_type": "code",
      "metadata": {
        "ExecuteTime": {
          "end_time": "2019-01-30T14:36:37.383767Z",
          "start_time": "2019-01-30T14:36:37.333537Z"
        },
        "id": "xU_yqbc31X2_"
      },
      "source": [
        "rollnumber = 22100000"
      ],
      "execution_count": null,
      "outputs": []
    },
    {
      "cell_type": "markdown",
      "metadata": {
        "id": "D9cjup_91X2_"
      },
      "source": [
        "In this assignment you will be creating 4 versions of the `NeuralNetwork` class. You will start with a simple 2 layer feed forward network and progressively modify the class by adding features to make it more generic. At the end you will have implemented a version which can create networks of arbitrary shape and depth, and which will work for both regression and classification tasks. \n",
        "\n",
        "Often in pratical situations, raw machine learning architecture and code is hidden behind libraries and simplfied toolkits. The purpose of this assignment is to lift that curtain and get you hands-on exprience working with the mathematical fundamentals of neural network architectures. After this, you'll know exactly how a network leverages 'gradient descent' to find optimal solutions and how forward and backward passes are implemented mathematically and in code.\n",
        "\n",
        "\n",
        "### Primary Task\n",
        "Skeleton code is provided to get you started; the main methods you need to implement correspond to the 3 steps of the training process, namely:\n",
        "1. Initialize variables and initialize weights\n",
        "2. Forward pass\n",
        "3. Backward pass AKA Backpropogation\n",
        "4. Weight Update AKA Gradient Descent\n",
        "\n",
        "__Look for comments in the code to see where you are supposed to write code.__ Essentially, you will be working on 5 functions. \n",
        "You should use the lecture [slides]() as reference for the equations. \n",
        "\n",
        "A `fit` function is what combines the previous three functions and overall trains the network to __fit__ to the provided training examples. In all the following tasks, the provided `fit` methods require the three steps of the training process to be correctly working. The function has been setup in a way that it expects the above 3 methods to take particular inputs and return particular outputs. __You are supposed to work within this restriction.__ Modification of the provided code without prior discussion with the TAs will result in a __grade deduction__. \n",
        "\n",
        "\n",
        "\n",
        "To see how well your model is doing, you need to look at the dummy tasks (at the end) and make sure your model loss is going down during training. A dummy regression task of adding two numbers (sum less than 1) has been provided as well. Similarly, a dummy classification task (XOR logic gate) is also present. You can look at the shapes of the inputs and outputs matrices as well as the training trend (once you implement a full task) by using your own class (make sure you are using the correct arguments to the `__init__` method). \n",
        "\n",
        "You can find a demonstration of the neural network working on a synthetic dataset for both regression and classification at the end of the notebook. After you implement your class fully, you can play with the parameters and see the visualization change, we highly recommend that you try this. This part of the notebook will not be graded in any way, but it might give you a better insight/intuition into how the model makes decisions, and how important parameters are in terms of the usefullness of neural networks. You will explore the parameter space more thoroughly in the next assignment :P\n",
        "\n",
        "### Side note\n",
        "*The `plot_model` method will only work if you have the `pydot` python package installed along with [Graphviz](https://graphviz.gitlab.io/download/)). If you do not wish to use this then simply comment out the import for `pydot`.*\n",
        "\n",
        "### Need Help?\n",
        "If you need help, refer to your textbook (provided on LMS) which has examples and explanations for all the processes you'll have to implement, as well as rich details on functions such as `sigmoid` and `softmax`. Going over the book once before getting started is a good idea, you can also refer to the class slides and supplemental material provided with the assignment."
      ]
    },
    {
      "cell_type": "markdown",
      "metadata": {
        "heading_collapsed": true,
        "id": "Jv0mUoiB1X3B"
      },
      "source": [
        "## Task 1"
      ]
    },
    {
      "cell_type": "markdown",
      "metadata": {
        "hidden": true,
        "id": "QOxoQ-_B1X3B"
      },
      "source": [
        "In this task you will implement the simplest version of a feed forward neural network - a 2 layer network. \n",
        "\n",
        "Your code will only be partially vectorized, this means that you will be passing a single data point through the network at a time. In simple terms, the running time of your `fit` method will be $O(e*n)$ where $e$ is the number of epochs and $n$ is the number of data points (assuming all functions/methods called in `fit` take constant time). \n",
        "\n",
        "This version of the network will be using the `softmax` activation function for the output layer and `sigmoid` for the hidden layer, *ie.* a classification model which learns to output the joint probability mass function of the classes in the dataset. "
      ]
    },
    {
      "cell_type": "code",
      "metadata": {
        "id": "-y-6i2TL1X3C"
      },
      "source": [
        "def plot_confusion_matrix(conf_mat):\n",
        "    classes = ['T-shirt/top','Trouser/pants','Pullover shirt','Dress','Coat','Sandal','Shirt','Sneaker','Bag','Ankle boot']\n",
        "    df_cm = pd.DataFrame(conf_mat,classes,classes)\n",
        "    plt.figure(figsize=(15,9))\n",
        "    sns.set(font_scale=1.4)\n",
        "    sns.heatmap(df_cm, annot=True,annot_kws={\"size\": 16})\n",
        "    plt.show()\n",
        "\n",
        "class_labels = ['T-shirt/top','Trouser/pants','Pullover shirt','Dress','Coat','Sandal','Shirt','Sneaker','Bag','Ankle boot']\n"
      ],
      "execution_count": null,
      "outputs": []
    },
    {
      "cell_type": "code",
      "metadata": {
        "ExecuteTime": {
          "end_time": "2019-01-27T01:25:17.044301Z",
          "start_time": "2019-01-27T01:25:16.984346Z"
        },
        "hidden": true,
        "id": "iP5ZI2Rs1X3C"
      },
      "source": [
        "class NeuralNetwork():\n",
        "    @staticmethod\n",
        "    def cross_entropy_loss(y_pred, y_true):\n",
        "        # implement cross_entropy_loss function\n",
        "        #TO DO\n",
        "\n",
        "        return None\n",
        "    @staticmethod\n",
        "    def accuracy(y_pred, y_true):\n",
        "        # implement accuracy function\n",
        "        #TO DO\n",
        "\n",
        "        return None\n",
        "    @staticmethod\n",
        "    def softmax(x):\n",
        "        # implement softmax function\n",
        "        #TO DO\n",
        "\n",
        "        return None\n",
        "    @staticmethod\n",
        "    def sigmoid(x):\n",
        "        #TO DO\n",
        "        \n",
        "        return None\n",
        "    \n",
        "    def __init__(self, input_size, hidden_nodes, output_size):\n",
        "        '''Creates a Feed-Forward Neural Network.\n",
        "        The parameters represent the number of nodes in each layer (total 3). \n",
        "        Look at the inputs to the function'''\n",
        "        self.num_layers = None  # includes input layer\n",
        "        self.input_shape = None\n",
        "        self.hidden_shape = None\n",
        "        self.output_shape = None\n",
        "        self.weights_ = self.biases_ = []\n",
        "        self.__init_weights()\n",
        "    def __init_weights(self):\n",
        "        '''Initializes all weights based on standard normal distribution and all biases to 0.'''\n",
        "        W_h = np.random.normal(size=(None, None))\n",
        "        b_h = np.zeros(shape=(None,))\n",
        "        \n",
        "        W_o = np.random.normal(size=(None, None))\n",
        "        b_o = np.zeros(shape=(None,))\n",
        "        \n",
        "        self.weights_ = None\n",
        "        self.biases_  = None\n",
        "        \n",
        "    \n",
        "    def forward_pass(self, input_data):\n",
        "        '''Executes the feed forward algorithm.\n",
        "        \"input_data\" is the input to the network in row-major form\n",
        "        Returns \"activations\", which is a list of all layer outputs (excluding input layer of course)'''\n",
        "        \n",
        "        return activations\n",
        "    \n",
        "    def backward_pass(self, targets, layer_activations):\n",
        "        '''Executes the backpropogation algorithm.\n",
        "        \"targets\" is the ground truth/labels\n",
        "        \"layer_activations\" are the return value of the forward pass step\n",
        "        Returns \"deltas\", which is a list containing weight update values for all layers (excluding the input layer of course)'''        \n",
        "        return deltas\n",
        "\n",
        "    def weight_update(self, deltas, layer_inputs, lr):\n",
        "        '''Executes the gradient descent algorithm.\n",
        "        \"deltas\" is return value of the backward pass step\n",
        "        \"layer_inputs\" is a list containing the inputs for all layers (including the input layer)\n",
        "        \"lr\" is the learning rate'''\n",
        "        \n",
        "    \n",
        "    def fit(self, Xs, Ys, epochs, lr=1e-3):\n",
        "            history = []\n",
        "            # for \n",
        "            for epoch in tqdm_notebook(range(epochs)):\n",
        "                num_samples = Xs.shape[0]\n",
        "                for i in range(num_samples):\n",
        "                    sample_input = Xs[i,:].reshape((1,self.input_shape))\n",
        "                    sample_target = Ys[i,:].reshape((1,self.output_shape))\n",
        "\n",
        "                    activations = None # Call forward_pass function \n",
        "                    deltas = None # Call backward_pass function \n",
        "                    layer_inputs = [sample_input] + activations[:-1]\n",
        "                    # Call weight_update function \n",
        "                    None\n",
        "                preds = None # Call predict function \n",
        "                current_loss = self.cross_entropy_loss(preds, Ys)\n",
        "                if  epoch==epochs-1:\n",
        "                  confusion_mat=confusion_matrix(Ys.argmax(axis=1), preds.argmax(axis=1))  \n",
        "                  plot_confusion_matrix(confusion_mat)\n",
        "                  report = classification_report(Ys, np_utils.to_categorical(preds.argmax(axis=1)), target_names=class_labels)\n",
        "                  print(report)\n",
        "                history.append(current_loss)\n",
        "            return history\n",
        "    \n",
        "    def predict(self, Xs):\n",
        "        '''Returns the model predictions (output of the last layer) for the given \"Xs\".'''\n",
        "        predictions = []\n",
        "        num_samples = Xs.shape[0]\n",
        "        for i in range(num_samples):\n",
        "            sample = Xs[i,:].reshape((1,self.input_shape))\n",
        "            sample_prediction = self.forward_pass(sample)[-1]\n",
        "            predictions.append(sample_prediction.reshape((self.output_shape,)))\n",
        "        return np.array(predictions)\n",
        "    \n",
        "    def evaluate(self, Xs, Ys):\n",
        "        '''Returns appropriate metrics for the task, calculated on the dataset passed to this method.'''\n",
        "        pred = self.predict(Xs)\n",
        "        return self.cross_entropy_loss(pred, Ys), self.accuracy(pred.argmax(axis=1), Ys.argmax(axis=1))\n",
        "    \n",
        "    def plot_model(self, filename):\n",
        "        '''Provide the \"filename\" as a string including file extension. Creates an image showing the model as a graph.'''\n",
        "        graph = pydot.Dot(graph_type='digraph')\n",
        "        graph.set_rankdir('LR')\n",
        "        graph.set_node_defaults(shape='circle', fontsize=0)\n",
        "        nodes_per_layer = [self.input_shape, self.hidden_shape, self.output_shape]\n",
        "        for i in range(self.num_layers-1):\n",
        "            for n1 in range(nodes_per_layer[i]):\n",
        "                for n2 in range(nodes_per_layer[i+1]):\n",
        "                    edge = pydot.Edge(f'l{i}n{n1}', f'l{i+1}n{n2}')\n",
        "                    graph.add_edge(edge)\n",
        "        graph.write_png(filename)"
      ],
      "execution_count": null,
      "outputs": []
    },
    {
      "cell_type": "code",
      "metadata": {
        "id": "vd_bEGMF1oa2"
      },
      "source": [
        "\n",
        "classes = 10\n",
        "#Download Fashion MNIST dataset\n",
        "(X_train, y_train), (X_test, y_test) = fashion_mnist.load_data()\n",
        "#Split the fashion MNIST dataset into train, validation and test sets (Done for you)\n",
        "#Convert y_train,y_val and y_test to categorical binary values \n",
        "#TO DO\n",
        "\n",
        "\n",
        "\n",
        "#See function \"np_utils.to_categorical()\"\n",
        "#Reshape images of X_train and X_test to 1d array\n",
        "\n",
        "#TO DO\n",
        "\n",
        "#See function of numpy reshape\n"
      ],
      "execution_count": null,
      "outputs": []
    },
    {
      "cell_type": "code",
      "metadata": {
        "id": "FRtc2Dzc2D_H"
      },
      "source": [
        "\n",
        "# starting time\n",
        "start = time.time()\n",
        "# Define the input size and output size of  Fashion MNIST dataset\n",
        "\n",
        "nn = NeuralNetwork(input_size=None, hidden_nodes=80, output_size=None)\n",
        "# You can tweak the learning rate and epochs to know how things work\n",
        "history = nn.fit(X_train, y_train, epochs=10, lr=0.01)\n",
        "plt.plot(history);\n",
        "plt.gca().set(xlabel='Epoch', ylabel='Cross-entropy', title='Training Plot {}'.format(rollnumber));\n",
        "# end time\n",
        "end = time.time()\n",
        "print(\"Runtime of the algorithm is \",round((end - start),3),\" seconds\")"
      ],
      "execution_count": null,
      "outputs": []
    },
    {
      "cell_type": "markdown",
      "metadata": {
        "heading_collapsed": true,
        "id": "YxD_ligU1X3K"
      },
      "source": [
        "## Task 2"
      ]
    },
    {
      "cell_type": "markdown",
      "metadata": {
        "hidden": true,
        "id": "Ne2uSY9k1X3K"
      },
      "source": [
        "Now you will modify the class to allow the option to learn a regression model. You need to change some methods to account for the `mode` of the network. You can copy your code from task 1 as a starting point if you want.\n",
        "\n",
        "If the `mode` is classification, you will use your code from Task1. In case of the `mode` being regression you will apply the `sigmoid` activation function to both layers and compute the deltas for that."
      ]
    },
    {
      "cell_type": "code",
      "metadata": {
        "ExecuteTime": {
          "end_time": "2019-01-27T01:30:16.547173Z",
          "start_time": "2019-01-27T01:30:16.441918Z"
        },
        "hidden": true,
        "id": "zjySHMrK1X3K"
      },
      "source": [
        "class NeuralNetwork():\n",
        "    @staticmethod\n",
        "    def mean_squared_error(y_pred, y_true):\n",
        "        # implement mean_squared_error function\n",
        "        #TO DO\n",
        "\n",
        "        return None\n",
        "    \n",
        "    @staticmethod\n",
        "    def cross_entropy_loss(y_pred, y_true):\n",
        "        # implement cross_entropy_loss function\n",
        "        #TO DO\n",
        "\n",
        "        return None\n",
        "    @staticmethod\n",
        "    def accuracy(y_pred, y_true):\n",
        "        # implement accuracy function\n",
        "        #TO DO\n",
        "\n",
        "        return None\n",
        "    @staticmethod\n",
        "    def softmax(x):\n",
        "        # implement softmax function\n",
        "        #TO DO\n",
        "\n",
        "        return None\n",
        "    @staticmethod\n",
        "    def sigmoid(x):\n",
        "        #TO DO\n",
        "        \n",
        "        return None\n",
        "    \n",
        "    \n",
        "    def __init__(self, input_size, hidden_nodes, output_size, mode):\n",
        "        '''Creates a Feed-Forward Neural Network.\n",
        "        \"mode\" can be one of 'regression' or 'classification' and controls the output activation as well as training metric\n",
        "        The rest of the parameters represent the number of nodes in each layer (total 3).'''\n",
        "        if mode not in ['classification','regression']:\n",
        "            raise ValueError('Only \"classification\" and \"regression\" modes are supported.')\n",
        "        \n",
        "        self.num_layers = None # includes input layer\n",
        "        self.input_shape = None\n",
        "        self.hidden_shape = None\n",
        "        self.output_shape = None\n",
        "        self.mode = None\n",
        "        \n",
        "        \n",
        "        self.weights_ = self.biases_ = []\n",
        "        self.__init_weights()\n",
        "    \n",
        "    def __init_weights(self):\n",
        "        '''Initializes all weights based on standard normal distribution and all biases to 0.'''\n",
        "        W_h = np.random.normal(size=(None, None))\n",
        "        b_h = np.zeros(shape=(None,))\n",
        "        \n",
        "        W_o = np.random.normal(size=(None, None))\n",
        "        b_o = np.zeros(shape=(None,))\n",
        "        \n",
        "        self.weights_ = None\n",
        "        self.biases_  = None\n",
        "    \n",
        "    \n",
        "\n",
        "    \n",
        "    def forward_pass(self, input_data):\n",
        "        '''Executes the feed forward algorithm.\n",
        "        \"input_data\" is the input to the network in row-major form\n",
        "        Returns \"activations\", which is a list of all layer outputs (excluding input layer of course)'''\n",
        "        \n",
        "            \n",
        "        return activations\n",
        "    \n",
        "    def backward_pass(self, targets, layer_activations):\n",
        "        '''Executes the backpropogation algorithm.\n",
        "        \"targets\" is the ground truth/labels\n",
        "        \"layer_activations\" are the return value of the forward pass step\n",
        "        Returns \"deltas\", which is a list containing weight update values for all layers (excluding the input layer of course)'''\n",
        "        \n",
        "        \n",
        "        return deltas\n",
        "    \n",
        "    def weight_update(self, deltas, layer_inputs, lr):\n",
        "        '''Executes the gradient descent algorithm.\n",
        "        \"deltas\" is return value of the backward pass step\n",
        "        \"layer_inputs\" is a list containing the inputs for all layers (including the input layer)\n",
        "        \"lr\" is the learning rate'''\n",
        "        \n",
        "        \n",
        "    \n",
        "    \n",
        "    def fit(self, Xs, Ys, epochs, lr=1e-3):\n",
        "        '''Trains the model on the given dataset for \"epoch\" number of itterations with step size=\"lr\". \n",
        "        Returns list containing loss for each epoch.'''\n",
        "        history = []\n",
        "        for epoch in tqdm_notebook(range(epochs)):\n",
        "            num_samples = Xs.shape[0]\n",
        "            for i in range(num_samples):\n",
        "                if(i+2 <= num_samples):\n",
        "                    sample_input = Xs[i:i+2,:].reshape((1,self.input_shape))\n",
        "                    sample_target = Ys[i,:].reshape((1,self.output_shape))\n",
        "                \n",
        "                    activations = None # Call forward_pass function  \n",
        "                    deltas = None # Call backward_pass function\n",
        "\n",
        "                    layer_inputs = [sample_input] + activations[:-1]\n",
        "                    # Call weight_update function\n",
        "                    None\n",
        "\n",
        "            preds = None  # Call predict function \n",
        "            if self.mode == 'regression':\n",
        "                current_loss = self.mean_squared_error(preds, Ys[:-1])\n",
        "            elif self.mode == 'classification':\n",
        "                current_loss = self.cross_entropy_loss(preds, Ys[:-1])\n",
        "            history.append(current_loss)\n",
        "        return history\n",
        "    \n",
        "    def predict(self, Xs):\n",
        "        '''Returns the model predictions (output of the last layer) for the given \"Xs\".'''\n",
        "        predictions = []\n",
        "        num_samples = Xs.shape[0]\n",
        "        for i in range(num_samples):\n",
        "            if(i+2 <= num_samples):\n",
        "                sample = Xs[i:i+2,:].reshape((1,self.input_shape))\n",
        "                sample_prediction = self.forward_pass(sample)[-1]\n",
        "                predictions.append(sample_prediction.reshape((self.output_shape,)))\n",
        "        return np.array(predictions)\n",
        "    \n",
        "    def evaluate(self, Xs, Ys):\n",
        "        '''Returns appropriate metrics for the task, calculated on the dataset passed to this method.'''\n",
        "        pred = self.predict(Xs)\n",
        "        if self.mode == 'regression':\n",
        "            return self.mean_squared_error(pred, Ys)\n",
        "        elif self.mode == 'classification':\n",
        "            return self.cross_entropy_loss(pred, Ys), self.accuracy(pred.argmax(axis=1), Ys.argmax(axis=1))\n",
        "    \n",
        "    def plot_model(self, filename):\n",
        "        '''Provide the \"filename\" as a string including file extension. Creates an image showing the model as a graph.'''\n",
        "        graph = pydot.Dot(graph_type='digraph')\n",
        "        graph.set_rankdir('LR')\n",
        "        graph.set_node_defaults(shape='circle', fontsize=0)\n",
        "        nodes_per_layer = [self.input_shape, self.hidden_shape, self.output_shape]\n",
        "        for i in range(self.num_layers-1):\n",
        "            for n1 in range(nodes_per_layer[i]):\n",
        "                for n2 in range(nodes_per_layer[i+1]):\n",
        "                    edge = pydot.Edge(f'l{i}n{n1}', f'l{i+1}n{n2}')\n",
        "                    graph.add_edge(edge)\n",
        "        graph.write_png(filename)"
      ],
      "execution_count": null,
      "outputs": []
    },
    {
      "cell_type": "code",
      "metadata": {
        "id": "XbSFGpT1aATA"
      },
      "source": [
        "nn = NeuralNetwork(input_size=2, hidden_nodes=5, output_size=1, mode='regression')\n",
        "nn.plot_model('graph.png')\n",
        "Image('graph.png')"
      ],
      "execution_count": null,
      "outputs": []
    },
    {
      "cell_type": "code",
      "metadata": {
        "id": "ZoUiximFaDCd"
      },
      "source": [
        "data_x, _ = make_moons(200, noise=0.18)\n",
        "plt.scatter(data_x[:,0], data_x[:,1]);"
      ],
      "execution_count": null,
      "outputs": []
    },
    {
      "cell_type": "code",
      "metadata": {
        "id": "gw7qpoQt1X3L"
      },
      "source": [
        "reg = LinearRegression()\n",
        "reg = reg.fit(data_x[:,0].reshape((200,1)), data_x[:,1].reshape((200,1)));\n",
        "\n",
        "d = np.arange(-1.5, 2.5, 0.1).reshape((40,1))\n",
        "preds = reg.predict(d)"
      ],
      "execution_count": null,
      "outputs": []
    },
    {
      "cell_type": "code",
      "metadata": {
        "id": "ehZwKJPLaEQu"
      },
      "source": [
        "fig, ax = plt.subplots()\n",
        "ax.scatter(data_x[:,0].reshape((200,1)), data_x[:,1].reshape((200,1)));\n",
        "ax.plot(d.flatten(), preds.flatten(), c='tab:red', label='Prediction');\n",
        "ax.set(xlabel='Input Feature', ylabel='Target Variable', title='Linear Regression {}'.format(rollnumber));\n",
        "ax.legend();"
      ],
      "execution_count": null,
      "outputs": []
    },
    {
      "cell_type": "code",
      "metadata": {
        "id": "BvFaMw5ETOEI"
      },
      "source": [
        "\n",
        "# starting time\n",
        "start = time.time()\n",
        "\n",
        "nn = NeuralNetwork(input_size=2, hidden_nodes=6, output_size=1, mode='regression')\n",
        "history = nn.fit(data_x[:,0].reshape((200,1)), data_x[:,1].reshape((200,1)), epochs=200, lr=1e-4)\n",
        "preds = nn.predict(d)\n",
        "plt.plot(history);\n",
        "plt.gca().set(xlabel='Epoch', ylabel='MSE', title='Training Plot {}'.format(rollnumber));\n",
        "# end time\n",
        "end = time.time()\n",
        "print(\"Runtime of the algorithm is \",round((end - start),3),\" seconds\")"
      ],
      "execution_count": null,
      "outputs": []
    },
    {
      "cell_type": "markdown",
      "metadata": {
        "heading_collapsed": true,
        "id": "vjLb49531X3N"
      },
      "source": [
        "## Task 3"
      ]
    },
    {
      "cell_type": "markdown",
      "metadata": {
        "hidden": true,
        "id": "Z1eCdRmk1X3N"
      },
      "source": [
        "Again, if it helps copy only your code from Task2 as a starting point in the next cell. Now you will modify the class to allow an arbitrarily shaped network. \n",
        "\n",
        "*Hint: The output/last layer is special in terms of the delta calculation. All the hidden layers have the same calculation (chain rule)*"
      ]
    },
    {
      "cell_type": "code",
      "metadata": {
        "ExecuteTime": {
          "end_time": "2019-01-27T01:30:16.547173Z",
          "start_time": "2019-01-27T01:30:16.441918Z"
        },
        "hidden": true,
        "id": "rpVDYPBu1X3N"
      },
      "source": [
        "class NeuralNetwork():\n",
        "    @staticmethod\n",
        "    def mean_squared_error(y_pred, y_true):\n",
        "        # implement mean_squared_error function\n",
        "        #TO DO\n",
        "\n",
        "        return None\n",
        "    \n",
        "    @staticmethod\n",
        "    def cross_entropy_loss(y_pred, y_true):\n",
        "        # implement cross_entropy_loss function\n",
        "        #TO DO\n",
        "\n",
        "        return None\n",
        "    \n",
        "    @staticmethod\n",
        "    def accuracy(y_pred, y_true):\n",
        "        # implement accuracy function\n",
        "        #TO DO\n",
        "\n",
        "        return None\n",
        "    \n",
        "    @staticmethod\n",
        "    def softmax(x):\n",
        "        # implement softmax function\n",
        "        #TO DO\n",
        "\n",
        "        return None\n",
        "    \n",
        "    @staticmethod\n",
        "    def sigmoid(x):\n",
        "        # implement sigmoid function\n",
        "        #TO DO\n",
        "\n",
        "        return None\n",
        "        \n",
        "    \n",
        "    def __init__(self, nodes_per_layer, mode):\n",
        "        '''Creates a Feed-Forward Neural Network.\n",
        "        \"nodes_per_layer\" is a list containing number of nodes in each layer (including input layer)\n",
        "        \"mode\" can be one of 'regression' or 'classification' and controls the output activation as well as training metric'''\n",
        "        if len(nodes_per_layer) < 2:\n",
        "            raise ValueError('Network must have atleast 2 layers (input and output).')\n",
        "        if not (np.array(nodes_per_layer) > 0).all():\n",
        "            raise ValueError('Number of nodes in all layers must be positive.')\n",
        "        if mode not in ['classification','regression']:\n",
        "            raise ValueError('Only \"classification\" and \"regression\" modes are supported.')\n",
        "        \n",
        "        self.num_layers = None # includes input layer\n",
        "        self.nodes_per_layer = None\n",
        "        self.input_shape = None\n",
        "        self.output_shape = None\n",
        "        self.mode = None\n",
        "        \n",
        "        \n",
        "        self.__init_weights(nodes_per_layer)\n",
        "    \n",
        "    def __init_weights(self, nodes_per_layer):\n",
        "        '''Initializes all weights based on standard normal distribution and all biases to 0.'''\n",
        "        self.weights_ = []\n",
        "        self.biases_ = []\n",
        "        for i,_ in enumerate(nodes_per_layer):\n",
        "            if i == 0:\n",
        "                # skip input layer, it does not have weights/bias\n",
        "                continue\n",
        "            \n",
        "            weight_matrix = np.random.normal(size=(None, None))\n",
        "            self.weights_.append(None)\n",
        "            bias_vector = np.zeros(shape=(None,))\n",
        "            self.biases_.append(None)\n",
        "    \n",
        "\n",
        "    def forward_pass(self, input_data):\n",
        "        '''Executes the feed forward algorithm.\n",
        "        \"input_data\" is the input to the network in row-major form\n",
        "        Returns \"activations\", which is a list of all layer outputs (excluding input layer of course)'''\n",
        "                \n",
        "        return activations\n",
        "    \n",
        "    def backward_pass(self, targets, layer_activations):\n",
        "        '''Executes the backpropogation algorithm.\n",
        "        \"targets\" is the ground truth/labels\n",
        "        \"layer_activations\" are the return value of the forward pass step\n",
        "        Returns \"deltas\", which is a list containing weight update values for all layers (excluding the input layer of course)'''\n",
        "\n",
        "        return deltas\n",
        "    \n",
        "    def weight_update(self, deltas, layer_inputs, lr):\n",
        "        '''Executes the gradient descent algorithm.\n",
        "        \"deltas\" is return value of the backward pass step\n",
        "        \"layer_inputs\" is a list containing the inputs for all layers (including the input layer)\n",
        "        \"lr\" is the learning rate'''\n",
        "    \n",
        "    def fit(self, Xs, Ys, epochs, lr=1e-3):\n",
        "        '''Trains the model on the given dataset for \"epoch\" number of itterations with step size=\"lr\". \n",
        "        Returns list containing loss for each epoch.'''\n",
        "        history = []\n",
        "        print(Xs.shape)\n",
        "        print(Ys.shape)\n",
        "        for epoch in tqdm_notebook(range(epochs)):\n",
        "            num_samples = Xs.shape[0]\n",
        "            for i in range(num_samples):\n",
        "                sample_input = Xs[i,:].reshape((1,self.input_shape))\n",
        "                sample_target = Ys[i,:].reshape((1,self.output_shape))\n",
        "                \n",
        "                activations =  None # Call forward_pass function  \n",
        "                deltas =  None # Call backward_pass function  \n",
        "\n",
        "                layer_inputs = [sample_input] + activations[:-1]\n",
        "                None # Call weight_update function  \n",
        "            preds = None # Call predict function \n",
        "            if self.mode == 'regression':\n",
        "                current_loss = self.mean_squared_error(preds, Ys)\n",
        "            elif self.mode == 'classification':\n",
        "                current_loss = self.cross_entropy_loss(preds, Ys)\n",
        "            history.append(current_loss)\n",
        "        return history\n",
        "    \n",
        "    def predict(self, Xs):\n",
        "        '''Returns the model predictions (output of the last layer) for the given \"Xs\".'''\n",
        "        predictions = []\n",
        "        num_samples = Xs.shape[0]\n",
        "        for i in range(num_samples):\n",
        "            sample = Xs[i,:].reshape((1,self.input_shape))\n",
        "            sample_prediction = self.forward_pass(sample)[-1]\n",
        "            predictions.append(sample_prediction.reshape((self.output_shape,)))\n",
        "        return np.array(predictions)\n",
        "    \n",
        "    def evaluate(self, Xs, Ys):\n",
        "        '''Returns appropriate metrics for the task, calculated on the dataset passed to this method.'''\n",
        "        pred = self.predict(Xs)\n",
        "        if self.mode == 'regression':\n",
        "            return self.mean_squared_error(pred, Ys)\n",
        "        elif self.mode == 'classification':\n",
        "            return self.cross_entropy_loss(pred, Ys), self.accuracy(pred.argmax(axis=1), Ys.argmax(axis=1))\n",
        "    \n",
        "    def plot_model(self, filename):\n",
        "        '''Provide the \"filename\" as a string including file extension. Creates an image showing the model as a graph.'''\n",
        "        graph = pydot.Dot(graph_type='digraph')\n",
        "        graph.set_rankdir('LR')\n",
        "        graph.set_node_defaults(shape='circle', fontsize=0)\n",
        "        for i in range(self.num_layers-1):\n",
        "            for n1 in range(self.nodes_per_layer[i]):\n",
        "                for n2 in range(self.nodes_per_layer[i+1]):\n",
        "                    edge = pydot.Edge(f'l{i}n{n1}', f'l{i+1}n{n2}')\n",
        "                    graph.add_edge(edge)\n",
        "        graph.write_png(filename)\n"
      ],
      "execution_count": null,
      "outputs": []
    },
    {
      "cell_type": "code",
      "metadata": {
        "id": "cmSEEOAgaIAF"
      },
      "source": [
        "nn = NeuralNetwork([2,5,2], 'classification')\n",
        "nn.plot_model('graph.png')\n",
        "Image('graph.png')"
      ],
      "execution_count": null,
      "outputs": []
    },
    {
      "cell_type": "code",
      "metadata": {
        "id": "rZPU52GyaLTC"
      },
      "source": [
        "\n",
        "\n",
        "dataset = pd.DataFrame({\n",
        "    'var1':   [0, 0, 1, 1],\n",
        "    'var2':   [0, 1, 0, 1],\n",
        "    'output': [0, 1, 1, 0],\n",
        "})\n",
        "dataset = pd.get_dummies(dataset, columns=['output'])\n",
        "dataset['output'] = pd.Series([0, 1, 1, 0])\n",
        "\n",
        "# starting time\n",
        "start = time.time()\n",
        "nn = NeuralNetwork([2,5,2], 'classification')\n",
        "history = nn.fit(dataset[['var1','var2']].values, dataset[['output_0','output_1']].values, epochs=3000, lr=0.01)\n",
        "plt.plot(history);\n",
        "plt.gca().set(xlabel='Epoch', ylabel='Cross-entropy', title='Training Plot {}'.format(rollnumber));\n",
        "# end time\n",
        "end = time.time()\n",
        "print(\"Runtime of the algorithm is \",round((end - start),3),\" seconds\")"
      ],
      "execution_count": null,
      "outputs": []
    },
    {
      "cell_type": "markdown",
      "metadata": {
        "id": "cnHUC1Wb1X3O"
      },
      "source": [
        "## Task 4 "
      ]
    },
    {
      "cell_type": "markdown",
      "metadata": {
        "id": "EacCocHS1X3O"
      },
      "source": [
        "You should copy your code from task3 as a starting point. You have to modify the forward and backward passes to use a different activation function; the Rectified Linear Unit (ReLu). You can look at the research papers or articles online for derivatives and other explanations. \n",
        "\n",
        "In this task you need to implement the activation function and its derivative yourself. You can use a separate function for derivative of activation function or include the expression in the derivative calculation. For classification, we will use softmax for output layer.\n",
        "\n"
      ]
    },
    {
      "cell_type": "code",
      "metadata": {
        "id": "dIoc-S811X3O"
      },
      "source": [
        "class NeuralNetwork():\n",
        "    @staticmethod\n",
        "    def mean_squared_error(y_pred, y_true):\n",
        "        # implement mean_squared_error function\n",
        "        #TO DO\n",
        "\n",
        "        return None\n",
        "    \n",
        "    @staticmethod\n",
        "    def cross_entropy_loss(y_pred, y_true):\n",
        "        # implement cross_entropy_loss function\n",
        "        #TO DO\n",
        "\n",
        "        return None\n",
        "    \n",
        "    @staticmethod\n",
        "    def accuracy(y_pred, y_true):\n",
        "        # implement accuracy function\n",
        "        #TO DO\n",
        "\n",
        "        return None\n",
        "    \n",
        "\n",
        "    @staticmethod\n",
        "    def relu(x):\n",
        "        # implement relu function\n",
        "        #TO DO\n",
        "\n",
        "        return None\n",
        "    \n",
        "    @staticmethod\n",
        "    def relu_der(x):\n",
        "        # implement relu_der function\n",
        "        #TO DO\n",
        "\n",
        "        return None\n",
        "\n",
        "        \n",
        "    @staticmethod\n",
        "    def softmax(x):\n",
        "        # implement softmax function\n",
        "        #TO DO\n",
        "\n",
        "        return None\n",
        "    \n",
        "    @staticmethod\n",
        "    def sigmoid(x):\n",
        "        # implement sigmoid function\n",
        "        #TO DO\n",
        "\n",
        "        return None\n",
        "    \n",
        "    def __init__(self, nodes_per_layer, mode):\n",
        "        '''Creates a Feed-Forward Neural Network.\n",
        "        \"nodes_per_layer\" is a list containing number of nodes in each layer (including input layer)\n",
        "        \"mode\" can be one of 'regression' or 'classification' and controls the output activation as well as training metric'''\n",
        "        if len(nodes_per_layer) < 2:\n",
        "            raise ValueError('Network must have atleast 2 layers (input and output).')\n",
        "        if not (np.array(nodes_per_layer) > 0).all():\n",
        "            raise ValueError('Number of nodes in all layers must be positive.')\n",
        "        if mode not in ['classification','regression']:\n",
        "            raise ValueError('Only \"classification\" and \"regression\" modes are supported.')\n",
        "        \n",
        "        self.num_layers = None # includes input layer\n",
        "        self.nodes_per_layer = None\n",
        "        self.input_shape = None\n",
        "        self.output_shape = None\n",
        "        self.mode = None\n",
        "        \n",
        "        \n",
        "        self.__init_weights(nodes_per_layer)\n",
        "    \n",
        "    def __init_weights(self, nodes_per_layer):\n",
        "        '''Initializes all weights based on standard normal distribution and all biases to 0.'''\n",
        "        self.weights_ = []\n",
        "        self.biases_ = []\n",
        "        for i,_ in enumerate(nodes_per_layer):\n",
        "            if i == 0:\n",
        "                # skip input layer, it does not have weights/bias\n",
        "                continue\n",
        "            \n",
        "            weight_matrix = np.random.normal(size=(None, None))\n",
        "            self.weights_.append(None)\n",
        "            bias_vector = np.zeros(shape=(None,))\n",
        "            self.biases_.append(None)\n",
        "\n",
        "    \n",
        "    def forward_pass(self, input_data):\n",
        "        '''Executes the feed forward algorithm.\n",
        "        \"input_data\" is the input to the network in row-major form\n",
        "        Returns \"activations\", which is a list of all layer outputs (excluding input layer of course)'''\n",
        "    \n",
        "        return activations\n",
        "    \n",
        "    def backward_pass(self, targets, layer_activations):\n",
        "        '''Executes the backpropogation algorithm.\n",
        "        \"targets\" is the ground truth/labels\n",
        "        \"layer_activations\" are the return value of the forward pass step\n",
        "        Returns \"deltas\", which is a list containing weight update values for all layers (excluding the input layer of course)'''\n",
        "        \n",
        "        return deltas\n",
        "\n",
        "    def weight_update(self, deltas, layer_inputs, lr):\n",
        "        '''Executes the gradient descent algorithm.\n",
        "        \"deltas\" is return value of the backward pass step\n",
        "        \"layer_inputs\" is a list containing the inputs for all layers (including the input layer)\n",
        "        \"lr\" is the learning rate'''\n",
        "            \n",
        "    def fit(self, Xs, Ys, epochs, lr=1e-3):\n",
        "        '''Trains the model on the given dataset for \"epoch\" number of itterations with step size=\"lr\". \n",
        "        Returns list containing loss for each epoch.'''\n",
        "        history = []\n",
        "        print(Xs.shape)\n",
        "        print(Ys.shape)\n",
        "        for epoch in tqdm_notebook(range(epochs)):\n",
        "            num_samples = Xs.shape[0]\n",
        "            for i in range(num_samples):\n",
        "                sample_input = Xs[i,:].reshape((1,self.input_shape))\n",
        "                sample_target = Ys[i,:].reshape((1,self.output_shape))\n",
        "                \n",
        "                activations =  None # Call forward_pass function  \n",
        "                deltas =  None # Call backward_pass function  \n",
        "\n",
        "                layer_inputs = [sample_input] + activations[:-1]\n",
        "                 None # Call weight_update function  \n",
        "            preds =  None # Call predict function  \n",
        "            if self.mode == 'regression':\n",
        "                current_loss = self.mean_squared_error(preds, Ys)\n",
        "            elif self.mode == 'classification':\n",
        "                current_loss = self.cross_entropy_loss(preds, Ys)\n",
        "            history.append(current_loss)\n",
        "        return history\n",
        "    \n",
        "    def predict(self, Xs):\n",
        "        '''Returns the model predictions (output of the last layer) for the given \"Xs\".'''\n",
        "        predictions = []\n",
        "        num_samples = Xs.shape[0]\n",
        "        for i in range(num_samples):\n",
        "            sample = Xs[i,:].reshape((1,self.input_shape))\n",
        "            sample_prediction = self.forward_pass(sample)[-1]\n",
        "            predictions.append(sample_prediction.reshape((self.output_shape,)))\n",
        "        return np.array(predictions)\n",
        "    \n",
        "    def evaluate(self, Xs, Ys):\n",
        "        '''Returns appropriate metrics for the task, calculated on the dataset passed to this method.'''\n",
        "        pred = self.predict(Xs)\n",
        "        if self.mode == 'regression':\n",
        "            return self.mean_squared_error(pred, Ys)\n",
        "        elif self.mode == 'classification':\n",
        "            return self.cross_entropy_loss(pred, Ys), self.accuracy(pred.argmax(axis=1), Ys.argmax(axis=1))\n",
        "    \n",
        "    def plot_model(self, filename):\n",
        "        '''Provide the \"filename\" as a string including file extension. Creates an image showing the model as a graph.'''\n",
        "        graph = pydot.Dot(graph_type='digraph')\n",
        "        graph.set_rankdir('LR')\n",
        "        graph.set_node_defaults(shape='circle', fontsize=0)\n",
        "        for i in range(self.num_layers-1):\n",
        "            for n1 in range(self.nodes_per_layer[i]):\n",
        "                for n2 in range(self.nodes_per_layer[i+1]):\n",
        "                    edge = pydot.Edge(f'l{i}n{n1}', f'l{i+1}n{n2}')\n",
        "                    graph.add_edge(edge)\n",
        "        graph.write_png(filename)\n"
      ],
      "execution_count": null,
      "outputs": []
    },
    {
      "cell_type": "code",
      "metadata": {
        "id": "FaYKKAhAaO_z"
      },
      "source": [
        "nn = NeuralNetwork([1,10,1], 'regression')\n",
        "nn.plot_model('graph.png')\n",
        "Image('graph.png')"
      ],
      "execution_count": null,
      "outputs": []
    },
    {
      "cell_type": "code",
      "metadata": {
        "id": "eAPN7qABaSal"
      },
      "source": [
        "reg = LinearRegression()\n",
        "reg = reg.fit(data_x[:,0].reshape((200,1)), data_x[:,1].reshape((200,1)));\n",
        "\n",
        "d = np.arange(-1.5, 2.5, 0.1).reshape((40,1))\n",
        "preds = reg.predict(d)\n",
        "\n",
        "\n",
        "fig, ax = plt.subplots()\n",
        "ax.scatter(data_x[:,0].reshape((200,1)), data_x[:,1].reshape((200,1)));\n",
        "ax.plot(d.flatten(), preds.flatten(), c='tab:red', label='Prediction');\n",
        "ax.set(xlabel='Input Feature', ylabel='Target Variable', title='Linear Regression {}'.format(rollnumber));\n",
        "ax.legend();"
      ],
      "execution_count": null,
      "outputs": []
    },
    {
      "cell_type": "code",
      "metadata": {
        "id": "pYQdWYulaaCc"
      },
      "source": [
        "\n",
        "# starting time\n",
        "start = time.time()\n",
        "\n",
        "nn = NeuralNetwork([1,10,1], 'regression')\n",
        "history = nn.fit(data_x[:,0].reshape((200,1)), data_x[:,1].reshape((200,1)), epochs=400, lr=1e-4)\n",
        "preds = nn.predict(d)\n",
        "plt.plot(history);\n",
        "plt.gca().set(xlabel='Epoch', ylabel='MSE', title='Training Plot {}'.format(rollnumber));\n",
        "# end time\n",
        "end = time.time()\n",
        "print(\"Runtime of the algorithm is \",round((end - start),3),\" seconds\")"
      ],
      "execution_count": null,
      "outputs": []
    },
    {
      "cell_type": "code",
      "metadata": {
        "id": "Z594nRfAabti"
      },
      "source": [
        "fig, ax = plt.subplots()\n",
        "ax.scatter(data_x[:,0].reshape((200,1)), data_x[:,1].reshape((200,1)));\n",
        "ax.plot(d.flatten(), preds.flatten(), c='tab:red', label='Prediction');\n",
        "ax.set(xlabel='Input Feature', ylabel='Target Variable', title='Neural Network Regression {}'.format(rollnumber));\n",
        "ax.legend();"
      ],
      "execution_count": null,
      "outputs": []
    },
    {
      "cell_type": "markdown",
      "metadata": {
        "heading_collapsed": true,
        "id": "3_auIRSE1X3P"
      },
      "source": [
        "## Task 5"
      ]
    },
    {
      "cell_type": "markdown",
      "metadata": {
        "hidden": true,
        "id": "IP7C4gt-1X3Q"
      },
      "source": [
        "Again, if it helps copy only your code from Task3 as a starting point in the next cell. To cap off this assignment you will fully vectorize your implementation. This means changing the primary functions again. There will be a handout on LMS to explain this further.\n",
        "\n",
        "After you do this, the runtime of the `fit` function will just be $O(e)$ (again, assuming all functions called in the loop take constant time)."
      ]
    },
    {
      "cell_type": "code",
      "metadata": {
        "ExecuteTime": {
          "end_time": "2019-01-27T01:30:16.547173Z",
          "start_time": "2019-01-27T01:30:16.441918Z"
        },
        "hidden": true,
        "id": "VO5Qq8i21X3Q"
      },
      "source": [
        "class NeuralNetwork():\n",
        "    @staticmethod\n",
        "    def mean_squared_error(y_pred, y_true):\n",
        "        # implement mean_squared_error function\n",
        "        #TO DO\n",
        "\n",
        "        return None\n",
        "    \n",
        "    @staticmethod\n",
        "    def cross_entropy_loss(y_pred, y_true):\n",
        "        # implement cross_entropy_loss function\n",
        "        #TO DO\n",
        "\n",
        "        return None\n",
        "    \n",
        "    @staticmethod\n",
        "    def accuracy(y_pred, y_true):\n",
        "        # implement accuracy function\n",
        "        #TO DO\n",
        "\n",
        "        return None\n",
        "    \n",
        "    @staticmethod\n",
        "    def softmax(x):\n",
        "        # implement softmax function\n",
        "        #TO DO\n",
        "\n",
        "        return None\n",
        "    \n",
        "    @staticmethod\n",
        "    def sigmoid(x):\n",
        "        # implement sigmoid function\n",
        "        #TO DO\n",
        "\n",
        "        return None\n",
        "    \n",
        "    \n",
        "    def __init__(self, nodes_per_layer, mode):\n",
        "        '''Creates a Feed-Forward Neural Network.\n",
        "        \"nodes_per_layer\" is a list containing number of nodes in each layer (including input layer)\n",
        "        \"mode\" can be one of 'regression' or 'classification' and controls the output activation as well as training metric'''\n",
        "        if len(nodes_per_layer) < 2:\n",
        "            raise ValueError('Network must have atleast 2 layers (input and output).')\n",
        "        if not (np.array(nodes_per_layer) > 0).all():\n",
        "            raise ValueError('Number of nodes in all layers must be positive.')\n",
        "        if mode not in ['classification','regression']:\n",
        "            raise ValueError('Only \"classification\" and \"regression\" modes are supported.')\n",
        "        \n",
        "        self.num_layers = None # includes input layer\n",
        "        self.nodes_per_layer = None\n",
        "        self.input_shape = None\n",
        "        self.output_shape = None\n",
        "        self.mode = None\n",
        "        \n",
        "        self.__init_weights(nodes_per_layer)\n",
        "    \n",
        "    def __init_weights(self, nodes_per_layer):\n",
        "        '''Initializes all weights based on standard normal distribution and all biases to 0.'''\n",
        "        self.weights_ = []\n",
        "        self.biases_ = []\n",
        "        for i,_ in enumerate(nodes_per_layer):\n",
        "            if i == 0:\n",
        "                # skip input layer, it does not have weights/bias\n",
        "                continue\n",
        "            \n",
        "            weight_matrix = np.random.normal(size=(None, None))\n",
        "            self.weights_.append(None)\n",
        "            bias_vector = np.zeros(shape=(None,))\n",
        "            self.biases_.append(None)\n",
        "    \n",
        "\n",
        "    def forward_pass(self, input_data):\n",
        "        '''Executes the feed forward algorithm.\n",
        "        \"input_data\" is the input to the network in row-major form\n",
        "        Returns \"activations\", which is a list of all layer outputs (excluding input layer of course)'''\n",
        "\n",
        "        return activations\n",
        "    \n",
        "    def backward_pass(self, targets, layer_activations):\n",
        "        '''Executes the backpropogation algorithm.\n",
        "        \"targets\" is the ground truth/labels\n",
        "        \"layer_activations\" are the return value of the forward pass step\n",
        "        Returns \"deltas\", which is a list containing weight update values for all layers (excluding the input layer of course)'''\n",
        "\n",
        "\n",
        "        return deltas\n",
        "\n",
        "    def weight_update(self, deltas, layer_inputs, lr):\n",
        "        '''Executes the gradient descent algorithm.\n",
        "        \"deltas\" is return value of the backward pass step\n",
        "        \"layer_inputs\" is a list containing the inputs for all layers (including the input layer)\n",
        "        \"lr\" is the learning rate'''\n",
        "\n",
        "\n",
        "    \n",
        "    def fit(self, Xs, Ys, epochs, lr=1e-3):\n",
        "        '''Trains the model on the given dataset for \"epoch\" number of itterations with step size=\"lr\". \n",
        "        Returns list containing loss for each epoch.'''\n",
        "        history = []\n",
        "        print(Xs.shape)\n",
        "        print(Ys.shape)\n",
        "        for epoch in tqdm_notebook(range(epochs)):\n",
        "            num_samples = Xs.shape[0]\n",
        "            for i in range(num_samples):\n",
        "                sample_input = Xs[i,:].reshape((1,self.input_shape))\n",
        "                sample_target = Ys[i,:].reshape((1,self.output_shape))\n",
        "                \n",
        "                activations = None # Call forward_pass function\n",
        "                deltas = None # Call backward_pass function \n",
        "\n",
        "                layer_inputs = [sample_input] + activations[:-1]\n",
        "                None # Call weight_update function\n",
        "            preds = None # Call predict function self.(Xs)\n",
        "            if self.mode == 'regression':\n",
        "                current_loss = self.mean_squared_error(preds, Ys)\n",
        "            elif self.mode == 'classification':\n",
        "                current_loss = self.cross_entropy_loss(preds, Ys)\n",
        "            if  (epoch==epochs-1) and (self.mode == 'classification') and (self.confusion_matrix==True):\n",
        "                  confusion_mat=confusion_matrix(Ys.argmax(axis=1), preds.argmax(axis=1))  \n",
        "                  plot_confusion_matrix(confusion_mat)\n",
        "                  report = classification_report(Ys, np_utils.to_categorical(preds.argmax(axis=1)), target_names=class_labels)\n",
        "                  print(report)\n",
        "            history.append(current_loss)\n",
        "        return history\n",
        "    \n",
        "    def predict(self, Xs):\n",
        "        '''Returns the model predictions (output of the last layer) for the given \"Xs\".'''\n",
        "        predictions = []\n",
        "        num_samples = Xs.shape[0]\n",
        "        for i in range(num_samples):\n",
        "            sample = Xs[i,:].reshape((1,self.input_shape))\n",
        "            sample_prediction = self.forward_pass(sample)[-1]\n",
        "            predictions.append(sample_prediction.reshape((self.output_shape,)))\n",
        "        return np.array(predictions)\n",
        "    \n",
        "    def evaluate(self, Xs, Ys):\n",
        "        '''Returns appropriate metrics for the task, calculated on the dataset passed to this method.'''\n",
        "        pred = self.predict(Xs)\n",
        "        if self.mode == 'regression':\n",
        "            return self.mean_squared_error(pred, Ys)\n",
        "        elif self.mode == 'classification':\n",
        "            return self.cross_entropy_loss(pred, Ys), self.accuracy(pred.argmax(axis=1), Ys.argmax(axis=1))\n",
        "    \n",
        "    def plot_model(self, filename):\n",
        "        '''Provide the \"filename\" as a string including file extension. Creates an image showing the model as a graph.'''\n",
        "        graph = pydot.Dot(graph_type='digraph')\n",
        "        graph.set_rankdir('LR')\n",
        "        graph.set_node_defaults(shape='circle', fontsize=0)\n",
        "        for i in range(self.num_layers-1):\n",
        "            for n1 in range(self.nodes_per_layer[i]):\n",
        "                for n2 in range(self.nodes_per_layer[i+1]):\n",
        "                    edge = pydot.Edge(f'l{i}n{n1}', f'l{i+1}n{n2}')\n",
        "                    graph.add_edge(edge)\n",
        "        graph.write_png(filename)\n"
      ],
      "execution_count": null,
      "outputs": []
    },
    {
      "cell_type": "markdown",
      "metadata": {
        "id": "DzuTlqp_fEVa"
      },
      "source": [
        "### Classification for Task5"
      ]
    },
    {
      "cell_type": "markdown",
      "metadata": {
        "id": "0_yCf5Yjc7Xs"
      },
      "source": [
        "You will repeat the classfication task on Fashion Mnist dataset. You can change the hidden layers and their sizes to acheive the optimal results. We have passed the confusion_matrix=True for this classification task only."
      ]
    },
    {
      "cell_type": "code",
      "metadata": {
        "id": "5uuby_MMaf4c"
      },
      "source": [
        "# starting time\n",
        "start = time.time()\n",
        "# Define the input size and output size of  Fashion MNIST dataset\n",
        "\n",
        "# You can change the number of hidden layers and their sizes  to get the optimal results\n",
        "\n",
        "nn = NeuralNetwork(nodes_per_layer=[None,None,None],mode='classification',confusion_matrix=True)\n",
        "# You can tweak the learning rate and epochs to get the optimal results\n",
        "history = nn.fit(X_train, y_train, epochs=10, lr=0.01)\n",
        "plt.plot(history);\n",
        "plt.gca().set(xlabel='Epoch', ylabel='Cross-entropy', title='Training Plot {}'.format(rollnumber));\n",
        "# end time\n",
        "end = time.time()\n",
        "print(\"Runtime of the algorithm is \",round((end - start),3),\" seconds\")"
      ],
      "execution_count": null,
      "outputs": []
    },
    {
      "cell_type": "markdown",
      "metadata": {
        "id": "H6ejc_fZfAJt"
      },
      "source": [
        "### Regression for Task5"
      ]
    },
    {
      "cell_type": "code",
      "metadata": {
        "hidden": true,
        "id": "W3VPzZYc1X3Q"
      },
      "source": [
        "reg = LinearRegression()\n",
        "reg = reg.fit(data_x[:,0].reshape((200,1)), data_x[:,1].reshape((200,1)));\n",
        "d = np.arange(-1.5, 2.5, 0.1).reshape((40,1))\n",
        "preds = reg.predict(d)"
      ],
      "execution_count": null,
      "outputs": []
    },
    {
      "cell_type": "code",
      "metadata": {
        "id": "GfMJiELGahgb"
      },
      "source": [
        "fig, ax = plt.subplots()\n",
        "ax.scatter(data_x[:,0].reshape((200,1)), data_x[:,1].reshape((200,1)));\n",
        "ax.plot(d.flatten(), preds.flatten(), c='tab:red', label='Prediction');\n",
        "ax.set(xlabel='Input Feature', ylabel='Target Variable', title='Linear Regression {}'.format(rollnumber));\n",
        "ax.legend();"
      ],
      "execution_count": null,
      "outputs": []
    },
    {
      "cell_type": "code",
      "metadata": {
        "id": "HKgz6LMMajMb"
      },
      "source": [
        "\n",
        "# starting time\n",
        "start = time.time()\n",
        "\n",
        "nn = NeuralNetwork([1,10,20,10,1], 'regression')\n",
        "history = nn.fit(data_x[:,0].reshape((200,1)), data_x[:,1].reshape((200,1)), epochs=2000, lr=1e-4)\n",
        "preds = nn.predict(d)\n",
        "plt.plot(history);\n",
        "plt.gca().set(xlabel='Epoch', ylabel='MSE', title='Training Plot {}'.format(rollnumber));\n",
        "# end time\n",
        "end = time.time()\n",
        "print(\"Runtime of the algorithm is \",round((end - start),3),\" seconds\")"
      ],
      "execution_count": null,
      "outputs": []
    },
    {
      "cell_type": "code",
      "metadata": {
        "id": "u5Dmuhw_akdw"
      },
      "source": [
        "fig, ax = plt.subplots()\n",
        "ax.scatter(data_x[:,0].reshape((200,1)), data_x[:,1].reshape((200,1)));\n",
        "ax.plot(d.flatten(), preds.flatten(), c='tab:red', label='Prediction');\n",
        "ax.set(xlabel='Input Feature', ylabel='Target Variable', title='Neural Network Regression {}'.format(rollnumber));\n",
        "ax.legend();"
      ],
      "execution_count": null,
      "outputs": []
    },
    {
      "cell_type": "markdown",
      "metadata": {
        "id": "RBvu79d61X3R"
      },
      "source": [
        "## Dummy Regression Task"
      ]
    },
    {
      "cell_type": "code",
      "metadata": {
        "ExecuteTime": {
          "end_time": "2019-01-27T01:33:04.290893Z",
          "start_time": "2019-01-27T01:33:03.930796Z"
        },
        "id": "R5Yx6qYw1X3R",
        "colab": {
          "base_uri": "https://localhost:8080/",
          "height": 221
        },
        "outputId": "92c033e3-dc51-42be-d31a-7086a89588e3"
      },
      "source": [
        "a = np.random.uniform(low=0.0, high=0.5, size=(150,))\n",
        "b = np.random.uniform(low=0.0, high=0.5, size=(150,))\n",
        "dataset = pd.DataFrame({\n",
        "    'var1':   a,\n",
        "    'var2':   b,\n",
        "    'output': a+b,\n",
        "})\n",
        "print(dataset.shape)\n",
        "dataset.head()"
      ],
      "execution_count": null,
      "outputs": [
        {
          "output_type": "stream",
          "text": [
            "(150, 3)\n"
          ],
          "name": "stdout"
        },
        {
          "output_type": "execute_result",
          "data": {
            "text/html": [
              "<div>\n",
              "<style scoped>\n",
              "    .dataframe tbody tr th:only-of-type {\n",
              "        vertical-align: middle;\n",
              "    }\n",
              "\n",
              "    .dataframe tbody tr th {\n",
              "        vertical-align: top;\n",
              "    }\n",
              "\n",
              "    .dataframe thead th {\n",
              "        text-align: right;\n",
              "    }\n",
              "</style>\n",
              "<table border=\"1\" class=\"dataframe\">\n",
              "  <thead>\n",
              "    <tr style=\"text-align: right;\">\n",
              "      <th></th>\n",
              "      <th>var1</th>\n",
              "      <th>var2</th>\n",
              "      <th>output</th>\n",
              "    </tr>\n",
              "  </thead>\n",
              "  <tbody>\n",
              "    <tr>\n",
              "      <th>0</th>\n",
              "      <td>0.230785</td>\n",
              "      <td>0.447153</td>\n",
              "      <td>0.677938</td>\n",
              "    </tr>\n",
              "    <tr>\n",
              "      <th>1</th>\n",
              "      <td>0.073288</td>\n",
              "      <td>0.334457</td>\n",
              "      <td>0.407745</td>\n",
              "    </tr>\n",
              "    <tr>\n",
              "      <th>2</th>\n",
              "      <td>0.135651</td>\n",
              "      <td>0.347177</td>\n",
              "      <td>0.482828</td>\n",
              "    </tr>\n",
              "    <tr>\n",
              "      <th>3</th>\n",
              "      <td>0.225609</td>\n",
              "      <td>0.085172</td>\n",
              "      <td>0.310781</td>\n",
              "    </tr>\n",
              "    <tr>\n",
              "      <th>4</th>\n",
              "      <td>0.178383</td>\n",
              "      <td>0.469573</td>\n",
              "      <td>0.647956</td>\n",
              "    </tr>\n",
              "  </tbody>\n",
              "</table>\n",
              "</div>"
            ],
            "text/plain": [
              "       var1      var2    output\n",
              "0  0.230785  0.447153  0.677938\n",
              "1  0.073288  0.334457  0.407745\n",
              "2  0.135651  0.347177  0.482828\n",
              "3  0.225609  0.085172  0.310781\n",
              "4  0.178383  0.469573  0.647956"
            ]
          },
          "metadata": {
            "tags": []
          },
          "execution_count": 45
        }
      ]
    },
    {
      "cell_type": "code",
      "metadata": {
        "id": "Uap7F2RwamJ0"
      },
      "source": [
        "nn = NeuralNetwork([2,3,5,1], 'regression')\n",
        "nn.plot_model('graph.png')\n",
        "Image('graph.png')"
      ],
      "execution_count": null,
      "outputs": []
    },
    {
      "cell_type": "code",
      "metadata": {
        "id": "iIE9otHZanbG"
      },
      "source": [
        "history = nn.fit(dataset[['var1','var2']].values, dataset[['output']].values, epochs=2000, lr=0.001)\n",
        "plt.plot(history);\n",
        "plt.gca().set(xlabel='Epoch', ylabel='MSE', title='Training Plot {}'.format(rollnumber));"
      ],
      "execution_count": null,
      "outputs": []
    },
    {
      "cell_type": "code",
      "metadata": {
        "id": "yzSetAzhaoru"
      },
      "source": [
        "test_data = np.array([[0.4,0.1],\n",
        "                      [0.2,0.3]])\n",
        "nn.predict(test_data)"
      ],
      "execution_count": null,
      "outputs": []
    },
    {
      "cell_type": "markdown",
      "metadata": {
        "id": "wtcL--GE1X3S"
      },
      "source": [
        "## Dummy Classification Task"
      ]
    },
    {
      "cell_type": "code",
      "metadata": {
        "ExecuteTime": {
          "end_time": "2019-01-27T01:33:56.370640Z",
          "start_time": "2019-01-27T01:33:56.320595Z"
        },
        "id": "O-i7Y1Ud1X3T",
        "colab": {
          "base_uri": "https://localhost:8080/",
          "height": 190
        },
        "outputId": "91a727a5-9079-48ef-f7c6-58879a9877e3"
      },
      "source": [
        "# XOR logic operator\n",
        "dataset = pd.DataFrame({\n",
        "    'var1':   [0, 0, 1, 1],\n",
        "    'var2':   [0, 1, 0, 1],\n",
        "    'output': [0, 1, 1, 0],\n",
        "})\n",
        "dataset = pd.get_dummies(dataset, columns=['output'])\n",
        "dataset['output'] = pd.Series([0, 1, 1, 0])\n",
        "print(dataset.shape)\n",
        "dataset.head()\n",
        "# The columns 'output_0' and 'output_1' are one-hot encoded representation of the categorical column 'output'"
      ],
      "execution_count": null,
      "outputs": [
        {
          "output_type": "stream",
          "text": [
            "(4, 5)\n"
          ],
          "name": "stdout"
        },
        {
          "output_type": "execute_result",
          "data": {
            "text/html": [
              "<div>\n",
              "<style scoped>\n",
              "    .dataframe tbody tr th:only-of-type {\n",
              "        vertical-align: middle;\n",
              "    }\n",
              "\n",
              "    .dataframe tbody tr th {\n",
              "        vertical-align: top;\n",
              "    }\n",
              "\n",
              "    .dataframe thead th {\n",
              "        text-align: right;\n",
              "    }\n",
              "</style>\n",
              "<table border=\"1\" class=\"dataframe\">\n",
              "  <thead>\n",
              "    <tr style=\"text-align: right;\">\n",
              "      <th></th>\n",
              "      <th>var1</th>\n",
              "      <th>var2</th>\n",
              "      <th>output_0</th>\n",
              "      <th>output_1</th>\n",
              "      <th>output</th>\n",
              "    </tr>\n",
              "  </thead>\n",
              "  <tbody>\n",
              "    <tr>\n",
              "      <th>0</th>\n",
              "      <td>0</td>\n",
              "      <td>0</td>\n",
              "      <td>1</td>\n",
              "      <td>0</td>\n",
              "      <td>0</td>\n",
              "    </tr>\n",
              "    <tr>\n",
              "      <th>1</th>\n",
              "      <td>0</td>\n",
              "      <td>1</td>\n",
              "      <td>0</td>\n",
              "      <td>1</td>\n",
              "      <td>1</td>\n",
              "    </tr>\n",
              "    <tr>\n",
              "      <th>2</th>\n",
              "      <td>1</td>\n",
              "      <td>0</td>\n",
              "      <td>0</td>\n",
              "      <td>1</td>\n",
              "      <td>1</td>\n",
              "    </tr>\n",
              "    <tr>\n",
              "      <th>3</th>\n",
              "      <td>1</td>\n",
              "      <td>1</td>\n",
              "      <td>1</td>\n",
              "      <td>0</td>\n",
              "      <td>0</td>\n",
              "    </tr>\n",
              "  </tbody>\n",
              "</table>\n",
              "</div>"
            ],
            "text/plain": [
              "   var1  var2  output_0  output_1  output\n",
              "0     0     0         1         0       0\n",
              "1     0     1         0         1       1\n",
              "2     1     0         0         1       1\n",
              "3     1     1         1         0       0"
            ]
          },
          "metadata": {
            "tags": []
          },
          "execution_count": 49
        }
      ]
    },
    {
      "cell_type": "code",
      "metadata": {
        "id": "2OgJQGb0arxB"
      },
      "source": [
        "nn = NeuralNetwork([2,5,2], 'classification')\n",
        "nn.plot_model('graph.png')\n",
        "Image('graph.png')"
      ],
      "execution_count": null,
      "outputs": []
    },
    {
      "cell_type": "code",
      "metadata": {
        "id": "E6KnM5JoatU_"
      },
      "source": [
        "history = nn.fit(dataset[['var1','var2']].values, dataset[['output_0','output_1']].values, epochs=3000, lr=0.01)\n",
        "plt.plot(history);\n",
        "plt.gca().set(xlabel='Epoch', ylabel='Cross-entropy', title='Training Plot {}'.format(rollnumber));"
      ],
      "execution_count": null,
      "outputs": []
    },
    {
      "cell_type": "code",
      "metadata": {
        "id": "pMeUOr0wau_T"
      },
      "source": [
        "nn.predict(dataset[['var1','var2']].values).argmax(axis=1) == dataset[['output_0','output_1']].values.argmax(axis=1)"
      ],
      "execution_count": null,
      "outputs": []
    },
    {
      "cell_type": "markdown",
      "metadata": {
        "id": "ibnra4Hz1X3U"
      },
      "source": [
        "## Regression Demo"
      ]
    },
    {
      "cell_type": "markdown",
      "metadata": {
        "id": "aZTtDwbW1X3U"
      },
      "source": [
        "Code for Demos adapted from tutorial 1, refer to it if you need a refresher (available on LMS)"
      ]
    },
    {
      "cell_type": "code",
      "metadata": {
        "ExecuteTime": {
          "end_time": "2019-01-27T01:34:17.130755Z",
          "start_time": "2019-01-27T01:34:16.900688Z"
        },
        "id": "Qul7Yh7C1X3U",
        "colab": {
          "base_uri": "https://localhost:8080/",
          "height": 358
        },
        "outputId": "a7d09e81-58a7-4bea-c26e-d2a4a14ecc27"
      },
      "source": [
        "data_x, _ = make_moons(200, noise=0.18)\n",
        "plt.scatter(data_x[:,0], data_x[:,1]);"
      ],
      "execution_count": null,
      "outputs": [
        {
          "output_type": "display_data",
          "data": {
            "image/png": "[encoded data removed]",
            "text/plain": [
              "<Figure size 576x396 with 1 Axes>"
            ]
          },
          "metadata": {
            "tags": []
          }
        }
      ]
    },
    {
      "cell_type": "code",
      "metadata": {
        "ExecuteTime": {
          "end_time": "2019-01-27T01:34:20.010456Z",
          "start_time": "2019-01-27T01:34:19.400302Z"
        },
        "id": "zwNfkIqH1X3U"
      },
      "source": [
        "reg = LinearRegression()\n",
        "reg = reg.fit(data_x[:,0].reshape((200,1)), data_x[:,1].reshape((200,1)));\n",
        "\n",
        "d = np.arange(-1.5, 2.5, 0.1).reshape((40,1))\n",
        "preds = reg.predict(d)"
      ],
      "execution_count": null,
      "outputs": []
    },
    {
      "cell_type": "code",
      "metadata": {
        "id": "P9w0I9RXaxK8"
      },
      "source": [
        "fig, ax = plt.subplots()\n",
        "ax.scatter(data_x[:,0].reshape((200,1)), data_x[:,1].reshape((200,1)));\n",
        "ax.plot(d.flatten(), preds.flatten(), c='tab:red', label='Prediction');\n",
        "ax.set(xlabel='Input Feature', ylabel='Target Variable', title='Linear Regression {}'.format(rollnumber));\n",
        "ax.legend();"
      ],
      "execution_count": null,
      "outputs": []
    },
    {
      "cell_type": "code",
      "metadata": {
        "id": "hjByvs0zayqO"
      },
      "source": [
        "nn = NeuralNetwork([1,10,20,10,1], 'regression')\n",
        "history = nn.fit(data_x[:,0].reshape((200,1)), data_x[:,1].reshape((200,1)), epochs=20000, lr=1e-4)\n",
        "preds = nn.predict(d)\n",
        "plt.plot(history);\n",
        "plt.gca().set(xlabel='Epoch', ylabel='MSE', title='Training Plot {}'.format(rollnumber));"
      ],
      "execution_count": null,
      "outputs": []
    },
    {
      "cell_type": "code",
      "metadata": {
        "id": "x1ke6w9eazu9"
      },
      "source": [
        "fig, ax = plt.subplots()\n",
        "ax.scatter(data_x[:,0].reshape((200,1)), data_x[:,1].reshape((200,1)));\n",
        "ax.plot(d.flatten(), preds.flatten(), c='tab:red', label='Prediction');\n",
        "ax.set(xlabel='Input Feature', ylabel='Target Variable', title='Neural Network Regression {}'.format(rollnumber));\n",
        "ax.legend();"
      ],
      "execution_count": null,
      "outputs": []
    },
    {
      "cell_type": "markdown",
      "metadata": {
        "heading_collapsed": true,
        "id": "qQ9VCox-1X3V"
      },
      "source": [
        "## Classification Demo"
      ]
    },
    {
      "cell_type": "code",
      "metadata": {
        "ExecuteTime": {
          "end_time": "2019-01-27T01:35:05.630191Z",
          "start_time": "2019-01-27T01:35:05.600080Z"
        },
        "hidden": true,
        "id": "oF3wk8I-1X3V"
      },
      "source": [
        "# Helper function to plot a decision boundary.\n",
        "# If you don't fully understand this function don't worry\n",
        "def plot_decision_boundary(pred_func, x_min, x_max, y_min, y_max, cmap, ax):\n",
        "    h = 0.01\n",
        "    # Generate a grid of points with distance h between them\n",
        "    xx, yy = np.meshgrid(np.arange(x_min, x_max, h), np.arange(y_min, y_max, h))\n",
        "    # Predict the function value for the whole gid\n",
        "    Z = pred_func(np.c_[xx.flatten(), yy.flatten()])\n",
        "    Z = Z.reshape(xx.shape)\n",
        "    # Plot the contour\n",
        "    ax.contourf(xx, yy, Z, cmap=cmap, alpha=0.5)"
      ],
      "execution_count": null,
      "outputs": []
    },
    {
      "cell_type": "code",
      "metadata": {
        "id": "_0ij_Xhya1Dp"
      },
      "source": [
        "data_x, data_y = make_moons(200, noise=0.20)\n",
        "plt.scatter(data_x[:,0], data_x[:,1], c=data_y, cmap=plt.cm.Spectral);\n",
        "plt.gca().set(xlabel='Feature 1', ylabel='Feature 2');"
      ],
      "execution_count": null,
      "outputs": []
    },
    {
      "cell_type": "code",
      "metadata": {
        "ExecuteTime": {
          "end_time": "2019-01-27T01:35:09.680260Z",
          "start_time": "2019-01-27T01:35:09.399995Z"
        },
        "hidden": true,
        "id": "2XR9ALbf1X3W"
      },
      "source": [
        "clf = LogisticRegression(solver='lbfgs')\n",
        "clf = clf.fit(data_x, data_y);"
      ],
      "execution_count": null,
      "outputs": []
    },
    {
      "cell_type": "code",
      "metadata": {
        "id": "Y-tNt9g3a2T6"
      },
      "source": [
        "fig, ax = plt.subplots()\n",
        "x_min, x_max = data_x[:, 0].min() - .5, data_x[:, 0].max() + .5\n",
        "y_min, y_max = data_x[:, 1].min() - .5, data_x[:, 1].max() + .5\n",
        "plot_decision_boundary(lambda x: clf.predict(x), \n",
        "                       x_min, x_max, y_min, y_max, \n",
        "                       plt.cm.Spectral, ax)\n",
        "ax.scatter(data_x[:,0], data_x[:,1], c=data_y, cmap=plt.cm.Spectral);\n",
        "ax.set(xlabel='Feature 1', ylabel='Feature 2', title='Logistic Regression Classifier {}'.format(rollnumber));"
      ],
      "execution_count": null,
      "outputs": []
    },
    {
      "cell_type": "code",
      "metadata": {
        "id": "OBh65XGea5Kb"
      },
      "source": [
        "nn = NeuralNetwork([2,10,10,2], 'classification')\n",
        "history = nn.fit(data_x, pd.get_dummies(data_y).values, epochs=2000, lr=1e-3)\n",
        "plt.plot(history);\n",
        "plt.gca().set(xlabel='Epoch', ylabel='Cross-entropy', title='Training Plot {}'.format(rollnumber));"
      ],
      "execution_count": null,
      "outputs": []
    },
    {
      "cell_type": "code",
      "metadata": {
        "id": "kt71VoK2a6Jp"
      },
      "source": [
        "fig, ax = plt.subplots()\n",
        "x_min, x_max = data_x[:, 0].min() - .5, data_x[:, 0].max() + .5\n",
        "y_min, y_max = data_x[:, 1].min() - .5, data_x[:, 1].max() + .5\n",
        "plot_decision_boundary(lambda x: nn.predict(x).argmax(axis=1), \n",
        "                       x_min, x_max, y_min, y_max, \n",
        "                       plt.cm.Spectral, ax)\n",
        "ax.scatter(data_x[:,0], data_x[:,1], c=data_y, cmap=plt.cm.Spectral);\n",
        "ax.set(xlabel='Feature 1', ylabel='Feature 2', title='Neural Network Classifier {}'.format(rollnumber));"
      ],
      "execution_count": null,
      "outputs": []
    }
  ]
}