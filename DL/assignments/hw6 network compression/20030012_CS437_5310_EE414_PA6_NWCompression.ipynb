{
  "nbformat": 4,
  "nbformat_minor": 0,
  "metadata": {
    "colab": {
      "name": "V1_CS437_5310_EE414_PA6_NWCompression.ipynb",
      "provenance": [],
      "collapsed_sections": []
    },
    "kernelspec": {
      "name": "python3",
      "display_name": "Python 3"
    },
    "language_info": {
      "name": "python"
    },
    "accelerator": "GPU"
  },
  "cells": [
    {
      "cell_type": "code",
      "metadata": {
        "id": "OEQiExhUOu1F"
      },
      "source": [
        "from __future__ import absolute_import\n",
        "from __future__ import print_function\n",
        "import os\n",
        "import itertools\n",
        "import numpy as np\n",
        "np.random.seed(1337)  # for reproducibility\n",
        "\n",
        "from tensorflow.keras import regularizers\n",
        "from tensorflow.keras.datasets import cifar10,mnist,fashion_mnist,cifar100\n",
        "from tensorflow.keras.models import Sequential\n",
        "from tensorflow.keras.layers import Dense, Dropout, Activation, Flatten,Lambda\n",
        "from tensorflow.keras.layers import Convolution2D, MaxPooling2D\n",
        "from tensorflow.keras.optimizers import SGD, Adadelta, Adagrad\n",
        "import tensorflow.keras.backend as K\n",
        "from tensorflow.python.framework.ops import Tensor\n",
        "from tensorflow.keras.layers import Input\n",
        "from tensorflow.keras.models import Model\n",
        "from tensorflow.keras.layers import Conv2D, MaxPooling2D\n",
        "from tensorflow.keras.layers import Layer,Flatten,BatchNormalization\n",
        "from tensorflow.python.keras.engine.input_layer import InputLayer\n",
        "from tensorflow.keras.constraints import max_norm,MinMaxNorm\n",
        "import tensorflow as tf\n",
        "import tensorflow.keras as keras\n",
        "from tensorflow.keras.preprocessing.image import ImageDataGenerator\n",
        "from tensorflow.keras.utils import plot_model\n",
        "from tensorflow.keras.applications.vgg16 import VGG16\n",
        "from tensorflow.keras.callbacks import ModelCheckpoint\n",
        "#tf.compat.v1.disable_eager_execution()"
      ],
      "execution_count": 4,
      "outputs": []
    },
    {
      "cell_type": "markdown",
      "metadata": {
        "id": "ctMPBEOfnaJX"
      },
      "source": [
        "Run this cell if you want to use keras sergeon for complete removel of filters"
      ]
    },
    {
      "cell_type": "code",
      "metadata": {
        "id": "HuoN6RGIOzzx",
        "colab": {
          "base_uri": "https://localhost:8080/"
        },
        "outputId": "91a4623b-19e3-42f0-d707-98a5109db2eb"
      },
      "source": [
        "#use while filter pruning via Keras-Sergeon\n",
        "! pip uninstall -y tensorflow\n",
        "! pip uninstall -y tf-nightly\n",
        "\n",
        "! pip install tensorflow-gpu==2.0.0-beta1"
      ],
      "execution_count": 5,
      "outputs": [
        {
          "output_type": "stream",
          "text": [
            "\u001b[33mWARNING: Skipping tensorflow as it is not installed.\u001b[0m\n",
            "\u001b[33mWARNING: Skipping tf-nightly as it is not installed.\u001b[0m\n",
            "Requirement already satisfied: tensorflow-gpu==2.0.0-beta1 in /usr/local/lib/python3.7/dist-packages (2.0.0b1)\n",
            "Requirement already satisfied: astor>=0.6.0 in /usr/local/lib/python3.7/dist-packages (from tensorflow-gpu==2.0.0-beta1) (0.8.1)\n",
            "Requirement already satisfied: absl-py>=0.7.0 in /usr/local/lib/python3.7/dist-packages (from tensorflow-gpu==2.0.0-beta1) (0.12.0)\n",
            "Requirement already satisfied: termcolor>=1.1.0 in /usr/local/lib/python3.7/dist-packages (from tensorflow-gpu==2.0.0-beta1) (1.1.0)\n",
            "Requirement already satisfied: numpy<2.0,>=1.14.5 in /usr/local/lib/python3.7/dist-packages (from tensorflow-gpu==2.0.0-beta1) (1.19.5)\n",
            "Requirement already satisfied: gast>=0.2.0 in /usr/local/lib/python3.7/dist-packages (from tensorflow-gpu==2.0.0-beta1) (0.3.3)\n",
            "Requirement already satisfied: tf-estimator-nightly<1.14.0.dev2019060502,>=1.14.0.dev2019060501 in /usr/local/lib/python3.7/dist-packages (from tensorflow-gpu==2.0.0-beta1) (1.14.0.dev2019060501)\n",
            "Requirement already satisfied: keras-applications>=1.0.6 in /usr/local/lib/python3.7/dist-packages (from tensorflow-gpu==2.0.0-beta1) (1.0.8)\n",
            "Requirement already satisfied: keras-preprocessing>=1.0.5 in /usr/local/lib/python3.7/dist-packages (from tensorflow-gpu==2.0.0-beta1) (1.1.2)\n",
            "Requirement already satisfied: tb-nightly<1.14.0a20190604,>=1.14.0a20190603 in /usr/local/lib/python3.7/dist-packages (from tensorflow-gpu==2.0.0-beta1) (1.14.0a20190603)\n",
            "Requirement already satisfied: grpcio>=1.8.6 in /usr/local/lib/python3.7/dist-packages (from tensorflow-gpu==2.0.0-beta1) (1.32.0)\n",
            "Requirement already satisfied: wheel>=0.26 in /usr/local/lib/python3.7/dist-packages (from tensorflow-gpu==2.0.0-beta1) (0.36.2)\n",
            "Requirement already satisfied: google-pasta>=0.1.6 in /usr/local/lib/python3.7/dist-packages (from tensorflow-gpu==2.0.0-beta1) (0.2.0)\n",
            "Requirement already satisfied: protobuf>=3.6.1 in /usr/local/lib/python3.7/dist-packages (from tensorflow-gpu==2.0.0-beta1) (3.12.4)\n",
            "Requirement already satisfied: six>=1.10.0 in /usr/local/lib/python3.7/dist-packages (from tensorflow-gpu==2.0.0-beta1) (1.15.0)\n",
            "Requirement already satisfied: wrapt>=1.11.1 in /usr/local/lib/python3.7/dist-packages (from tensorflow-gpu==2.0.0-beta1) (1.12.1)\n",
            "Requirement already satisfied: h5py in /usr/local/lib/python3.7/dist-packages (from keras-applications>=1.0.6->tensorflow-gpu==2.0.0-beta1) (2.10.0)\n",
            "Requirement already satisfied: werkzeug>=0.11.15 in /usr/local/lib/python3.7/dist-packages (from tb-nightly<1.14.0a20190604,>=1.14.0a20190603->tensorflow-gpu==2.0.0-beta1) (1.0.1)\n",
            "Requirement already satisfied: setuptools>=41.0.0 in /usr/local/lib/python3.7/dist-packages (from tb-nightly<1.14.0a20190604,>=1.14.0a20190603->tensorflow-gpu==2.0.0-beta1) (54.2.0)\n",
            "Requirement already satisfied: markdown>=2.6.8 in /usr/local/lib/python3.7/dist-packages (from tb-nightly<1.14.0a20190604,>=1.14.0a20190603->tensorflow-gpu==2.0.0-beta1) (3.3.4)\n",
            "Requirement already satisfied: importlib-metadata; python_version < \"3.8\" in /usr/local/lib/python3.7/dist-packages (from markdown>=2.6.8->tb-nightly<1.14.0a20190604,>=1.14.0a20190603->tensorflow-gpu==2.0.0-beta1) (3.10.0)\n",
            "Requirement already satisfied: zipp>=0.5 in /usr/local/lib/python3.7/dist-packages (from importlib-metadata; python_version < \"3.8\"->markdown>=2.6.8->tb-nightly<1.14.0a20190604,>=1.14.0a20190603->tensorflow-gpu==2.0.0-beta1) (3.4.1)\n",
            "Requirement already satisfied: typing-extensions>=3.6.4; python_version < \"3.8\" in /usr/local/lib/python3.7/dist-packages (from importlib-metadata; python_version < \"3.8\"->markdown>=2.6.8->tb-nightly<1.14.0a20190604,>=1.14.0a20190603->tensorflow-gpu==2.0.0-beta1) (3.7.4.3)\n"
          ],
          "name": "stdout"
        }
      ]
    },
    {
      "cell_type": "code",
      "metadata": {
        "id": "ivpq83G2O27I"
      },
      "source": [
        "def normalize(X_train,X_test):\n",
        "  mean = np.mean(X_train,axis=(0,1,2,3))\n",
        "  std = np.std(X_train, axis=(0, 1, 2, 3))\n",
        "  print(mean)\n",
        "  print(std)\n",
        "  X_train = (X_train-mean)/(std+1e-7)\n",
        "  X_test = (X_test-mean)/(std+1e-7)\n",
        "  return X_train, X_test"
      ],
      "execution_count": 44,
      "outputs": []
    },
    {
      "cell_type": "code",
      "metadata": {
        "colab": {
          "base_uri": "https://localhost:8080/"
        },
        "id": "4hQ7p8FaO8F_",
        "outputId": "cb78b2a6-8514-488a-aed9-9c00db7b9d0b"
      },
      "source": [
        "#Data Processing\n",
        "batch_size = 128\n",
        "num_classes = 10\n",
        "epochs = 100\n",
        "data_augmentation = True\n",
        "num_predictions = 20\n",
        "model_name = 'keras_cifar10_trained_model.h5'\n",
        "\n",
        "# The data, split between train and test sets:\n",
        "(x_train, y_train), (x_test, y_test) = mnist.load_data()\n",
        "x_train = x_train.reshape(x_train.shape[0], 28, 28, 1)\n",
        "x_test = x_test.reshape(x_test.shape[0], 28, 28, 1)\n",
        "x_train = np.pad(x_train, ((0,0),(2,2),(2,2),(0,0)), 'constant')\n",
        "x_test = np.pad(x_test, ((0,0),(2,2),(2,2),(0,0)), 'constant')\n",
        "x_train = x_train.astype('float32')\n",
        "x_test = x_test.astype('float32')\n",
        "x_train, x_test = normalize(x_train, x_test)\n",
        "print('x_train shape:', x_train.shape)\n",
        "print(x_train.shape[0], 'train samples')\n",
        "print(x_test.shape[0], 'test samples')\n",
        "\n",
        "# Convert class vectors to binary class matrices.\n",
        "y_train = keras.utils.to_categorical(y_train, 10)\n",
        "y_test = keras.utils.to_categorical(y_test, 10)\n",
        "steps_per_epoch = x_train.shape[0]//batch_size"
      ],
      "execution_count": 45,
      "outputs": [
        {
          "output_type": "stream",
          "text": [
            "25.50944\n",
            "70.18035\n",
            "x_train shape: (60000, 32, 32, 1)\n",
            "60000 train samples\n",
            "10000 test samples\n"
          ],
          "name": "stdout"
        }
      ]
    },
    {
      "cell_type": "code",
      "metadata": {
        "id": "Zr6GGy6zO_R6"
      },
      "source": [
        "#Data Generator\n",
        "batch_size = 128\n",
        "maxepoches = 20\n",
        "learning_rate = 0.01\n",
        "lr_decay = 1e-6\n",
        "lr_drop = 5\n",
        "\n",
        "\n",
        "def lr_scheduler(epoch):\n",
        "    if(epoch<250):\n",
        "        return learning_rate * (0.5 ** (epoch // lr_drop))\n",
        "    else:\n",
        "        return learning_rate * (0.4 ** (epoch // lr_drop))\n",
        "reduce_lr = keras.callbacks.LearningRateScheduler(lr_scheduler)\n",
        "\n",
        "\n",
        "#data augmentation\n",
        "datagen = ImageDataGenerator(\n",
        "    featurewise_center=False,  # set input mean to 0 over the dataset\n",
        "    samplewise_center=False,  # set each sample mean to 0\n",
        "    featurewise_std_normalization=False,  # divide inputs by std of the dataset\n",
        "    samplewise_std_normalization=False,  # divide each input by its std\n",
        "    zca_whitening=False,  # apply ZCA whitening\n",
        "    rotation_range=15,  # randomly rotate images in the range (degrees, 0 to 180)\n",
        "    width_shift_range=0.1,  # randomly shift images horizontally (fraction of total width)\n",
        "    height_shift_range=0.1,  # randomly shift images vertically (fraction of total height)\n",
        "    horizontal_flip=True,  # randomly flip images\n",
        "    vertical_flip=False)  # randomly flip images\n",
        "# (std, mean, and principal components if ZCA whitening is applied).\n",
        "datagen.fit(x_train)\n"
      ],
      "execution_count": 46,
      "outputs": []
    },
    {
      "cell_type": "code",
      "metadata": {
        "id": "uZDSnxKwPAKY"
      },
      "source": [
        "#VGG-16\n",
        "model = Sequential()\n",
        "weight_decay = 0.005\n",
        "x_shape = (32,32,1)\n",
        "\n",
        "# model.add(UpSampling2D(size=(2, 2),input_shape=self.x_shape))\n",
        "model.add(Conv2D(64, (3, 3), padding='same',kernel_regularizer=regularizers.l2(weight_decay),input_shape=x_shape))\n",
        "model.add(Activation('relu'))\n",
        "model.add(BatchNormalization())\n",
        "#model.add(Dropout(0.3))\n",
        "\n",
        "model.add(Conv2D(64, (3, 3), padding='same',kernel_regularizer=regularizers.l2(weight_decay)))\n",
        "model.add(Activation('relu'))\n",
        "model.add(BatchNormalization())\n",
        "\n",
        "model.add(MaxPooling2D(pool_size=(2, 2)))\n",
        "\n",
        "model.add(Conv2D(128, (3, 3), padding='same',kernel_regularizer=regularizers.l2(weight_decay)))\n",
        "model.add(Activation('relu'))\n",
        "model.add(BatchNormalization())\n",
        "#model.add(Dropout(0.4))\n",
        "\n",
        "model.add(Conv2D(128, (3, 3), padding='same',kernel_regularizer=regularizers.l2(weight_decay)))\n",
        "model.add(Activation('relu'))\n",
        "model.add(BatchNormalization())\n",
        "\n",
        "model.add(MaxPooling2D(pool_size=(2, 2)))\n",
        "\n",
        "model.add(Conv2D(256, (3, 3), padding='same',kernel_regularizer=regularizers.l2(weight_decay)))\n",
        "model.add(Activation('relu'))\n",
        "model.add(BatchNormalization())\n",
        "#model.add(Dropout(0.4))\n",
        "\n",
        "model.add(Conv2D(256, (3, 3), padding='same',kernel_regularizer=regularizers.l2(weight_decay)))\n",
        "model.add(Activation('relu'))\n",
        "model.add(BatchNormalization())\n",
        "#model.add(Dropout(0.4))\n",
        "\n",
        "model.add(Conv2D(256, (3, 3), padding='same',kernel_regularizer=regularizers.l2(weight_decay)))\n",
        "model.add(Activation('relu'))\n",
        "model.add(BatchNormalization())\n",
        "\n",
        "model.add(MaxPooling2D(pool_size=(2, 2)))\n",
        "\n",
        "\n",
        "model.add(Conv2D(512, (3, 3), padding='same',kernel_regularizer=regularizers.l2(weight_decay)))\n",
        "model.add(Activation('relu'))\n",
        "model.add(BatchNormalization())\n",
        "#model.add(Dropout(0.4))\n",
        "\n",
        "model.add(Conv2D(512, (3, 3), padding='same',kernel_regularizer=regularizers.l2(weight_decay)))\n",
        "model.add(Activation('relu'))\n",
        "model.add(BatchNormalization())\n",
        "#model.add(Dropout(0.4))\n",
        "\n",
        "model.add(Conv2D(512, (3, 3), padding='same',kernel_regularizer=regularizers.l2(weight_decay)))\n",
        "model.add(Activation('relu'))\n",
        "model.add(BatchNormalization())\n",
        "\n",
        "model.add(MaxPooling2D(pool_size=(2, 2)))\n",
        "\n",
        "\n",
        "model.add(Conv2D(512, (3, 3), padding='same',kernel_regularizer=regularizers.l2(weight_decay)))\n",
        "model.add(Activation('relu'))\n",
        "model.add(BatchNormalization())\n",
        "#model.add(Dropout(0.4))\n",
        "\n",
        "model.add(Conv2D(512, (3, 3), padding='same',kernel_regularizer=regularizers.l2(weight_decay)))\n",
        "model.add(Activation('relu'))\n",
        "model.add(BatchNormalization())\n",
        "#model.add(Dropout(0.4))\n",
        "\n",
        "model.add(Conv2D(512, (3, 3), padding='same',kernel_regularizer=regularizers.l2(weight_decay)))\n",
        "model.add(Activation('relu'))\n",
        "model.add(BatchNormalization())\n",
        "\n",
        "model.add(MaxPooling2D(pool_size=(2, 2)))\n",
        "#model.add(Dropout(0.5))\n",
        "\n",
        "model.add(Flatten())\n",
        "model.add(Dense(512,kernel_regularizer=regularizers.l2(weight_decay)))\n",
        "model.add(Activation('relu'))\n",
        "model.add(BatchNormalization())\n",
        "\n",
        "#model.add(Dropout(0.5))\n",
        "model.add(Dense(num_classes))\n",
        "model.add(Activation('softmax'))"
      ],
      "execution_count": 47,
      "outputs": []
    },
    {
      "cell_type": "code",
      "metadata": {
        "id": "kPBPc_hVPE10",
        "colab": {
          "base_uri": "https://localhost:8080/"
        },
        "outputId": "cc1b757d-b005-4693-c663-d9ad05ac64fe"
      },
      "source": [
        "print(model.summary())"
      ],
      "execution_count": 48,
      "outputs": [
        {
          "output_type": "stream",
          "text": [
            "Model: \"sequential_2\"\n",
            "_________________________________________________________________\n",
            "Layer (type)                 Output Shape              Param #   \n",
            "=================================================================\n",
            "conv2d_13 (Conv2D)           (None, 32, 32, 64)        640       \n",
            "_________________________________________________________________\n",
            "activation_15 (Activation)   (None, 32, 32, 64)        0         \n",
            "_________________________________________________________________\n",
            "batch_normalization_28 (Batc (None, 32, 32, 64)        256       \n",
            "_________________________________________________________________\n",
            "conv2d_14 (Conv2D)           (None, 32, 32, 64)        36928     \n",
            "_________________________________________________________________\n",
            "activation_16 (Activation)   (None, 32, 32, 64)        0         \n",
            "_________________________________________________________________\n",
            "batch_normalization_29 (Batc (None, 32, 32, 64)        256       \n",
            "_________________________________________________________________\n",
            "max_pooling2d_5 (MaxPooling2 (None, 16, 16, 64)        0         \n",
            "_________________________________________________________________\n",
            "conv2d_15 (Conv2D)           (None, 16, 16, 128)       73856     \n",
            "_________________________________________________________________\n",
            "activation_17 (Activation)   (None, 16, 16, 128)       0         \n",
            "_________________________________________________________________\n",
            "batch_normalization_30 (Batc (None, 16, 16, 128)       512       \n",
            "_________________________________________________________________\n",
            "conv2d_16 (Conv2D)           (None, 16, 16, 128)       147584    \n",
            "_________________________________________________________________\n",
            "activation_18 (Activation)   (None, 16, 16, 128)       0         \n",
            "_________________________________________________________________\n",
            "batch_normalization_31 (Batc (None, 16, 16, 128)       512       \n",
            "_________________________________________________________________\n",
            "max_pooling2d_6 (MaxPooling2 (None, 8, 8, 128)         0         \n",
            "_________________________________________________________________\n",
            "conv2d_17 (Conv2D)           (None, 8, 8, 256)         295168    \n",
            "_________________________________________________________________\n",
            "activation_19 (Activation)   (None, 8, 8, 256)         0         \n",
            "_________________________________________________________________\n",
            "batch_normalization_32 (Batc (None, 8, 8, 256)         1024      \n",
            "_________________________________________________________________\n",
            "conv2d_18 (Conv2D)           (None, 8, 8, 256)         590080    \n",
            "_________________________________________________________________\n",
            "activation_20 (Activation)   (None, 8, 8, 256)         0         \n",
            "_________________________________________________________________\n",
            "batch_normalization_33 (Batc (None, 8, 8, 256)         1024      \n",
            "_________________________________________________________________\n",
            "conv2d_19 (Conv2D)           (None, 8, 8, 256)         590080    \n",
            "_________________________________________________________________\n",
            "activation_21 (Activation)   (None, 8, 8, 256)         0         \n",
            "_________________________________________________________________\n",
            "batch_normalization_34 (Batc (None, 8, 8, 256)         1024      \n",
            "_________________________________________________________________\n",
            "max_pooling2d_7 (MaxPooling2 (None, 4, 4, 256)         0         \n",
            "_________________________________________________________________\n",
            "conv2d_20 (Conv2D)           (None, 4, 4, 512)         1180160   \n",
            "_________________________________________________________________\n",
            "activation_22 (Activation)   (None, 4, 4, 512)         0         \n",
            "_________________________________________________________________\n",
            "batch_normalization_35 (Batc (None, 4, 4, 512)         2048      \n",
            "_________________________________________________________________\n",
            "conv2d_21 (Conv2D)           (None, 4, 4, 512)         2359808   \n",
            "_________________________________________________________________\n",
            "activation_23 (Activation)   (None, 4, 4, 512)         0         \n",
            "_________________________________________________________________\n",
            "batch_normalization_36 (Batc (None, 4, 4, 512)         2048      \n",
            "_________________________________________________________________\n",
            "conv2d_22 (Conv2D)           (None, 4, 4, 512)         2359808   \n",
            "_________________________________________________________________\n",
            "activation_24 (Activation)   (None, 4, 4, 512)         0         \n",
            "_________________________________________________________________\n",
            "batch_normalization_37 (Batc (None, 4, 4, 512)         2048      \n",
            "_________________________________________________________________\n",
            "max_pooling2d_8 (MaxPooling2 (None, 2, 2, 512)         0         \n",
            "_________________________________________________________________\n",
            "conv2d_23 (Conv2D)           (None, 2, 2, 512)         2359808   \n",
            "_________________________________________________________________\n",
            "activation_25 (Activation)   (None, 2, 2, 512)         0         \n",
            "_________________________________________________________________\n",
            "batch_normalization_38 (Batc (None, 2, 2, 512)         2048      \n",
            "_________________________________________________________________\n",
            "conv2d_24 (Conv2D)           (None, 2, 2, 512)         2359808   \n",
            "_________________________________________________________________\n",
            "activation_26 (Activation)   (None, 2, 2, 512)         0         \n",
            "_________________________________________________________________\n",
            "batch_normalization_39 (Batc (None, 2, 2, 512)         2048      \n",
            "_________________________________________________________________\n",
            "conv2d_25 (Conv2D)           (None, 2, 2, 512)         2359808   \n",
            "_________________________________________________________________\n",
            "activation_27 (Activation)   (None, 2, 2, 512)         0         \n",
            "_________________________________________________________________\n",
            "batch_normalization_40 (Batc (None, 2, 2, 512)         2048      \n",
            "_________________________________________________________________\n",
            "max_pooling2d_9 (MaxPooling2 (None, 1, 1, 512)         0         \n",
            "_________________________________________________________________\n",
            "flatten_1 (Flatten)          (None, 512)               0         \n",
            "_________________________________________________________________\n",
            "dense_2 (Dense)              (None, 512)               262656    \n",
            "_________________________________________________________________\n",
            "activation_28 (Activation)   (None, 512)               0         \n",
            "_________________________________________________________________\n",
            "batch_normalization_41 (Batc (None, 512)               2048      \n",
            "_________________________________________________________________\n",
            "dense_3 (Dense)              (None, 10)                5130      \n",
            "_________________________________________________________________\n",
            "activation_29 (Activation)   (None, 10)                0         \n",
            "=================================================================\n",
            "Total params: 15,000,266\n",
            "Trainable params: 14,990,794\n",
            "Non-trainable params: 9,472\n",
            "_________________________________________________________________\n",
            "None\n"
          ],
          "name": "stdout"
        }
      ]
    },
    {
      "cell_type": "markdown",
      "metadata": {
        "id": "jMdDd785nnEl"
      },
      "source": [
        "In this step we will create a custom regularizer using \"tf.keras.regularizers.Regularizer\" which will apply waighted L1 regularization on pruning tensor vectors. The regularization would be waighted based on the size of pruning tensor vector size which will be passed through FPruningL layer."
      ]
    },
    {
      "cell_type": "code",
      "metadata": {
        "id": "VhqGq8lcPLlD"
      },
      "source": [
        "#Beta Regularizer\n",
        "class b_reg(tf.keras.regularizers.Regularizer):\n",
        "\n",
        "    def __init__(self, b_scalef):\n",
        "        self.b_scalef = K.cast_to_floatx(b_scalef)\n",
        "\n",
        "    def __call__(self, weight_matrix):\n",
        "      return K.sum(K.abs(weight_matrix)) * self.b_scalef\n",
        "\n",
        "    def get_config(self): \n",
        "      return {'Factor': float(self.b_scalef)}\n"
      ],
      "execution_count": 49,
      "outputs": []
    },
    {
      "cell_type": "markdown",
      "metadata": {
        "id": "852XxPgZrvbM"
      },
      "source": [
        "# Task 1\n",
        "\n",
        "In this step we will create a custom tf layer for pruning tensor vectors. The layer will take size as initializing input and initialize a 1-D tensor of trainable weights from that size. These 1-D tensors will be initialized from ones and we will apply the above created regularization to push these tensors towards zero.\n",
        "These custom layers will be placed as gates infront of all CONV layers. The input of these layers will be the output of CONV layers and the output of these layers would be a product of input wilth the 1-D tensor vector.\n",
        "\n",
        "For this task you have to write the call function of FpruningL custom layer. call function is the function that will be called during runtime. The output of previous layer will be passed to this function as parameter(in this case 'x'), you have to return the product of 1-D tensor('kernel1') and previous layer output from this function. "
      ]
    },
    {
      "cell_type": "code",
      "metadata": {
        "id": "59DBFP0wPQXu"
      },
      "source": [
        "#Filter pruning lembda layer\n",
        "class FPruningL(Layer):\n",
        "    def __init__(self, size = 0.0, **kwargs):\n",
        "        super(FPruningL, self).__init__(**kwargs)\n",
        "        self.size = size\n",
        "    def build(self, input_shape):\n",
        "        self.kernel1 = self.add_weight(constraint=MinMaxNorm(min_value=0.0, max_value=1.0, rate=1.0, axis=0),\n",
        "                                       name='kernel1', shape=( 1, 1, 1, self.size), \n",
        "                                       regularizer=b_reg(1/(self.size)), initializer='ones', trainable=True)\n",
        "        super(FPruningL, self).build(input_shape) \n",
        "    def call(self, x):\n",
        "        ############################## \n",
        "        # TASK 1 write your code here\n",
        "        return keras.layers.multiply(inputs=[x,self.kernel1])\n",
        "        ##############################\n",
        "    def compute_output_shape(self, input_shape):\n",
        "        return input_shape\n",
        "    def get_config(self):\n",
        "        return {'num': self.num}"
      ],
      "execution_count": 50,
      "outputs": []
    },
    {
      "cell_type": "markdown",
      "metadata": {
        "id": "BkG-PwVU5piW"
      },
      "source": [
        "# Task 2\n",
        "\n",
        "In this step we will create a new prunable network from the orignal netwok. We will place pruning custom layers infront of each CONV layer. To initialize custom layers we will pass the CONV layer filter number to these custom layers so that 1-D tensors of appropriate size can be initialized.\n",
        "\n",
        "In this task you will create a new prunable model named 'model2' from the orignal model. you will create this new model by looping through the layer of orignal model. Add all the layers of the orignal model to the new model while conditioning on 'Conv2D'. For 'Conv2D' find the number of filters and add the 'Conv2D' layer to the network then initialize 'FPruningL' layer by passing number of filters(e.g: FPruningL(filters)) to it. Add this FPruningL layer to the network. Your prunable networkhouk like this:Cell below\n",
        "\n",
        "Where CONV layer has a FPruningL infront of it"
      ]
    },
    {
      "cell_type": "code",
      "metadata": {
        "id": "P_QBtCBS1ZQz"
      },
      "source": [
        "# plot_model(model2)"
      ],
      "execution_count": 51,
      "outputs": []
    },
    {
      "cell_type": "code",
      "metadata": {
        "id": "ORVqPL8WPVC5",
        "colab": {
          "base_uri": "https://localhost:8080/"
        },
        "outputId": "9331b1d0-cdd6-43ac-bb3f-9f7c39da0218"
      },
      "source": [
        "# creating pruneable model from orignal model\n",
        "##############################\n",
        "# TASK 2 write your code here\n",
        "model2 = Sequential()\n",
        "for layer in model.layers:\n",
        "  model2.add(layer)\n",
        "  if (type(layer) == Conv2D):\n",
        "    filters , biases = layer.get_weights()\n",
        "    model2.add(FPruningL(filters.shape[-1])) ## filters.shape[-1] gives number of filters\n",
        "##############################"
      ],
      "execution_count": 52,
      "outputs": [
        {
          "output_type": "stream",
          "text": [
            "WARNING:tensorflow:Entity <bound method FPruningL.call of <__main__.FPruningL object at 0x7f9db322e1d0>> could not be transformed and will be executed as-is. Please report this to the AutoGraph team. When filing the bug, set the verbosity to 10 (on Linux, `export AUTOGRAPH_VERBOSITY=10`) and attach the full output. Cause: converting <bound method FPruningL.call of <__main__.FPruningL object at 0x7f9db322e1d0>>: AssertionError: Bad argument number for Name: 3, expecting 4\n"
          ],
          "name": "stdout"
        },
        {
          "output_type": "stream",
          "text": [
            "WARNING:tensorflow:Entity <bound method FPruningL.call of <__main__.FPruningL object at 0x7f9db322e1d0>> could not be transformed and will be executed as-is. Please report this to the AutoGraph team. When filing the bug, set the verbosity to 10 (on Linux, `export AUTOGRAPH_VERBOSITY=10`) and attach the full output. Cause: converting <bound method FPruningL.call of <__main__.FPruningL object at 0x7f9db322e1d0>>: AssertionError: Bad argument number for Name: 3, expecting 4\n"
          ],
          "name": "stderr"
        },
        {
          "output_type": "stream",
          "text": [
            "WARNING: Entity <bound method FPruningL.call of <__main__.FPruningL object at 0x7f9db322e1d0>> could not be transformed and will be executed as-is. Please report this to the AutoGraph team. When filing the bug, set the verbosity to 10 (on Linux, `export AUTOGRAPH_VERBOSITY=10`) and attach the full output. Cause: converting <bound method FPruningL.call of <__main__.FPruningL object at 0x7f9db322e1d0>>: AssertionError: Bad argument number for Name: 3, expecting 4\n",
            "WARNING:tensorflow:Entity <bound method FPruningL.call of <__main__.FPruningL object at 0x7f9db326c510>> could not be transformed and will be executed as-is. Please report this to the AutoGraph team. When filing the bug, set the verbosity to 10 (on Linux, `export AUTOGRAPH_VERBOSITY=10`) and attach the full output. Cause: converting <bound method FPruningL.call of <__main__.FPruningL object at 0x7f9db326c510>>: AssertionError: Bad argument number for Name: 3, expecting 4\n"
          ],
          "name": "stdout"
        },
        {
          "output_type": "stream",
          "text": [
            "WARNING:tensorflow:Entity <bound method FPruningL.call of <__main__.FPruningL object at 0x7f9db326c510>> could not be transformed and will be executed as-is. Please report this to the AutoGraph team. When filing the bug, set the verbosity to 10 (on Linux, `export AUTOGRAPH_VERBOSITY=10`) and attach the full output. Cause: converting <bound method FPruningL.call of <__main__.FPruningL object at 0x7f9db326c510>>: AssertionError: Bad argument number for Name: 3, expecting 4\n"
          ],
          "name": "stderr"
        },
        {
          "output_type": "stream",
          "text": [
            "WARNING: Entity <bound method FPruningL.call of <__main__.FPruningL object at 0x7f9db326c510>> could not be transformed and will be executed as-is. Please report this to the AutoGraph team. When filing the bug, set the verbosity to 10 (on Linux, `export AUTOGRAPH_VERBOSITY=10`) and attach the full output. Cause: converting <bound method FPruningL.call of <__main__.FPruningL object at 0x7f9db326c510>>: AssertionError: Bad argument number for Name: 3, expecting 4\n",
            "WARNING:tensorflow:Entity <bound method FPruningL.call of <__main__.FPruningL object at 0x7f9db9c4f710>> could not be transformed and will be executed as-is. Please report this to the AutoGraph team. When filing the bug, set the verbosity to 10 (on Linux, `export AUTOGRAPH_VERBOSITY=10`) and attach the full output. Cause: converting <bound method FPruningL.call of <__main__.FPruningL object at 0x7f9db9c4f710>>: AssertionError: Bad argument number for Name: 3, expecting 4\n"
          ],
          "name": "stdout"
        },
        {
          "output_type": "stream",
          "text": [
            "WARNING:tensorflow:Entity <bound method FPruningL.call of <__main__.FPruningL object at 0x7f9db9c4f710>> could not be transformed and will be executed as-is. Please report this to the AutoGraph team. When filing the bug, set the verbosity to 10 (on Linux, `export AUTOGRAPH_VERBOSITY=10`) and attach the full output. Cause: converting <bound method FPruningL.call of <__main__.FPruningL object at 0x7f9db9c4f710>>: AssertionError: Bad argument number for Name: 3, expecting 4\n"
          ],
          "name": "stderr"
        },
        {
          "output_type": "stream",
          "text": [
            "WARNING: Entity <bound method FPruningL.call of <__main__.FPruningL object at 0x7f9db9c4f710>> could not be transformed and will be executed as-is. Please report this to the AutoGraph team. When filing the bug, set the verbosity to 10 (on Linux, `export AUTOGRAPH_VERBOSITY=10`) and attach the full output. Cause: converting <bound method FPruningL.call of <__main__.FPruningL object at 0x7f9db9c4f710>>: AssertionError: Bad argument number for Name: 3, expecting 4\n",
            "WARNING:tensorflow:Entity <bound method FPruningL.call of <__main__.FPruningL object at 0x7f9db32a5bd0>> could not be transformed and will be executed as-is. Please report this to the AutoGraph team. When filing the bug, set the verbosity to 10 (on Linux, `export AUTOGRAPH_VERBOSITY=10`) and attach the full output. Cause: converting <bound method FPruningL.call of <__main__.FPruningL object at 0x7f9db32a5bd0>>: AssertionError: Bad argument number for Name: 3, expecting 4\n"
          ],
          "name": "stdout"
        },
        {
          "output_type": "stream",
          "text": [
            "WARNING:tensorflow:Entity <bound method FPruningL.call of <__main__.FPruningL object at 0x7f9db32a5bd0>> could not be transformed and will be executed as-is. Please report this to the AutoGraph team. When filing the bug, set the verbosity to 10 (on Linux, `export AUTOGRAPH_VERBOSITY=10`) and attach the full output. Cause: converting <bound method FPruningL.call of <__main__.FPruningL object at 0x7f9db32a5bd0>>: AssertionError: Bad argument number for Name: 3, expecting 4\n"
          ],
          "name": "stderr"
        },
        {
          "output_type": "stream",
          "text": [
            "WARNING: Entity <bound method FPruningL.call of <__main__.FPruningL object at 0x7f9db32a5bd0>> could not be transformed and will be executed as-is. Please report this to the AutoGraph team. When filing the bug, set the verbosity to 10 (on Linux, `export AUTOGRAPH_VERBOSITY=10`) and attach the full output. Cause: converting <bound method FPruningL.call of <__main__.FPruningL object at 0x7f9db32a5bd0>>: AssertionError: Bad argument number for Name: 3, expecting 4\n",
            "WARNING:tensorflow:Entity <bound method FPruningL.call of <__main__.FPruningL object at 0x7f9db9a91e10>> could not be transformed and will be executed as-is. Please report this to the AutoGraph team. When filing the bug, set the verbosity to 10 (on Linux, `export AUTOGRAPH_VERBOSITY=10`) and attach the full output. Cause: converting <bound method FPruningL.call of <__main__.FPruningL object at 0x7f9db9a91e10>>: AssertionError: Bad argument number for Name: 3, expecting 4\n"
          ],
          "name": "stdout"
        },
        {
          "output_type": "stream",
          "text": [
            "WARNING:tensorflow:Entity <bound method FPruningL.call of <__main__.FPruningL object at 0x7f9db9a91e10>> could not be transformed and will be executed as-is. Please report this to the AutoGraph team. When filing the bug, set the verbosity to 10 (on Linux, `export AUTOGRAPH_VERBOSITY=10`) and attach the full output. Cause: converting <bound method FPruningL.call of <__main__.FPruningL object at 0x7f9db9a91e10>>: AssertionError: Bad argument number for Name: 3, expecting 4\n"
          ],
          "name": "stderr"
        },
        {
          "output_type": "stream",
          "text": [
            "WARNING: Entity <bound method FPruningL.call of <__main__.FPruningL object at 0x7f9db9a91e10>> could not be transformed and will be executed as-is. Please report this to the AutoGraph team. When filing the bug, set the verbosity to 10 (on Linux, `export AUTOGRAPH_VERBOSITY=10`) and attach the full output. Cause: converting <bound method FPruningL.call of <__main__.FPruningL object at 0x7f9db9a91e10>>: AssertionError: Bad argument number for Name: 3, expecting 4\n",
            "WARNING:tensorflow:Entity <bound method FPruningL.call of <__main__.FPruningL object at 0x7f9db9a759d0>> could not be transformed and will be executed as-is. Please report this to the AutoGraph team. When filing the bug, set the verbosity to 10 (on Linux, `export AUTOGRAPH_VERBOSITY=10`) and attach the full output. Cause: converting <bound method FPruningL.call of <__main__.FPruningL object at 0x7f9db9a759d0>>: AssertionError: Bad argument number for Name: 3, expecting 4\n"
          ],
          "name": "stdout"
        },
        {
          "output_type": "stream",
          "text": [
            "WARNING:tensorflow:Entity <bound method FPruningL.call of <__main__.FPruningL object at 0x7f9db9a759d0>> could not be transformed and will be executed as-is. Please report this to the AutoGraph team. When filing the bug, set the verbosity to 10 (on Linux, `export AUTOGRAPH_VERBOSITY=10`) and attach the full output. Cause: converting <bound method FPruningL.call of <__main__.FPruningL object at 0x7f9db9a759d0>>: AssertionError: Bad argument number for Name: 3, expecting 4\n"
          ],
          "name": "stderr"
        },
        {
          "output_type": "stream",
          "text": [
            "WARNING: Entity <bound method FPruningL.call of <__main__.FPruningL object at 0x7f9db9a759d0>> could not be transformed and will be executed as-is. Please report this to the AutoGraph team. When filing the bug, set the verbosity to 10 (on Linux, `export AUTOGRAPH_VERBOSITY=10`) and attach the full output. Cause: converting <bound method FPruningL.call of <__main__.FPruningL object at 0x7f9db9a759d0>>: AssertionError: Bad argument number for Name: 3, expecting 4\n",
            "WARNING:tensorflow:Entity <bound method FPruningL.call of <__main__.FPruningL object at 0x7f9db99886d0>> could not be transformed and will be executed as-is. Please report this to the AutoGraph team. When filing the bug, set the verbosity to 10 (on Linux, `export AUTOGRAPH_VERBOSITY=10`) and attach the full output. Cause: converting <bound method FPruningL.call of <__main__.FPruningL object at 0x7f9db99886d0>>: AssertionError: Bad argument number for Name: 3, expecting 4\n"
          ],
          "name": "stdout"
        },
        {
          "output_type": "stream",
          "text": [
            "WARNING:tensorflow:Entity <bound method FPruningL.call of <__main__.FPruningL object at 0x7f9db99886d0>> could not be transformed and will be executed as-is. Please report this to the AutoGraph team. When filing the bug, set the verbosity to 10 (on Linux, `export AUTOGRAPH_VERBOSITY=10`) and attach the full output. Cause: converting <bound method FPruningL.call of <__main__.FPruningL object at 0x7f9db99886d0>>: AssertionError: Bad argument number for Name: 3, expecting 4\n"
          ],
          "name": "stderr"
        },
        {
          "output_type": "stream",
          "text": [
            "WARNING: Entity <bound method FPruningL.call of <__main__.FPruningL object at 0x7f9db99886d0>> could not be transformed and will be executed as-is. Please report this to the AutoGraph team. When filing the bug, set the verbosity to 10 (on Linux, `export AUTOGRAPH_VERBOSITY=10`) and attach the full output. Cause: converting <bound method FPruningL.call of <__main__.FPruningL object at 0x7f9db99886d0>>: AssertionError: Bad argument number for Name: 3, expecting 4\n",
            "WARNING:tensorflow:Entity <bound method FPruningL.call of <__main__.FPruningL object at 0x7f9db98be890>> could not be transformed and will be executed as-is. Please report this to the AutoGraph team. When filing the bug, set the verbosity to 10 (on Linux, `export AUTOGRAPH_VERBOSITY=10`) and attach the full output. Cause: converting <bound method FPruningL.call of <__main__.FPruningL object at 0x7f9db98be890>>: AssertionError: Bad argument number for Name: 3, expecting 4\n"
          ],
          "name": "stdout"
        },
        {
          "output_type": "stream",
          "text": [
            "WARNING:tensorflow:Entity <bound method FPruningL.call of <__main__.FPruningL object at 0x7f9db98be890>> could not be transformed and will be executed as-is. Please report this to the AutoGraph team. When filing the bug, set the verbosity to 10 (on Linux, `export AUTOGRAPH_VERBOSITY=10`) and attach the full output. Cause: converting <bound method FPruningL.call of <__main__.FPruningL object at 0x7f9db98be890>>: AssertionError: Bad argument number for Name: 3, expecting 4\n"
          ],
          "name": "stderr"
        },
        {
          "output_type": "stream",
          "text": [
            "WARNING: Entity <bound method FPruningL.call of <__main__.FPruningL object at 0x7f9db98be890>> could not be transformed and will be executed as-is. Please report this to the AutoGraph team. When filing the bug, set the verbosity to 10 (on Linux, `export AUTOGRAPH_VERBOSITY=10`) and attach the full output. Cause: converting <bound method FPruningL.call of <__main__.FPruningL object at 0x7f9db98be890>>: AssertionError: Bad argument number for Name: 3, expecting 4\n",
            "WARNING:tensorflow:Entity <bound method FPruningL.call of <__main__.FPruningL object at 0x7f9db98a8610>> could not be transformed and will be executed as-is. Please report this to the AutoGraph team. When filing the bug, set the verbosity to 10 (on Linux, `export AUTOGRAPH_VERBOSITY=10`) and attach the full output. Cause: converting <bound method FPruningL.call of <__main__.FPruningL object at 0x7f9db98a8610>>: AssertionError: Bad argument number for Name: 3, expecting 4\n"
          ],
          "name": "stdout"
        },
        {
          "output_type": "stream",
          "text": [
            "WARNING:tensorflow:Entity <bound method FPruningL.call of <__main__.FPruningL object at 0x7f9db98a8610>> could not be transformed and will be executed as-is. Please report this to the AutoGraph team. When filing the bug, set the verbosity to 10 (on Linux, `export AUTOGRAPH_VERBOSITY=10`) and attach the full output. Cause: converting <bound method FPruningL.call of <__main__.FPruningL object at 0x7f9db98a8610>>: AssertionError: Bad argument number for Name: 3, expecting 4\n"
          ],
          "name": "stderr"
        },
        {
          "output_type": "stream",
          "text": [
            "WARNING: Entity <bound method FPruningL.call of <__main__.FPruningL object at 0x7f9db98a8610>> could not be transformed and will be executed as-is. Please report this to the AutoGraph team. When filing the bug, set the verbosity to 10 (on Linux, `export AUTOGRAPH_VERBOSITY=10`) and attach the full output. Cause: converting <bound method FPruningL.call of <__main__.FPruningL object at 0x7f9db98a8610>>: AssertionError: Bad argument number for Name: 3, expecting 4\n",
            "WARNING:tensorflow:Entity <bound method FPruningL.call of <__main__.FPruningL object at 0x7f9db98531d0>> could not be transformed and will be executed as-is. Please report this to the AutoGraph team. When filing the bug, set the verbosity to 10 (on Linux, `export AUTOGRAPH_VERBOSITY=10`) and attach the full output. Cause: converting <bound method FPruningL.call of <__main__.FPruningL object at 0x7f9db98531d0>>: AssertionError: Bad argument number for Name: 3, expecting 4\n"
          ],
          "name": "stdout"
        },
        {
          "output_type": "stream",
          "text": [
            "WARNING:tensorflow:Entity <bound method FPruningL.call of <__main__.FPruningL object at 0x7f9db98531d0>> could not be transformed and will be executed as-is. Please report this to the AutoGraph team. When filing the bug, set the verbosity to 10 (on Linux, `export AUTOGRAPH_VERBOSITY=10`) and attach the full output. Cause: converting <bound method FPruningL.call of <__main__.FPruningL object at 0x7f9db98531d0>>: AssertionError: Bad argument number for Name: 3, expecting 4\n"
          ],
          "name": "stderr"
        },
        {
          "output_type": "stream",
          "text": [
            "WARNING: Entity <bound method FPruningL.call of <__main__.FPruningL object at 0x7f9db98531d0>> could not be transformed and will be executed as-is. Please report this to the AutoGraph team. When filing the bug, set the verbosity to 10 (on Linux, `export AUTOGRAPH_VERBOSITY=10`) and attach the full output. Cause: converting <bound method FPruningL.call of <__main__.FPruningL object at 0x7f9db98531d0>>: AssertionError: Bad argument number for Name: 3, expecting 4\n",
            "WARNING:tensorflow:Entity <bound method FPruningL.call of <__main__.FPruningL object at 0x7f9db97cf7d0>> could not be transformed and will be executed as-is. Please report this to the AutoGraph team. When filing the bug, set the verbosity to 10 (on Linux, `export AUTOGRAPH_VERBOSITY=10`) and attach the full output. Cause: converting <bound method FPruningL.call of <__main__.FPruningL object at 0x7f9db97cf7d0>>: AssertionError: Bad argument number for Name: 3, expecting 4\n"
          ],
          "name": "stdout"
        },
        {
          "output_type": "stream",
          "text": [
            "WARNING:tensorflow:Entity <bound method FPruningL.call of <__main__.FPruningL object at 0x7f9db97cf7d0>> could not be transformed and will be executed as-is. Please report this to the AutoGraph team. When filing the bug, set the verbosity to 10 (on Linux, `export AUTOGRAPH_VERBOSITY=10`) and attach the full output. Cause: converting <bound method FPruningL.call of <__main__.FPruningL object at 0x7f9db97cf7d0>>: AssertionError: Bad argument number for Name: 3, expecting 4\n"
          ],
          "name": "stderr"
        },
        {
          "output_type": "stream",
          "text": [
            "WARNING: Entity <bound method FPruningL.call of <__main__.FPruningL object at 0x7f9db97cf7d0>> could not be transformed and will be executed as-is. Please report this to the AutoGraph team. When filing the bug, set the verbosity to 10 (on Linux, `export AUTOGRAPH_VERBOSITY=10`) and attach the full output. Cause: converting <bound method FPruningL.call of <__main__.FPruningL object at 0x7f9db97cf7d0>>: AssertionError: Bad argument number for Name: 3, expecting 4\n",
            "WARNING:tensorflow:Entity <bound method FPruningL.call of <__main__.FPruningL object at 0x7f9db96de210>> could not be transformed and will be executed as-is. Please report this to the AutoGraph team. When filing the bug, set the verbosity to 10 (on Linux, `export AUTOGRAPH_VERBOSITY=10`) and attach the full output. Cause: converting <bound method FPruningL.call of <__main__.FPruningL object at 0x7f9db96de210>>: AssertionError: Bad argument number for Name: 3, expecting 4\n"
          ],
          "name": "stdout"
        },
        {
          "output_type": "stream",
          "text": [
            "WARNING:tensorflow:Entity <bound method FPruningL.call of <__main__.FPruningL object at 0x7f9db96de210>> could not be transformed and will be executed as-is. Please report this to the AutoGraph team. When filing the bug, set the verbosity to 10 (on Linux, `export AUTOGRAPH_VERBOSITY=10`) and attach the full output. Cause: converting <bound method FPruningL.call of <__main__.FPruningL object at 0x7f9db96de210>>: AssertionError: Bad argument number for Name: 3, expecting 4\n"
          ],
          "name": "stderr"
        },
        {
          "output_type": "stream",
          "text": [
            "WARNING: Entity <bound method FPruningL.call of <__main__.FPruningL object at 0x7f9db96de210>> could not be transformed and will be executed as-is. Please report this to the AutoGraph team. When filing the bug, set the verbosity to 10 (on Linux, `export AUTOGRAPH_VERBOSITY=10`) and attach the full output. Cause: converting <bound method FPruningL.call of <__main__.FPruningL object at 0x7f9db96de210>>: AssertionError: Bad argument number for Name: 3, expecting 4\n",
            "WARNING:tensorflow:Entity <bound method FPruningL.call of <__main__.FPruningL object at 0x7f9db96dee10>> could not be transformed and will be executed as-is. Please report this to the AutoGraph team. When filing the bug, set the verbosity to 10 (on Linux, `export AUTOGRAPH_VERBOSITY=10`) and attach the full output. Cause: converting <bound method FPruningL.call of <__main__.FPruningL object at 0x7f9db96dee10>>: AssertionError: Bad argument number for Name: 3, expecting 4\n"
          ],
          "name": "stdout"
        },
        {
          "output_type": "stream",
          "text": [
            "WARNING:tensorflow:Entity <bound method FPruningL.call of <__main__.FPruningL object at 0x7f9db96dee10>> could not be transformed and will be executed as-is. Please report this to the AutoGraph team. When filing the bug, set the verbosity to 10 (on Linux, `export AUTOGRAPH_VERBOSITY=10`) and attach the full output. Cause: converting <bound method FPruningL.call of <__main__.FPruningL object at 0x7f9db96dee10>>: AssertionError: Bad argument number for Name: 3, expecting 4\n"
          ],
          "name": "stderr"
        },
        {
          "output_type": "stream",
          "text": [
            "WARNING: Entity <bound method FPruningL.call of <__main__.FPruningL object at 0x7f9db96dee10>> could not be transformed and will be executed as-is. Please report this to the AutoGraph team. When filing the bug, set the verbosity to 10 (on Linux, `export AUTOGRAPH_VERBOSITY=10`) and attach the full output. Cause: converting <bound method FPruningL.call of <__main__.FPruningL object at 0x7f9db96dee10>>: AssertionError: Bad argument number for Name: 3, expecting 4\n"
          ],
          "name": "stdout"
        }
      ]
    },
    {
      "cell_type": "code",
      "metadata": {
        "id": "VUSnizd8Pq7N",
        "colab": {
          "base_uri": "https://localhost:8080/",
          "height": 1000
        },
        "outputId": "4fd6d8bb-ea2e-49b5-fb5a-e029d062e733"
      },
      "source": [
        "plot_model(model2)"
      ],
      "execution_count": 53,
      "outputs": [
        {
          "output_type": "execute_result",
          "data": {
            "image/png": "[encoded data removed]",
            "text/plain": [
              "<IPython.core.display.Image object>"
            ]
          },
          "metadata": {
            "tags": []
          },
          "execution_count": 53
        }
      ]
    },
    {
      "cell_type": "markdown",
      "metadata": {
        "id": "OHr525rb6-Fr"
      },
      "source": [
        "We will create a callback function to monitor how many filters are dropable(i.e: there corrisponding pruning tensor value is below threash)"
      ]
    },
    {
      "cell_type": "code",
      "metadata": {
        "id": "kfL7b6q9QW3v"
      },
      "source": [
        "#Call back for Filter Drop info info\n",
        "class MyCallback(tf.keras.callbacks.Callback):\n",
        "  def on_epoch_end(self, epoch, logs=None):\n",
        "    error = 0\n",
        "    f = 0\n",
        "    l = 0\n",
        "    print('\\n')\n",
        "    for layer in model2.layers:\n",
        "      if (type(layer)==FPruningL):\n",
        "        w = layer.get_weights()\n",
        "        f = np.count_nonzero(w[0] <= 0.005)\n",
        "        l+=f\n",
        "        print(\"Filters Dropable : \",f)\n",
        "    print(\"Total Filters Dropable : \",l)"
      ],
      "execution_count": 54,
      "outputs": []
    },
    {
      "cell_type": "markdown",
      "metadata": {
        "id": "tIb5vqS68mFX"
      },
      "source": [
        "Compile and train prunable model."
      ]
    },
    {
      "cell_type": "code",
      "metadata": {
        "id": "DJo00bD2SSIb"
      },
      "source": [
        "sgd = SGD(lr=0.01, decay=lr_decay, momentum=0.9, nesterov=True)\n",
        "model2.compile(loss='categorical_crossentropy', optimizer=sgd,metrics=['accuracy'])"
      ],
      "execution_count": 55,
      "outputs": []
    },
    {
      "cell_type": "code",
      "metadata": {
        "id": "GWZxaEaBSGYY",
        "colab": {
          "base_uri": "https://localhost:8080/"
        },
        "outputId": "f325d7bb-64ed-4866-f508-3925d66ff1c9"
      },
      "source": [
        "\n",
        "# Fit the model on the batches generated by datagen.flow().\n",
        "model2.fit(datagen.flow(x_train, y_train,\n",
        "                                batch_size=batch_size),\n",
        "                  steps_per_epoch=x_train.shape[0] // batch_size,\n",
        "                  epochs=maxepoches,\n",
        "                  validation_data=(x_test, y_test),callbacks=[MyCallback()],verbose=1)\n"
      ],
      "execution_count": 56,
      "outputs": [
        {
          "output_type": "stream",
          "text": [
            "Epoch 1/20\n",
            "467/468 [============================>.] - ETA: 0s - loss: 28.6265 - accuracy: 0.8856\n",
            "\n",
            "Filters Dropable :  0\n",
            "Filters Dropable :  0\n",
            "Filters Dropable :  0\n",
            "Filters Dropable :  0\n",
            "Filters Dropable :  0\n",
            "Filters Dropable :  0\n",
            "Filters Dropable :  0\n",
            "Filters Dropable :  0\n",
            "Filters Dropable :  0\n",
            "Filters Dropable :  0\n",
            "Filters Dropable :  0\n",
            "Filters Dropable :  0\n",
            "Filters Dropable :  0\n",
            "Total Filters Dropable :  0\n",
            "468/468 [==============================] - 52s 112ms/step - loss: 28.6084 - accuracy: 0.8858 - val_loss: 25.6756 - val_accuracy: 0.1135\n",
            "Epoch 2/20\n",
            "467/468 [============================>.] - ETA: 0s - loss: 15.2872 - accuracy: 0.9534\n",
            "\n",
            "Filters Dropable :  30\n",
            "Filters Dropable :  22\n",
            "Filters Dropable :  0\n",
            "Filters Dropable :  0\n",
            "Filters Dropable :  0\n",
            "Filters Dropable :  0\n",
            "Filters Dropable :  0\n",
            "Filters Dropable :  0\n",
            "Filters Dropable :  0\n",
            "Filters Dropable :  0\n",
            "Filters Dropable :  0\n",
            "Filters Dropable :  0\n",
            "Filters Dropable :  0\n",
            "Total Filters Dropable :  52\n",
            "468/468 [==============================] - 35s 76ms/step - loss: 15.2794 - accuracy: 0.9535 - val_loss: 16.0827 - val_accuracy: 0.0974\n",
            "Epoch 3/20\n",
            "467/468 [============================>.] - ETA: 0s - loss: 9.3811 - accuracy: 0.9586\n",
            "\n",
            "Filters Dropable :  52\n",
            "Filters Dropable :  46\n",
            "Filters Dropable :  26\n",
            "Filters Dropable :  22\n",
            "Filters Dropable :  0\n",
            "Filters Dropable :  0\n",
            "Filters Dropable :  0\n",
            "Filters Dropable :  0\n",
            "Filters Dropable :  0\n",
            "Filters Dropable :  0\n",
            "Filters Dropable :  0\n",
            "Filters Dropable :  0\n",
            "Filters Dropable :  0\n",
            "Total Filters Dropable :  146\n",
            "468/468 [==============================] - 36s 76ms/step - loss: 9.3775 - accuracy: 0.9586 - val_loss: 11.7961 - val_accuracy: 0.2101\n",
            "Epoch 4/20\n",
            "467/468 [============================>.] - ETA: 0s - loss: 6.5456 - accuracy: 0.9583\n",
            "\n",
            "Filters Dropable :  55\n",
            "Filters Dropable :  52\n",
            "Filters Dropable :  67\n",
            "Filters Dropable :  55\n",
            "Filters Dropable :  0\n",
            "Filters Dropable :  0\n",
            "Filters Dropable :  0\n",
            "Filters Dropable :  0\n",
            "Filters Dropable :  0\n",
            "Filters Dropable :  0\n",
            "Filters Dropable :  0\n",
            "Filters Dropable :  0\n",
            "Filters Dropable :  0\n",
            "Total Filters Dropable :  229\n",
            "468/468 [==============================] - 35s 76ms/step - loss: 6.5433 - accuracy: 0.9584 - val_loss: 5.9733 - val_accuracy: 0.8075\n",
            "Epoch 5/20\n",
            "467/468 [============================>.] - ETA: 0s - loss: 4.8229 - accuracy: 0.9633\n",
            "\n",
            "Filters Dropable :  57\n",
            "Filters Dropable :  56\n",
            "Filters Dropable :  93\n",
            "Filters Dropable :  71\n",
            "Filters Dropable :  0\n",
            "Filters Dropable :  0\n",
            "Filters Dropable :  0\n",
            "Filters Dropable :  0\n",
            "Filters Dropable :  0\n",
            "Filters Dropable :  0\n",
            "Filters Dropable :  0\n",
            "Filters Dropable :  0\n",
            "Filters Dropable :  0\n",
            "Total Filters Dropable :  277\n",
            "468/468 [==============================] - 36s 76ms/step - loss: 4.8216 - accuracy: 0.9632 - val_loss: 5.8082 - val_accuracy: 0.4284\n",
            "Epoch 6/20\n",
            "467/468 [============================>.] - ETA: 0s - loss: 3.6098 - accuracy: 0.9610\n",
            "\n",
            "Filters Dropable :  57\n",
            "Filters Dropable :  57\n",
            "Filters Dropable :  105\n",
            "Filters Dropable :  78\n",
            "Filters Dropable :  87\n",
            "Filters Dropable :  53\n",
            "Filters Dropable :  65\n",
            "Filters Dropable :  0\n",
            "Filters Dropable :  0\n",
            "Filters Dropable :  0\n",
            "Filters Dropable :  0\n",
            "Filters Dropable :  0\n",
            "Filters Dropable :  0\n",
            "Total Filters Dropable :  502\n",
            "468/468 [==============================] - 36s 76ms/step - loss: 3.6091 - accuracy: 0.9610 - val_loss: 3.5641 - val_accuracy: 0.8333\n",
            "Epoch 7/20\n",
            "467/468 [============================>.] - ETA: 0s - loss: 2.9166 - accuracy: 0.9589\n",
            "\n",
            "Filters Dropable :  57\n",
            "Filters Dropable :  57\n",
            "Filters Dropable :  108\n",
            "Filters Dropable :  84\n",
            "Filters Dropable :  124\n",
            "Filters Dropable :  92\n",
            "Filters Dropable :  104\n",
            "Filters Dropable :  0\n",
            "Filters Dropable :  0\n",
            "Filters Dropable :  0\n",
            "Filters Dropable :  0\n",
            "Filters Dropable :  0\n",
            "Filters Dropable :  0\n",
            "Total Filters Dropable :  626\n",
            "468/468 [==============================] - 36s 76ms/step - loss: 2.9160 - accuracy: 0.9589 - val_loss: 2.6220 - val_accuracy: 0.9507\n",
            "Epoch 8/20\n",
            "467/468 [============================>.] - ETA: 0s - loss: 2.3083 - accuracy: 0.9623\n",
            "\n",
            "Filters Dropable :  57\n",
            "Filters Dropable :  57\n",
            "Filters Dropable :  109\n",
            "Filters Dropable :  91\n",
            "Filters Dropable :  151\n",
            "Filters Dropable :  118\n",
            "Filters Dropable :  125\n",
            "Filters Dropable :  0\n",
            "Filters Dropable :  0\n",
            "Filters Dropable :  0\n",
            "Filters Dropable :  0\n",
            "Filters Dropable :  0\n",
            "Filters Dropable :  0\n",
            "Total Filters Dropable :  708\n",
            "468/468 [==============================] - 36s 76ms/step - loss: 2.3077 - accuracy: 0.9622 - val_loss: 2.1765 - val_accuracy: 0.9088\n",
            "Epoch 9/20\n",
            "467/468 [============================>.] - ETA: 0s - loss: 1.7329 - accuracy: 0.9638\n",
            "\n",
            "Filters Dropable :  59\n",
            "Filters Dropable :  57\n",
            "Filters Dropable :  110\n",
            "Filters Dropable :  97\n",
            "Filters Dropable :  171\n",
            "Filters Dropable :  138\n",
            "Filters Dropable :  130\n",
            "Filters Dropable :  0\n",
            "Filters Dropable :  0\n",
            "Filters Dropable :  0\n",
            "Filters Dropable :  0\n",
            "Filters Dropable :  0\n",
            "Filters Dropable :  0\n",
            "Total Filters Dropable :  762\n",
            "468/468 [==============================] - 36s 76ms/step - loss: 1.7322 - accuracy: 0.9638 - val_loss: 1.5003 - val_accuracy: 0.9546\n",
            "Epoch 10/20\n",
            "467/468 [============================>.] - ETA: 0s - loss: 1.1680 - accuracy: 0.9654\n",
            "\n",
            "Filters Dropable :  59\n",
            "Filters Dropable :  57\n",
            "Filters Dropable :  110\n",
            "Filters Dropable :  100\n",
            "Filters Dropable :  180\n",
            "Filters Dropable :  153\n",
            "Filters Dropable :  143\n",
            "Filters Dropable :  0\n",
            "Filters Dropable :  0\n",
            "Filters Dropable :  0\n",
            "Filters Dropable :  0\n",
            "Filters Dropable :  0\n",
            "Filters Dropable :  0\n",
            "Total Filters Dropable :  802\n",
            "468/468 [==============================] - 36s 76ms/step - loss: 1.1676 - accuracy: 0.9654 - val_loss: 1.8828 - val_accuracy: 0.5606\n",
            "Epoch 11/20\n",
            "467/468 [============================>.] - ETA: 0s - loss: 0.6774 - accuracy: 0.9721\n",
            "\n",
            "Filters Dropable :  60\n",
            "Filters Dropable :  57\n",
            "Filters Dropable :  112\n",
            "Filters Dropable :  104\n",
            "Filters Dropable :  193\n",
            "Filters Dropable :  179\n",
            "Filters Dropable :  176\n",
            "Filters Dropable :  54\n",
            "Filters Dropable :  1\n",
            "Filters Dropable :  2\n",
            "Filters Dropable :  36\n",
            "Filters Dropable :  0\n",
            "Filters Dropable :  3\n",
            "Total Filters Dropable :  977\n",
            "468/468 [==============================] - 36s 76ms/step - loss: 0.6769 - accuracy: 0.9721 - val_loss: 0.5254 - val_accuracy: 0.9760\n",
            "Epoch 12/20\n",
            "467/468 [============================>.] - ETA: 0s - loss: 0.4608 - accuracy: 0.9699\n",
            "\n",
            "Filters Dropable :  60\n",
            "Filters Dropable :  57\n",
            "Filters Dropable :  112\n",
            "Filters Dropable :  106\n",
            "Filters Dropable :  197\n",
            "Filters Dropable :  197\n",
            "Filters Dropable :  190\n",
            "Filters Dropable :  302\n",
            "Filters Dropable :  332\n",
            "Filters Dropable :  326\n",
            "Filters Dropable :  362\n",
            "Filters Dropable :  363\n",
            "Filters Dropable :  377\n",
            "Total Filters Dropable :  2981\n",
            "468/468 [==============================] - 36s 76ms/step - loss: 0.4607 - accuracy: 0.9699 - val_loss: 0.5597 - val_accuracy: 0.9185\n",
            "Epoch 13/20\n",
            "467/468 [============================>.] - ETA: 0s - loss: 0.3974 - accuracy: 0.9657\n",
            "\n",
            "Filters Dropable :  60\n",
            "Filters Dropable :  57\n",
            "Filters Dropable :  112\n",
            "Filters Dropable :  106\n",
            "Filters Dropable :  202\n",
            "Filters Dropable :  202\n",
            "Filters Dropable :  200\n",
            "Filters Dropable :  366\n",
            "Filters Dropable :  399\n",
            "Filters Dropable :  395\n",
            "Filters Dropable :  446\n",
            "Filters Dropable :  436\n",
            "Filters Dropable :  448\n",
            "Total Filters Dropable :  3429\n",
            "468/468 [==============================] - 36s 76ms/step - loss: 0.3975 - accuracy: 0.9657 - val_loss: 0.4881 - val_accuracy: 0.9365\n",
            "Epoch 14/20\n",
            "467/468 [============================>.] - ETA: 0s - loss: 0.3705 - accuracy: 0.9658\n",
            "\n",
            "Filters Dropable :  60\n",
            "Filters Dropable :  57\n",
            "Filters Dropable :  112\n",
            "Filters Dropable :  106\n",
            "Filters Dropable :  209\n",
            "Filters Dropable :  205\n",
            "Filters Dropable :  202\n",
            "Filters Dropable :  399\n",
            "Filters Dropable :  416\n",
            "Filters Dropable :  414\n",
            "Filters Dropable :  465\n",
            "Filters Dropable :  456\n",
            "Filters Dropable :  467\n",
            "Total Filters Dropable :  3568\n",
            "468/468 [==============================] - 36s 76ms/step - loss: 0.3706 - accuracy: 0.9658 - val_loss: 0.4580 - val_accuracy: 0.9261\n",
            "Epoch 15/20\n",
            "467/468 [============================>.] - ETA: 0s - loss: 0.3550 - accuracy: 0.9664\n",
            "\n",
            "Filters Dropable :  60\n",
            "Filters Dropable :  57\n",
            "Filters Dropable :  113\n",
            "Filters Dropable :  106\n",
            "Filters Dropable :  213\n",
            "Filters Dropable :  209\n",
            "Filters Dropable :  206\n",
            "Filters Dropable :  424\n",
            "Filters Dropable :  427\n",
            "Filters Dropable :  426\n",
            "Filters Dropable :  478\n",
            "Filters Dropable :  467\n",
            "Filters Dropable :  479\n",
            "Total Filters Dropable :  3665\n",
            "468/468 [==============================] - 36s 76ms/step - loss: 0.3550 - accuracy: 0.9664 - val_loss: 0.4072 - val_accuracy: 0.9470\n",
            "Epoch 16/20\n",
            "467/468 [============================>.] - ETA: 0s - loss: 0.3466 - accuracy: 0.9661\n",
            "\n",
            "Filters Dropable :  60\n",
            "Filters Dropable :  57\n",
            "Filters Dropable :  114\n",
            "Filters Dropable :  106\n",
            "Filters Dropable :  216\n",
            "Filters Dropable :  210\n",
            "Filters Dropable :  210\n",
            "Filters Dropable :  436\n",
            "Filters Dropable :  437\n",
            "Filters Dropable :  438\n",
            "Filters Dropable :  482\n",
            "Filters Dropable :  469\n",
            "Filters Dropable :  484\n",
            "Total Filters Dropable :  3719\n",
            "468/468 [==============================] - 36s 76ms/step - loss: 0.3465 - accuracy: 0.9661 - val_loss: 0.5855 - val_accuracy: 0.9006\n",
            "Epoch 17/20\n",
            "467/468 [============================>.] - ETA: 0s - loss: 0.3406 - accuracy: 0.9662\n",
            "\n",
            "Filters Dropable :  60\n",
            "Filters Dropable :  57\n",
            "Filters Dropable :  114\n",
            "Filters Dropable :  107\n",
            "Filters Dropable :  216\n",
            "Filters Dropable :  211\n",
            "Filters Dropable :  211\n",
            "Filters Dropable :  443\n",
            "Filters Dropable :  443\n",
            "Filters Dropable :  442\n",
            "Filters Dropable :  487\n",
            "Filters Dropable :  470\n",
            "Filters Dropable :  485\n",
            "Total Filters Dropable :  3746\n",
            "468/468 [==============================] - 36s 76ms/step - loss: 0.3407 - accuracy: 0.9662 - val_loss: 0.5319 - val_accuracy: 0.9107\n",
            "Epoch 18/20\n",
            "467/468 [============================>.] - ETA: 0s - loss: 0.3375 - accuracy: 0.9671\n",
            "\n",
            "Filters Dropable :  60\n",
            "Filters Dropable :  59\n",
            "Filters Dropable :  114\n",
            "Filters Dropable :  108\n",
            "Filters Dropable :  218\n",
            "Filters Dropable :  213\n",
            "Filters Dropable :  215\n",
            "Filters Dropable :  452\n",
            "Filters Dropable :  444\n",
            "Filters Dropable :  444\n",
            "Filters Dropable :  488\n",
            "Filters Dropable :  471\n",
            "Filters Dropable :  485\n",
            "Total Filters Dropable :  3771\n",
            "468/468 [==============================] - 36s 77ms/step - loss: 0.3375 - accuracy: 0.9671 - val_loss: 0.4986 - val_accuracy: 0.9197\n",
            "Epoch 19/20\n",
            "467/468 [============================>.] - ETA: 0s - loss: 0.3322 - accuracy: 0.9669\n",
            "\n",
            "Filters Dropable :  60\n",
            "Filters Dropable :  59\n",
            "Filters Dropable :  114\n",
            "Filters Dropable :  108\n",
            "Filters Dropable :  219\n",
            "Filters Dropable :  216\n",
            "Filters Dropable :  219\n",
            "Filters Dropable :  457\n",
            "Filters Dropable :  447\n",
            "Filters Dropable :  445\n",
            "Filters Dropable :  488\n",
            "Filters Dropable :  473\n",
            "Filters Dropable :  485\n",
            "Total Filters Dropable :  3790\n",
            "468/468 [==============================] - 36s 76ms/step - loss: 0.3322 - accuracy: 0.9669 - val_loss: 0.4112 - val_accuracy: 0.9419\n",
            "Epoch 20/20\n",
            "467/468 [============================>.] - ETA: 0s - loss: 0.3275 - accuracy: 0.9675\n",
            "\n",
            "Filters Dropable :  60\n",
            "Filters Dropable :  59\n",
            "Filters Dropable :  114\n",
            "Filters Dropable :  109\n",
            "Filters Dropable :  221\n",
            "Filters Dropable :  216\n",
            "Filters Dropable :  220\n",
            "Filters Dropable :  461\n",
            "Filters Dropable :  453\n",
            "Filters Dropable :  448\n",
            "Filters Dropable :  490\n",
            "Filters Dropable :  474\n",
            "Filters Dropable :  486\n",
            "Total Filters Dropable :  3811\n",
            "468/468 [==============================] - 36s 76ms/step - loss: 0.3274 - accuracy: 0.9675 - val_loss: 0.4587 - val_accuracy: 0.9294\n"
          ],
          "name": "stdout"
        },
        {
          "output_type": "execute_result",
          "data": {
            "text/plain": [
              "<tensorflow.python.keras.callbacks.History at 0x7f9db5d1de50>"
            ]
          },
          "metadata": {
            "tags": []
          },
          "execution_count": 56
        }
      ]
    },
    {
      "cell_type": "markdown",
      "metadata": {
        "id": "Ysm3QMKCE1Ox"
      },
      "source": [
        "# Task 3"
      ]
    },
    {
      "cell_type": "markdown",
      "metadata": {
        "id": "gqR1srrm8zJw"
      },
      "source": [
        "In this step we will zero out pruning tensor values that are below thresh and turn all values above threash to 1 to completly shut down the respective filters of prunable values.\n",
        "\n",
        "In this task you will loop through model2 and condition on FPruningL. You will get the weights of FPruningL layers, zero out pruning tensor values that are below thresh and turn all values above threash to 1 and set these updated weights to FPruningL layers. You will also make the FPruningL layers non-trainable.\n",
        "\n",
        "Threashold is : 0.0005\n",
        "\n",
        "Hint: see MyCallback()."
      ]
    },
    {
      "cell_type": "code",
      "metadata": {
        "id": "SQPG3WtxUIDr"
      },
      "source": [
        "# zero out scalling factor based on threashold\n",
        "##############################\n",
        "# TASK 3 Write your code here\n",
        "##############################\n",
        "class MyCallback(tf.keras.callbacks.Callback):\n",
        "  def on_epoch_end(self, epoch, logs=None):\n",
        "    error = 0\n",
        "    f = 0\n",
        "    l = 0\n",
        "    print('\\n')\n",
        "    for layer in model2.layers:\n",
        "      if (type(layer)==FPruningL):\n",
        "        layer.trainable = False\n",
        "        w = layer.get_weights()\n",
        "        w[0] = np.where(np.absolute(w[0]) <= 0.0005 , 0, 1)\n",
        "        layer.set_weights(w)\n",
        "        "
      ],
      "execution_count": 57,
      "outputs": []
    },
    {
      "cell_type": "markdown",
      "metadata": {
        "id": "2WnCbLL24gq3"
      },
      "source": [
        "Till this step all of our prunable filters are theoratically pruned from the netwok but physically they are still a part of the network. To remove them physically run the notebook till end."
      ]
    },
    {
      "cell_type": "markdown",
      "metadata": {
        "id": "8YNRGUbw4PGD"
      },
      "source": [
        "Now we will finetune this pruned network for a few epochs to reachive any drop in accuracy"
      ]
    },
    {
      "cell_type": "code",
      "metadata": {
        "id": "YgdkAOdctxWS"
      },
      "source": [
        "sgd = SGD(lr=0.001, decay=lr_decay, momentum=0.9, nesterov=True)\n",
        "model2.compile(loss='categorical_crossentropy', optimizer=sgd,metrics=['accuracy'])"
      ],
      "execution_count": 58,
      "outputs": []
    },
    {
      "cell_type": "code",
      "metadata": {
        "id": "19_upTB6t15C",
        "colab": {
          "base_uri": "https://localhost:8080/"
        },
        "outputId": "80db3d47-4f85-4013-af28-c252e5aed999"
      },
      "source": [
        "\n",
        "# Fit the model on the batches generated by datagen.flow().\n",
        "model2.fit(datagen.flow(x_train, y_train,\n",
        "                                batch_size=batch_size),\n",
        "                  steps_per_epoch=x_train.shape[0] // batch_size,\n",
        "                  epochs=maxepoches,\n",
        "                  validation_data=(x_test, y_test),callbacks=[MyCallback()],verbose=1)\n"
      ],
      "execution_count": 59,
      "outputs": [
        {
          "output_type": "stream",
          "text": [
            "Epoch 1/20\n",
            "467/468 [============================>.] - ETA: 0s - loss: 0.2659 - accuracy: 0.9814\n",
            "\n",
            "468/468 [==============================] - 56s 119ms/step - loss: 0.2658 - accuracy: 0.9814 - val_loss: 0.2359 - val_accuracy: 0.9873\n",
            "Epoch 2/20\n",
            "467/468 [============================>.] - ETA: 0s - loss: 1.5336 - accuracy: 0.9804\n",
            "\n",
            "468/468 [==============================] - 37s 80ms/step - loss: 1.5335 - accuracy: 0.9803 - val_loss: 1.4776 - val_accuracy: 0.9884\n",
            "Epoch 3/20\n",
            "467/468 [============================>.] - ETA: 0s - loss: 1.5000 - accuracy: 0.9830\n",
            "\n",
            "468/468 [==============================] - 37s 80ms/step - loss: 1.5001 - accuracy: 0.9830 - val_loss: 1.4659 - val_accuracy: 0.9858\n",
            "Epoch 4/20\n",
            "467/468 [============================>.] - ETA: 0s - loss: 1.4845 - accuracy: 0.9844\n",
            "\n",
            "468/468 [==============================] - 37s 80ms/step - loss: 1.4845 - accuracy: 0.9844 - val_loss: 1.4470 - val_accuracy: 0.9895\n",
            "Epoch 5/20\n",
            "467/468 [============================>.] - ETA: 0s - loss: 1.4724 - accuracy: 0.9849\n",
            "\n",
            "468/468 [==============================] - 37s 80ms/step - loss: 1.4723 - accuracy: 0.9849 - val_loss: 1.4338 - val_accuracy: 0.9910\n",
            "Epoch 6/20\n",
            "467/468 [============================>.] - ETA: 0s - loss: 1.4648 - accuracy: 0.9856\n",
            "\n",
            "468/468 [==============================] - 37s 80ms/step - loss: 1.4647 - accuracy: 0.9856 - val_loss: 1.4422 - val_accuracy: 0.9868\n",
            "Epoch 7/20\n",
            "467/468 [============================>.] - ETA: 0s - loss: 1.4559 - accuracy: 0.9862\n",
            "\n",
            "468/468 [==============================] - 37s 80ms/step - loss: 1.4560 - accuracy: 0.9862 - val_loss: 1.4235 - val_accuracy: 0.9905\n",
            "Epoch 8/20\n",
            "467/468 [============================>.] - ETA: 0s - loss: 1.4500 - accuracy: 0.9859\n",
            "\n",
            "468/468 [==============================] - 37s 80ms/step - loss: 1.4500 - accuracy: 0.9859 - val_loss: 1.4213 - val_accuracy: 0.9893\n",
            "Epoch 9/20\n",
            "467/468 [============================>.] - ETA: 0s - loss: 1.4431 - accuracy: 0.9866\n",
            "\n",
            "468/468 [==============================] - 37s 80ms/step - loss: 1.4431 - accuracy: 0.9866 - val_loss: 1.4155 - val_accuracy: 0.9891\n",
            "Epoch 10/20\n",
            "467/468 [============================>.] - ETA: 0s - loss: 1.4401 - accuracy: 0.9859\n",
            "\n",
            "468/468 [==============================] - 37s 79ms/step - loss: 1.4400 - accuracy: 0.9859 - val_loss: 1.4183 - val_accuracy: 0.9867\n",
            "Epoch 11/20\n",
            "467/468 [============================>.] - ETA: 0s - loss: 1.4348 - accuracy: 0.9864\n",
            "\n",
            "468/468 [==============================] - 37s 80ms/step - loss: 1.4348 - accuracy: 0.9864 - val_loss: 1.4040 - val_accuracy: 0.9899\n",
            "Epoch 12/20\n",
            "467/468 [============================>.] - ETA: 0s - loss: 1.4304 - accuracy: 0.9862\n",
            "\n",
            "468/468 [==============================] - 37s 80ms/step - loss: 1.4304 - accuracy: 0.9862 - val_loss: 1.4005 - val_accuracy: 0.9899\n",
            "Epoch 13/20\n",
            "467/468 [============================>.] - ETA: 0s - loss: 1.4285 - accuracy: 0.9862\n",
            "\n",
            "468/468 [==============================] - 37s 80ms/step - loss: 1.4285 - accuracy: 0.9862 - val_loss: 1.4019 - val_accuracy: 0.9898\n",
            "Epoch 14/20\n",
            "467/468 [============================>.] - ETA: 0s - loss: 1.4266 - accuracy: 0.9860\n",
            "\n",
            "468/468 [==============================] - 38s 80ms/step - loss: 1.4265 - accuracy: 0.9860 - val_loss: 1.3964 - val_accuracy: 0.9894\n",
            "Epoch 15/20\n",
            "467/468 [============================>.] - ETA: 0s - loss: 1.4242 - accuracy: 0.9864\n",
            "\n",
            "468/468 [==============================] - 37s 79ms/step - loss: 1.4241 - accuracy: 0.9864 - val_loss: 1.3908 - val_accuracy: 0.9904\n",
            "Epoch 16/20\n",
            "467/468 [============================>.] - ETA: 0s - loss: 1.4213 - accuracy: 0.9866\n",
            "\n",
            "468/468 [==============================] - 37s 80ms/step - loss: 1.4213 - accuracy: 0.9866 - val_loss: 1.3988 - val_accuracy: 0.9871\n",
            "Epoch 17/20\n",
            "467/468 [============================>.] - ETA: 0s - loss: 1.4205 - accuracy: 0.9856\n",
            "\n",
            "468/468 [==============================] - 37s 80ms/step - loss: 1.4206 - accuracy: 0.9856 - val_loss: 1.3881 - val_accuracy: 0.9904\n",
            "Epoch 18/20\n",
            "467/468 [============================>.] - ETA: 0s - loss: 1.4200 - accuracy: 0.9855\n",
            "\n",
            "468/468 [==============================] - 37s 80ms/step - loss: 1.4199 - accuracy: 0.9855 - val_loss: 1.3960 - val_accuracy: 0.9884\n",
            "Epoch 19/20\n",
            "467/468 [============================>.] - ETA: 0s - loss: 1.4185 - accuracy: 0.9855\n",
            "\n",
            "468/468 [==============================] - 37s 80ms/step - loss: 1.4184 - accuracy: 0.9855 - val_loss: 1.3998 - val_accuracy: 0.9871\n",
            "Epoch 20/20\n",
            "467/468 [============================>.] - ETA: 0s - loss: 1.4161 - accuracy: 0.9857\n",
            "\n",
            "468/468 [==============================] - 37s 80ms/step - loss: 1.4160 - accuracy: 0.9857 - val_loss: 1.4094 - val_accuracy: 0.9846\n"
          ],
          "name": "stdout"
        },
        {
          "output_type": "execute_result",
          "data": {
            "text/plain": [
              "<tensorflow.python.keras.callbacks.History at 0x7f9dba8f7d90>"
            ]
          },
          "metadata": {
            "tags": []
          },
          "execution_count": 59
        }
      ]
    },
    {
      "cell_type": "markdown",
      "metadata": {
        "id": "KbPAe5Me9cCX"
      },
      "source": [
        "Now we will remove our custom pruning layers from the network and save the pruning info from these layers in lists to use later for the removal of redundent filters."
      ]
    },
    {
      "cell_type": "code",
      "metadata": {
        "id": "RLjaG5NiSOKS",
        "colab": {
          "base_uri": "https://localhost:8080/"
        },
        "outputId": "886e615f-c01d-439e-89b8-4f9e12beb8dd"
      },
      "source": [
        "#removing Pruning Layers\n",
        "la = model2.layers\n",
        "inputl = Input(shape=(model2.input_shape[1:]))\n",
        "model3 = inputl\n",
        "\n",
        "i = 0\n",
        "while(i < len(la)):\n",
        "  layer = la[i]\n",
        "  if(type(layer)==Conv2D):\n",
        "    c = layer\n",
        "    if (type(la[i+1])==FPruningL):\n",
        "      v = c.get_weights()\n",
        "      v[0] = la[i+1].get_weights()[0]*v[0]\n",
        "      c.set_weights(v)\n",
        "      model3 = (c)(model3)\n",
        "\n",
        "    else:\n",
        "      model3 = (c)(model3)\n",
        "  elif(type(layer)==InputLayer):\n",
        "    print(\"\")\n",
        "  else:\n",
        "    model3 = (layer)(model3)\n",
        "    if(type(layer)==BatchNormalization):\n",
        "      print(\"\")\n",
        "  i+=1\n",
        "model3 = Model(inputs=[inputl], outputs=model3)"
      ],
      "execution_count": 60,
      "outputs": [
        {
          "output_type": "stream",
          "text": [
            "WARNING:tensorflow:Entity <bound method FPruningL.call of <__main__.FPruningL object at 0x7f9db322e1d0>> could not be transformed and will be executed as-is. Please report this to the AutoGraph team. When filing the bug, set the verbosity to 10 (on Linux, `export AUTOGRAPH_VERBOSITY=10`) and attach the full output. Cause: converting <bound method FPruningL.call of <__main__.FPruningL object at 0x7f9db322e1d0>>: AssertionError: Bad argument number for Name: 3, expecting 4\n"
          ],
          "name": "stdout"
        },
        {
          "output_type": "stream",
          "text": [
            "WARNING:tensorflow:Entity <bound method FPruningL.call of <__main__.FPruningL object at 0x7f9db322e1d0>> could not be transformed and will be executed as-is. Please report this to the AutoGraph team. When filing the bug, set the verbosity to 10 (on Linux, `export AUTOGRAPH_VERBOSITY=10`) and attach the full output. Cause: converting <bound method FPruningL.call of <__main__.FPruningL object at 0x7f9db322e1d0>>: AssertionError: Bad argument number for Name: 3, expecting 4\n"
          ],
          "name": "stderr"
        },
        {
          "output_type": "stream",
          "text": [
            "WARNING: Entity <bound method FPruningL.call of <__main__.FPruningL object at 0x7f9db322e1d0>> could not be transformed and will be executed as-is. Please report this to the AutoGraph team. When filing the bug, set the verbosity to 10 (on Linux, `export AUTOGRAPH_VERBOSITY=10`) and attach the full output. Cause: converting <bound method FPruningL.call of <__main__.FPruningL object at 0x7f9db322e1d0>>: AssertionError: Bad argument number for Name: 3, expecting 4\n",
            "\n",
            "WARNING:tensorflow:Entity <bound method FPruningL.call of <__main__.FPruningL object at 0x7f9db326c510>> could not be transformed and will be executed as-is. Please report this to the AutoGraph team. When filing the bug, set the verbosity to 10 (on Linux, `export AUTOGRAPH_VERBOSITY=10`) and attach the full output. Cause: converting <bound method FPruningL.call of <__main__.FPruningL object at 0x7f9db326c510>>: AssertionError: Bad argument number for Name: 3, expecting 4\n"
          ],
          "name": "stdout"
        },
        {
          "output_type": "stream",
          "text": [
            "WARNING:tensorflow:Entity <bound method FPruningL.call of <__main__.FPruningL object at 0x7f9db326c510>> could not be transformed and will be executed as-is. Please report this to the AutoGraph team. When filing the bug, set the verbosity to 10 (on Linux, `export AUTOGRAPH_VERBOSITY=10`) and attach the full output. Cause: converting <bound method FPruningL.call of <__main__.FPruningL object at 0x7f9db326c510>>: AssertionError: Bad argument number for Name: 3, expecting 4\n"
          ],
          "name": "stderr"
        },
        {
          "output_type": "stream",
          "text": [
            "WARNING: Entity <bound method FPruningL.call of <__main__.FPruningL object at 0x7f9db326c510>> could not be transformed and will be executed as-is. Please report this to the AutoGraph team. When filing the bug, set the verbosity to 10 (on Linux, `export AUTOGRAPH_VERBOSITY=10`) and attach the full output. Cause: converting <bound method FPruningL.call of <__main__.FPruningL object at 0x7f9db326c510>>: AssertionError: Bad argument number for Name: 3, expecting 4\n",
            "\n",
            "WARNING:tensorflow:Entity <bound method FPruningL.call of <__main__.FPruningL object at 0x7f9db9c4f710>> could not be transformed and will be executed as-is. Please report this to the AutoGraph team. When filing the bug, set the verbosity to 10 (on Linux, `export AUTOGRAPH_VERBOSITY=10`) and attach the full output. Cause: converting <bound method FPruningL.call of <__main__.FPruningL object at 0x7f9db9c4f710>>: AssertionError: Bad argument number for Name: 3, expecting 4\n"
          ],
          "name": "stdout"
        },
        {
          "output_type": "stream",
          "text": [
            "WARNING:tensorflow:Entity <bound method FPruningL.call of <__main__.FPruningL object at 0x7f9db9c4f710>> could not be transformed and will be executed as-is. Please report this to the AutoGraph team. When filing the bug, set the verbosity to 10 (on Linux, `export AUTOGRAPH_VERBOSITY=10`) and attach the full output. Cause: converting <bound method FPruningL.call of <__main__.FPruningL object at 0x7f9db9c4f710>>: AssertionError: Bad argument number for Name: 3, expecting 4\n"
          ],
          "name": "stderr"
        },
        {
          "output_type": "stream",
          "text": [
            "WARNING: Entity <bound method FPruningL.call of <__main__.FPruningL object at 0x7f9db9c4f710>> could not be transformed and will be executed as-is. Please report this to the AutoGraph team. When filing the bug, set the verbosity to 10 (on Linux, `export AUTOGRAPH_VERBOSITY=10`) and attach the full output. Cause: converting <bound method FPruningL.call of <__main__.FPruningL object at 0x7f9db9c4f710>>: AssertionError: Bad argument number for Name: 3, expecting 4\n",
            "\n",
            "WARNING:tensorflow:Entity <bound method FPruningL.call of <__main__.FPruningL object at 0x7f9db32a5bd0>> could not be transformed and will be executed as-is. Please report this to the AutoGraph team. When filing the bug, set the verbosity to 10 (on Linux, `export AUTOGRAPH_VERBOSITY=10`) and attach the full output. Cause: converting <bound method FPruningL.call of <__main__.FPruningL object at 0x7f9db32a5bd0>>: AssertionError: Bad argument number for Name: 3, expecting 4\n"
          ],
          "name": "stdout"
        },
        {
          "output_type": "stream",
          "text": [
            "WARNING:tensorflow:Entity <bound method FPruningL.call of <__main__.FPruningL object at 0x7f9db32a5bd0>> could not be transformed and will be executed as-is. Please report this to the AutoGraph team. When filing the bug, set the verbosity to 10 (on Linux, `export AUTOGRAPH_VERBOSITY=10`) and attach the full output. Cause: converting <bound method FPruningL.call of <__main__.FPruningL object at 0x7f9db32a5bd0>>: AssertionError: Bad argument number for Name: 3, expecting 4\n"
          ],
          "name": "stderr"
        },
        {
          "output_type": "stream",
          "text": [
            "WARNING: Entity <bound method FPruningL.call of <__main__.FPruningL object at 0x7f9db32a5bd0>> could not be transformed and will be executed as-is. Please report this to the AutoGraph team. When filing the bug, set the verbosity to 10 (on Linux, `export AUTOGRAPH_VERBOSITY=10`) and attach the full output. Cause: converting <bound method FPruningL.call of <__main__.FPruningL object at 0x7f9db32a5bd0>>: AssertionError: Bad argument number for Name: 3, expecting 4\n",
            "\n",
            "WARNING:tensorflow:Entity <bound method FPruningL.call of <__main__.FPruningL object at 0x7f9db9a91e10>> could not be transformed and will be executed as-is. Please report this to the AutoGraph team. When filing the bug, set the verbosity to 10 (on Linux, `export AUTOGRAPH_VERBOSITY=10`) and attach the full output. Cause: converting <bound method FPruningL.call of <__main__.FPruningL object at 0x7f9db9a91e10>>: AssertionError: Bad argument number for Name: 3, expecting 4\n"
          ],
          "name": "stdout"
        },
        {
          "output_type": "stream",
          "text": [
            "WARNING:tensorflow:Entity <bound method FPruningL.call of <__main__.FPruningL object at 0x7f9db9a91e10>> could not be transformed and will be executed as-is. Please report this to the AutoGraph team. When filing the bug, set the verbosity to 10 (on Linux, `export AUTOGRAPH_VERBOSITY=10`) and attach the full output. Cause: converting <bound method FPruningL.call of <__main__.FPruningL object at 0x7f9db9a91e10>>: AssertionError: Bad argument number for Name: 3, expecting 4\n"
          ],
          "name": "stderr"
        },
        {
          "output_type": "stream",
          "text": [
            "WARNING: Entity <bound method FPruningL.call of <__main__.FPruningL object at 0x7f9db9a91e10>> could not be transformed and will be executed as-is. Please report this to the AutoGraph team. When filing the bug, set the verbosity to 10 (on Linux, `export AUTOGRAPH_VERBOSITY=10`) and attach the full output. Cause: converting <bound method FPruningL.call of <__main__.FPruningL object at 0x7f9db9a91e10>>: AssertionError: Bad argument number for Name: 3, expecting 4\n",
            "\n",
            "WARNING:tensorflow:Entity <bound method FPruningL.call of <__main__.FPruningL object at 0x7f9db9a759d0>> could not be transformed and will be executed as-is. Please report this to the AutoGraph team. When filing the bug, set the verbosity to 10 (on Linux, `export AUTOGRAPH_VERBOSITY=10`) and attach the full output. Cause: converting <bound method FPruningL.call of <__main__.FPruningL object at 0x7f9db9a759d0>>: AssertionError: Bad argument number for Name: 3, expecting 4\n"
          ],
          "name": "stdout"
        },
        {
          "output_type": "stream",
          "text": [
            "WARNING:tensorflow:Entity <bound method FPruningL.call of <__main__.FPruningL object at 0x7f9db9a759d0>> could not be transformed and will be executed as-is. Please report this to the AutoGraph team. When filing the bug, set the verbosity to 10 (on Linux, `export AUTOGRAPH_VERBOSITY=10`) and attach the full output. Cause: converting <bound method FPruningL.call of <__main__.FPruningL object at 0x7f9db9a759d0>>: AssertionError: Bad argument number for Name: 3, expecting 4\n"
          ],
          "name": "stderr"
        },
        {
          "output_type": "stream",
          "text": [
            "WARNING: Entity <bound method FPruningL.call of <__main__.FPruningL object at 0x7f9db9a759d0>> could not be transformed and will be executed as-is. Please report this to the AutoGraph team. When filing the bug, set the verbosity to 10 (on Linux, `export AUTOGRAPH_VERBOSITY=10`) and attach the full output. Cause: converting <bound method FPruningL.call of <__main__.FPruningL object at 0x7f9db9a759d0>>: AssertionError: Bad argument number for Name: 3, expecting 4\n",
            "\n",
            "WARNING:tensorflow:Entity <bound method FPruningL.call of <__main__.FPruningL object at 0x7f9db99886d0>> could not be transformed and will be executed as-is. Please report this to the AutoGraph team. When filing the bug, set the verbosity to 10 (on Linux, `export AUTOGRAPH_VERBOSITY=10`) and attach the full output. Cause: converting <bound method FPruningL.call of <__main__.FPruningL object at 0x7f9db99886d0>>: AssertionError: Bad argument number for Name: 3, expecting 4\n"
          ],
          "name": "stdout"
        },
        {
          "output_type": "stream",
          "text": [
            "WARNING:tensorflow:Entity <bound method FPruningL.call of <__main__.FPruningL object at 0x7f9db99886d0>> could not be transformed and will be executed as-is. Please report this to the AutoGraph team. When filing the bug, set the verbosity to 10 (on Linux, `export AUTOGRAPH_VERBOSITY=10`) and attach the full output. Cause: converting <bound method FPruningL.call of <__main__.FPruningL object at 0x7f9db99886d0>>: AssertionError: Bad argument number for Name: 3, expecting 4\n"
          ],
          "name": "stderr"
        },
        {
          "output_type": "stream",
          "text": [
            "WARNING: Entity <bound method FPruningL.call of <__main__.FPruningL object at 0x7f9db99886d0>> could not be transformed and will be executed as-is. Please report this to the AutoGraph team. When filing the bug, set the verbosity to 10 (on Linux, `export AUTOGRAPH_VERBOSITY=10`) and attach the full output. Cause: converting <bound method FPruningL.call of <__main__.FPruningL object at 0x7f9db99886d0>>: AssertionError: Bad argument number for Name: 3, expecting 4\n",
            "\n",
            "WARNING:tensorflow:Entity <bound method FPruningL.call of <__main__.FPruningL object at 0x7f9db98be890>> could not be transformed and will be executed as-is. Please report this to the AutoGraph team. When filing the bug, set the verbosity to 10 (on Linux, `export AUTOGRAPH_VERBOSITY=10`) and attach the full output. Cause: converting <bound method FPruningL.call of <__main__.FPruningL object at 0x7f9db98be890>>: AssertionError: Bad argument number for Name: 3, expecting 4\n"
          ],
          "name": "stdout"
        },
        {
          "output_type": "stream",
          "text": [
            "WARNING:tensorflow:Entity <bound method FPruningL.call of <__main__.FPruningL object at 0x7f9db98be890>> could not be transformed and will be executed as-is. Please report this to the AutoGraph team. When filing the bug, set the verbosity to 10 (on Linux, `export AUTOGRAPH_VERBOSITY=10`) and attach the full output. Cause: converting <bound method FPruningL.call of <__main__.FPruningL object at 0x7f9db98be890>>: AssertionError: Bad argument number for Name: 3, expecting 4\n"
          ],
          "name": "stderr"
        },
        {
          "output_type": "stream",
          "text": [
            "WARNING: Entity <bound method FPruningL.call of <__main__.FPruningL object at 0x7f9db98be890>> could not be transformed and will be executed as-is. Please report this to the AutoGraph team. When filing the bug, set the verbosity to 10 (on Linux, `export AUTOGRAPH_VERBOSITY=10`) and attach the full output. Cause: converting <bound method FPruningL.call of <__main__.FPruningL object at 0x7f9db98be890>>: AssertionError: Bad argument number for Name: 3, expecting 4\n",
            "\n",
            "WARNING:tensorflow:Entity <bound method FPruningL.call of <__main__.FPruningL object at 0x7f9db98a8610>> could not be transformed and will be executed as-is. Please report this to the AutoGraph team. When filing the bug, set the verbosity to 10 (on Linux, `export AUTOGRAPH_VERBOSITY=10`) and attach the full output. Cause: converting <bound method FPruningL.call of <__main__.FPruningL object at 0x7f9db98a8610>>: AssertionError: Bad argument number for Name: 3, expecting 4\n"
          ],
          "name": "stdout"
        },
        {
          "output_type": "stream",
          "text": [
            "WARNING:tensorflow:Entity <bound method FPruningL.call of <__main__.FPruningL object at 0x7f9db98a8610>> could not be transformed and will be executed as-is. Please report this to the AutoGraph team. When filing the bug, set the verbosity to 10 (on Linux, `export AUTOGRAPH_VERBOSITY=10`) and attach the full output. Cause: converting <bound method FPruningL.call of <__main__.FPruningL object at 0x7f9db98a8610>>: AssertionError: Bad argument number for Name: 3, expecting 4\n"
          ],
          "name": "stderr"
        },
        {
          "output_type": "stream",
          "text": [
            "WARNING: Entity <bound method FPruningL.call of <__main__.FPruningL object at 0x7f9db98a8610>> could not be transformed and will be executed as-is. Please report this to the AutoGraph team. When filing the bug, set the verbosity to 10 (on Linux, `export AUTOGRAPH_VERBOSITY=10`) and attach the full output. Cause: converting <bound method FPruningL.call of <__main__.FPruningL object at 0x7f9db98a8610>>: AssertionError: Bad argument number for Name: 3, expecting 4\n",
            "\n",
            "WARNING:tensorflow:Entity <bound method FPruningL.call of <__main__.FPruningL object at 0x7f9db98531d0>> could not be transformed and will be executed as-is. Please report this to the AutoGraph team. When filing the bug, set the verbosity to 10 (on Linux, `export AUTOGRAPH_VERBOSITY=10`) and attach the full output. Cause: converting <bound method FPruningL.call of <__main__.FPruningL object at 0x7f9db98531d0>>: AssertionError: Bad argument number for Name: 3, expecting 4\n"
          ],
          "name": "stdout"
        },
        {
          "output_type": "stream",
          "text": [
            "WARNING:tensorflow:Entity <bound method FPruningL.call of <__main__.FPruningL object at 0x7f9db98531d0>> could not be transformed and will be executed as-is. Please report this to the AutoGraph team. When filing the bug, set the verbosity to 10 (on Linux, `export AUTOGRAPH_VERBOSITY=10`) and attach the full output. Cause: converting <bound method FPruningL.call of <__main__.FPruningL object at 0x7f9db98531d0>>: AssertionError: Bad argument number for Name: 3, expecting 4\n"
          ],
          "name": "stderr"
        },
        {
          "output_type": "stream",
          "text": [
            "WARNING: Entity <bound method FPruningL.call of <__main__.FPruningL object at 0x7f9db98531d0>> could not be transformed and will be executed as-is. Please report this to the AutoGraph team. When filing the bug, set the verbosity to 10 (on Linux, `export AUTOGRAPH_VERBOSITY=10`) and attach the full output. Cause: converting <bound method FPruningL.call of <__main__.FPruningL object at 0x7f9db98531d0>>: AssertionError: Bad argument number for Name: 3, expecting 4\n",
            "\n",
            "WARNING:tensorflow:Entity <bound method FPruningL.call of <__main__.FPruningL object at 0x7f9db97cf7d0>> could not be transformed and will be executed as-is. Please report this to the AutoGraph team. When filing the bug, set the verbosity to 10 (on Linux, `export AUTOGRAPH_VERBOSITY=10`) and attach the full output. Cause: converting <bound method FPruningL.call of <__main__.FPruningL object at 0x7f9db97cf7d0>>: AssertionError: Bad argument number for Name: 3, expecting 4\n"
          ],
          "name": "stdout"
        },
        {
          "output_type": "stream",
          "text": [
            "WARNING:tensorflow:Entity <bound method FPruningL.call of <__main__.FPruningL object at 0x7f9db97cf7d0>> could not be transformed and will be executed as-is. Please report this to the AutoGraph team. When filing the bug, set the verbosity to 10 (on Linux, `export AUTOGRAPH_VERBOSITY=10`) and attach the full output. Cause: converting <bound method FPruningL.call of <__main__.FPruningL object at 0x7f9db97cf7d0>>: AssertionError: Bad argument number for Name: 3, expecting 4\n"
          ],
          "name": "stderr"
        },
        {
          "output_type": "stream",
          "text": [
            "WARNING: Entity <bound method FPruningL.call of <__main__.FPruningL object at 0x7f9db97cf7d0>> could not be transformed and will be executed as-is. Please report this to the AutoGraph team. When filing the bug, set the verbosity to 10 (on Linux, `export AUTOGRAPH_VERBOSITY=10`) and attach the full output. Cause: converting <bound method FPruningL.call of <__main__.FPruningL object at 0x7f9db97cf7d0>>: AssertionError: Bad argument number for Name: 3, expecting 4\n",
            "\n",
            "WARNING:tensorflow:Entity <bound method FPruningL.call of <__main__.FPruningL object at 0x7f9db96de210>> could not be transformed and will be executed as-is. Please report this to the AutoGraph team. When filing the bug, set the verbosity to 10 (on Linux, `export AUTOGRAPH_VERBOSITY=10`) and attach the full output. Cause: converting <bound method FPruningL.call of <__main__.FPruningL object at 0x7f9db96de210>>: AssertionError: Bad argument number for Name: 3, expecting 4\n"
          ],
          "name": "stdout"
        },
        {
          "output_type": "stream",
          "text": [
            "WARNING:tensorflow:Entity <bound method FPruningL.call of <__main__.FPruningL object at 0x7f9db96de210>> could not be transformed and will be executed as-is. Please report this to the AutoGraph team. When filing the bug, set the verbosity to 10 (on Linux, `export AUTOGRAPH_VERBOSITY=10`) and attach the full output. Cause: converting <bound method FPruningL.call of <__main__.FPruningL object at 0x7f9db96de210>>: AssertionError: Bad argument number for Name: 3, expecting 4\n"
          ],
          "name": "stderr"
        },
        {
          "output_type": "stream",
          "text": [
            "WARNING: Entity <bound method FPruningL.call of <__main__.FPruningL object at 0x7f9db96de210>> could not be transformed and will be executed as-is. Please report this to the AutoGraph team. When filing the bug, set the verbosity to 10 (on Linux, `export AUTOGRAPH_VERBOSITY=10`) and attach the full output. Cause: converting <bound method FPruningL.call of <__main__.FPruningL object at 0x7f9db96de210>>: AssertionError: Bad argument number for Name: 3, expecting 4\n",
            "\n",
            "WARNING:tensorflow:Entity <bound method FPruningL.call of <__main__.FPruningL object at 0x7f9db96dee10>> could not be transformed and will be executed as-is. Please report this to the AutoGraph team. When filing the bug, set the verbosity to 10 (on Linux, `export AUTOGRAPH_VERBOSITY=10`) and attach the full output. Cause: converting <bound method FPruningL.call of <__main__.FPruningL object at 0x7f9db96dee10>>: AssertionError: Bad argument number for Name: 3, expecting 4\n"
          ],
          "name": "stdout"
        },
        {
          "output_type": "stream",
          "text": [
            "WARNING:tensorflow:Entity <bound method FPruningL.call of <__main__.FPruningL object at 0x7f9db96dee10>> could not be transformed and will be executed as-is. Please report this to the AutoGraph team. When filing the bug, set the verbosity to 10 (on Linux, `export AUTOGRAPH_VERBOSITY=10`) and attach the full output. Cause: converting <bound method FPruningL.call of <__main__.FPruningL object at 0x7f9db96dee10>>: AssertionError: Bad argument number for Name: 3, expecting 4\n"
          ],
          "name": "stderr"
        },
        {
          "output_type": "stream",
          "text": [
            "WARNING: Entity <bound method FPruningL.call of <__main__.FPruningL object at 0x7f9db96dee10>> could not be transformed and will be executed as-is. Please report this to the AutoGraph team. When filing the bug, set the verbosity to 10 (on Linux, `export AUTOGRAPH_VERBOSITY=10`) and attach the full output. Cause: converting <bound method FPruningL.call of <__main__.FPruningL object at 0x7f9db96dee10>>: AssertionError: Bad argument number for Name: 3, expecting 4\n",
            "\n",
            "\n"
          ],
          "name": "stdout"
        }
      ]
    },
    {
      "cell_type": "code",
      "metadata": {
        "id": "SBh6bv2l57aR",
        "colab": {
          "base_uri": "https://localhost:8080/"
        },
        "outputId": "2e6fa628-3675-41f3-faf7-6bd11c6dc7fe"
      },
      "source": [
        "#removing BN to use keras sergeon for filter pruning\n",
        "la = model3.layers\n",
        "inputl = Input(shape=(model2.input_shape[1:]))\n",
        "model4 = inputl\n",
        "i = 0\n",
        "w = []\n",
        "b = []\n",
        "while(i < len(la)):\n",
        "  layer = la[i]\n",
        "  if(type(layer)==FPruningL):\n",
        "    w.append(layer.get_weights()[0][0][0][0])\n",
        "  elif(type(layer)==InputLayer):\n",
        "    print(\"\")\n",
        "  elif(type(layer)==BatchNormalization):\n",
        "    b.append(layer.get_weights())\n",
        "  else:\n",
        "    model4 = (layer)(model4)\n",
        "  i+=1\n",
        "model4 = Model(inputs=[inputl], outputs=model4)"
      ],
      "execution_count": 61,
      "outputs": [
        {
          "output_type": "stream",
          "text": [
            "\n"
          ],
          "name": "stdout"
        }
      ]
    },
    {
      "cell_type": "code",
      "metadata": {
        "id": "TVm2xnQn6XRb"
      },
      "source": [
        "#BN heandling\n",
        "wx = []\n",
        "for i in range(0,len(w)):\n",
        "  wx.append(w[i].astype(bool))"
      ],
      "execution_count": 62,
      "outputs": []
    },
    {
      "cell_type": "code",
      "metadata": {
        "id": "2j9lPwg66cRb"
      },
      "source": [
        "#BN heandling\n",
        "for i in range(0,len(wx)):\n",
        "  b[i][0]=b[i][0][wx[i]]\n",
        "  b[i][1]=b[i][1][wx[i]]\n",
        "  b[i][2]=b[i][2][wx[i]]\n",
        "  b[i][3]=b[i][3][wx[i]]"
      ],
      "execution_count": 63,
      "outputs": []
    },
    {
      "cell_type": "code",
      "metadata": {
        "id": "F9NCY75M6fSb"
      },
      "source": [
        "#Filter pruning info handling\n",
        "w2 = []\n",
        "for i in range(0,len(w)):\n",
        "  s = w[i].shape\n",
        "  c = 0\n",
        "  for j in range(0,s[0]):\n",
        "    if(w[i][j]==0):\n",
        "      c+=1\n",
        "  k = np.zeros(c)\n",
        "  l = 0\n",
        "  for j in range(0,s[0]):\n",
        "    if(w[i][j]==0):\n",
        "      k[l]=j\n",
        "      l+=1\n",
        "  w2.append(k)"
      ],
      "execution_count": 64,
      "outputs": []
    },
    {
      "cell_type": "code",
      "metadata": {
        "colab": {
          "base_uri": "https://localhost:8080/"
        },
        "id": "seGGVu128G_W",
        "outputId": "87964835-72ad-4599-feec-5ce1fdb03260"
      },
      "source": [
        "!pip install tfkerassurgeon"
      ],
      "execution_count": 65,
      "outputs": [
        {
          "output_type": "stream",
          "text": [
            "Requirement already satisfied: tfkerassurgeon in /usr/local/lib/python3.7/dist-packages (0.2.1)\n"
          ],
          "name": "stdout"
        }
      ]
    },
    {
      "cell_type": "code",
      "metadata": {
        "id": "qaVGYwDw8CBj"
      },
      "source": [
        "from tfkerassurgeon.surgeon import Surgeon"
      ],
      "execution_count": 66,
      "outputs": []
    },
    {
      "cell_type": "code",
      "metadata": {
        "id": "msVrSTCO8MsS"
      },
      "source": [
        "surgeon = Surgeon(model4, None)\n",
        "i = 0\n",
        "for layer in model4.layers:\n",
        "  if(type(layer)==Conv2D):\n",
        "    w2[i] = w2[i].astype(int)\n",
        "    s = w2[i].shape\n",
        "    if(s[0]!=0):  \n",
        "      surgeon.add_job('delete_channels', layer, node_indexes=None, channels=w2[i])\n",
        "    i+=1"
      ],
      "execution_count": 67,
      "outputs": []
    },
    {
      "cell_type": "code",
      "metadata": {
        "colab": {
          "base_uri": "https://localhost:8080/"
        },
        "id": "w5sMz7Fi8PcS",
        "outputId": "352fcf91-541a-4b8e-84ee-2dc8e421963c"
      },
      "source": [
        "new_model = surgeon.operate()"
      ],
      "execution_count": 68,
      "outputs": [
        {
          "output_type": "stream",
          "text": [
            "Deleting 60/64 channels from layer: conv2d_13\n",
            "Deleting 58/64 channels from layer: conv2d_14\n",
            "Deleting 114/128 channels from layer: conv2d_15\n",
            "Deleting 109/128 channels from layer: conv2d_16\n",
            "Deleting 221/256 channels from layer: conv2d_17\n",
            "Deleting 218/256 channels from layer: conv2d_18\n",
            "Deleting 220/256 channels from layer: conv2d_19\n",
            "Deleting 461/512 channels from layer: conv2d_20\n",
            "Deleting 453/512 channels from layer: conv2d_21\n",
            "Deleting 448/512 channels from layer: conv2d_22\n",
            "Deleting 490/512 channels from layer: conv2d_23\n",
            "Deleting 474/512 channels from layer: conv2d_24\n",
            "Deleting 486/512 channels from layer: conv2d_25\n"
          ],
          "name": "stdout"
        }
      ]
    },
    {
      "cell_type": "code",
      "metadata": {
        "id": "g1pr5kGA8Rwq"
      },
      "source": [
        "#readding BN\n",
        "la = model3.layers\n",
        "inputl = Input(shape=(model2.input_shape[1:]))\n",
        "model5 = inputl\n",
        "i = 0\n",
        "for layer in new_model.layers:\n",
        "  if(type(layer)==Activation and i<len(b)):\n",
        "    model5 = (layer)(model5)\n",
        "    model5 = (BatchNormalization())(model5)\n",
        "    i+=1\n",
        "  else:\n",
        "    model5 = (layer)(model5)\n",
        "model5 = Model(inputs=[inputl], outputs=model5)"
      ],
      "execution_count": 69,
      "outputs": []
    },
    {
      "cell_type": "code",
      "metadata": {
        "id": "fHVmK6_I8WqI"
      },
      "source": [
        "#Adding weights to BN\n",
        "i = 0\n",
        "for layer in model5.layers:\n",
        "  if(type(layer)==BatchNormalization):\n",
        "    layer.set_weights(b[i])\n",
        "    i+=1"
      ],
      "execution_count": 70,
      "outputs": []
    },
    {
      "cell_type": "code",
      "metadata": {
        "id": "Z--CMSpIBCUd"
      },
      "source": [
        "def count_conv_params_flops(conv_layer, verbose=0):\n",
        "    # out shape is  n_cells_dim1 * (n_cells_dim2 * n_cells_dim3)\n",
        "    out_shape = conv_layer.output.shape.as_list()\n",
        "    n_cells_total = np.prod(out_shape[1:-1])\n",
        "\n",
        "    n_conv_params_total = conv_layer.count_params()\n",
        "\n",
        "    conv_flops = 2 * n_conv_params_total * n_cells_total\n",
        "\n",
        "    if verbose:\n",
        "        print(\"layer %s params: %s\" % (conv_layer.name, \"{:,}\".format(n_conv_params_total)))\n",
        "        print(\"layer %s flops: %s\" % (conv_layer.name, \"{:,}\".format(conv_flops)))\n",
        "\n",
        "    return n_conv_params_total, conv_flops\n",
        "\n",
        "\n",
        "def count_dense_params_flops(dense_layer, verbose=0):\n",
        "    # out shape is  n_cells_dim1 * (n_cells_dim2 * n_cells_dim3)\n",
        "    out_shape = dense_layer.output.shape.as_list()\n",
        "    n_cells_total = np.prod(out_shape[1:-1])\n",
        "\n",
        "    n_dense_params_total = dense_layer.count_params()\n",
        "\n",
        "    dense_flops = 2 * n_dense_params_total\n",
        "\n",
        "    if verbose:\n",
        "        print(\"layer %s params: %s\" % (dense_layer.name, \"{:,}\".format(n_dense_params_total)))\n",
        "        print(\"layer %s flops: %s\" % (dense_layer.name, \"{:,}\".format(dense_flops)))\n",
        "\n",
        "    return n_dense_params_total, dense_flops\n",
        "\n",
        "\n",
        "def count_model_params_flops(model):\n",
        "    total_params = 0\n",
        "    total_flops = 0\n",
        "\n",
        "    model_layers = model.layers\n",
        "\n",
        "    for layer in model_layers:\n",
        "\n",
        "        if any(conv_type in str(type(layer)) for conv_type in ['Conv1D', 'Conv2D', 'Conv3D']):\n",
        "            params, flops = count_conv_params_flops(layer)\n",
        "            total_params += params\n",
        "            total_flops += flops\n",
        "        elif 'Dense' in str(type(layer)):\n",
        "            params, flops = count_dense_params_flops(layer)\n",
        "            total_params += params\n",
        "            total_flops += flops\n",
        "        # else:\n",
        "        #     print(\"warning:: skippring layer: %s\" % str(layer))\n",
        "\n",
        "    print(\"total params (%s) : %s\" % (model.name, \"{:,}\".format(total_params)))\n",
        "    print(\"total flops  (%s) : %s\" % (model.name, \"{:,}\".format(total_flops)))\n",
        "\n",
        "    return total_params, total_flops"
      ],
      "execution_count": 71,
      "outputs": []
    },
    {
      "cell_type": "code",
      "metadata": {
        "colab": {
          "base_uri": "https://localhost:8080/"
        },
        "id": "mM8Z4unM8ZRA",
        "outputId": "54327dfc-4fa6-4b1a-f494-67f3b798a49d"
      },
      "source": [
        "count_model_params_flops(model)"
      ],
      "execution_count": 72,
      "outputs": [
        {
          "output_type": "stream",
          "text": [
            "total params (sequential_2) : 14,981,322\n",
            "total flops  (sequential_2) : 625,122,324\n"
          ],
          "name": "stdout"
        },
        {
          "output_type": "execute_result",
          "data": {
            "text/plain": [
              "(14981322, 625122324)"
            ]
          },
          "metadata": {
            "tags": []
          },
          "execution_count": 72
        }
      ]
    },
    {
      "cell_type": "code",
      "metadata": {
        "colab": {
          "base_uri": "https://localhost:8080/"
        },
        "id": "49SduxHfBEOR",
        "outputId": "4f9a0ec5-f668-4e8e-b332-a852d1e35dea"
      },
      "source": [
        "count_model_params_flops(model5)"
      ],
      "execution_count": 73,
      "outputs": [
        {
          "output_type": "stream",
          "text": [
            "total params (model_7) : 159,712\n",
            "total flops  (model_7) : 8,814,116\n"
          ],
          "name": "stdout"
        },
        {
          "output_type": "execute_result",
          "data": {
            "text/plain": [
              "(159712, 8814116)"
            ]
          },
          "metadata": {
            "tags": []
          },
          "execution_count": 73
        }
      ]
    },
    {
      "cell_type": "code",
      "metadata": {
        "id": "YQdfLRoBu13B"
      },
      "source": [
        "sgd = SGD(lr=0.001, decay=lr_decay, momentum=0.9, nesterov=True)\n",
        "model5.compile(loss='categorical_crossentropy', optimizer=sgd,metrics=['accuracy'])"
      ],
      "execution_count": 74,
      "outputs": []
    },
    {
      "cell_type": "code",
      "metadata": {
        "id": "3tMkw2Xtu75h",
        "colab": {
          "base_uri": "https://localhost:8080/"
        },
        "outputId": "89dc44bc-ea62-49fc-9eb2-4af97da7c4ef"
      },
      "source": [
        "\n",
        "# Fit the model on the batches generated by datagen.flow().\n",
        "model5.fit(datagen.flow(x_train, y_train,\n",
        "                                batch_size=batch_size),\n",
        "                  steps_per_epoch=x_train.shape[0] // batch_size,\n",
        "                  epochs=maxepoches,\n",
        "                  validation_data=(x_test, y_test),callbacks=[MyCallback()],verbose=1)\n"
      ],
      "execution_count": 75,
      "outputs": [
        {
          "output_type": "stream",
          "text": [
            "Epoch 1/20\n",
            "467/468 [============================>.] - ETA: 0s - loss: 0.0851 - accuracy: 0.9857\n",
            "\n",
            "468/468 [==============================] - 39s 84ms/step - loss: 0.0850 - accuracy: 0.9858 - val_loss: 0.0838 - val_accuracy: 0.9859\n",
            "Epoch 2/20\n",
            "467/468 [============================>.] - ETA: 0s - loss: 0.0866 - accuracy: 0.9846\n",
            "\n",
            "468/468 [==============================] - 23s 49ms/step - loss: 0.0865 - accuracy: 0.9846 - val_loss: 0.0767 - val_accuracy: 0.9879\n",
            "Epoch 3/20\n",
            "467/468 [============================>.] - ETA: 0s - loss: 0.0844 - accuracy: 0.9854\n",
            "\n",
            "468/468 [==============================] - 23s 49ms/step - loss: 0.0844 - accuracy: 0.9854 - val_loss: 0.0880 - val_accuracy: 0.9840\n",
            "Epoch 4/20\n",
            "466/468 [============================>.] - ETA: 0s - loss: 0.0820 - accuracy: 0.9859\n",
            "\n",
            "468/468 [==============================] - 23s 49ms/step - loss: 0.0821 - accuracy: 0.9859 - val_loss: 0.0871 - val_accuracy: 0.9849\n",
            "Epoch 5/20\n",
            "467/468 [============================>.] - ETA: 0s - loss: 0.0858 - accuracy: 0.9848\n",
            "\n",
            "468/468 [==============================] - 23s 48ms/step - loss: 0.0859 - accuracy: 0.9848 - val_loss: 0.0816 - val_accuracy: 0.9863\n",
            "Epoch 6/20\n",
            "466/468 [============================>.] - ETA: 0s - loss: 0.0848 - accuracy: 0.9852\n",
            "\n",
            "468/468 [==============================] - 23s 48ms/step - loss: 0.0847 - accuracy: 0.9852 - val_loss: 0.0669 - val_accuracy: 0.9909\n",
            "Epoch 7/20\n",
            "467/468 [============================>.] - ETA: 0s - loss: 0.0832 - accuracy: 0.9852\n",
            "\n",
            "468/468 [==============================] - 23s 49ms/step - loss: 0.0833 - accuracy: 0.9852 - val_loss: 0.0734 - val_accuracy: 0.9890\n",
            "Epoch 8/20\n",
            "467/468 [============================>.] - ETA: 0s - loss: 0.0827 - accuracy: 0.9856\n",
            "\n",
            "468/468 [==============================] - 23s 49ms/step - loss: 0.0827 - accuracy: 0.9856 - val_loss: 0.0748 - val_accuracy: 0.9885\n",
            "Epoch 9/20\n",
            "467/468 [============================>.] - ETA: 0s - loss: 0.0825 - accuracy: 0.9856\n",
            "\n",
            "468/468 [==============================] - 23s 49ms/step - loss: 0.0825 - accuracy: 0.9855 - val_loss: 0.0877 - val_accuracy: 0.9827\n",
            "Epoch 10/20\n",
            "467/468 [============================>.] - ETA: 0s - loss: 0.0825 - accuracy: 0.9852\n",
            "\n",
            "468/468 [==============================] - 23s 49ms/step - loss: 0.0825 - accuracy: 0.9852 - val_loss: 0.0701 - val_accuracy: 0.9894\n",
            "Epoch 11/20\n",
            "467/468 [============================>.] - ETA: 0s - loss: 0.0821 - accuracy: 0.9855\n",
            "\n",
            "468/468 [==============================] - 23s 49ms/step - loss: 0.0822 - accuracy: 0.9854 - val_loss: 0.0834 - val_accuracy: 0.9864\n",
            "Epoch 12/20\n",
            "466/468 [============================>.] - ETA: 0s - loss: 0.0823 - accuracy: 0.9857\n",
            "\n",
            "468/468 [==============================] - 23s 49ms/step - loss: 0.0822 - accuracy: 0.9858 - val_loss: 0.0644 - val_accuracy: 0.9902\n",
            "Epoch 13/20\n",
            "467/468 [============================>.] - ETA: 0s - loss: 0.0795 - accuracy: 0.9861\n",
            "\n",
            "468/468 [==============================] - 23s 49ms/step - loss: 0.0796 - accuracy: 0.9861 - val_loss: 0.0828 - val_accuracy: 0.9840\n",
            "Epoch 14/20\n",
            "466/468 [============================>.] - ETA: 0s - loss: 0.0794 - accuracy: 0.9861\n",
            "\n",
            "468/468 [==============================] - 23s 48ms/step - loss: 0.0793 - accuracy: 0.9862 - val_loss: 0.0760 - val_accuracy: 0.9876\n",
            "Epoch 15/20\n",
            "466/468 [============================>.] - ETA: 0s - loss: 0.0809 - accuracy: 0.9852\n",
            "\n",
            "468/468 [==============================] - 23s 49ms/step - loss: 0.0810 - accuracy: 0.9852 - val_loss: 0.0756 - val_accuracy: 0.9879\n",
            "Epoch 16/20\n",
            "467/468 [============================>.] - ETA: 0s - loss: 0.0824 - accuracy: 0.9854\n",
            "\n",
            "468/468 [==============================] - 23s 49ms/step - loss: 0.0824 - accuracy: 0.9854 - val_loss: 0.0740 - val_accuracy: 0.9875\n",
            "Epoch 17/20\n",
            "467/468 [============================>.] - ETA: 0s - loss: 0.0812 - accuracy: 0.9853\n",
            "\n",
            "468/468 [==============================] - 23s 49ms/step - loss: 0.0812 - accuracy: 0.9853 - val_loss: 0.0791 - val_accuracy: 0.9871\n",
            "Epoch 18/20\n",
            "466/468 [============================>.] - ETA: 0s - loss: 0.0809 - accuracy: 0.9852\n",
            "\n",
            "468/468 [==============================] - 23s 49ms/step - loss: 0.0808 - accuracy: 0.9852 - val_loss: 0.0733 - val_accuracy: 0.9883\n",
            "Epoch 19/20\n",
            "466/468 [============================>.] - ETA: 0s - loss: 0.0796 - accuracy: 0.9858\n",
            "\n",
            "468/468 [==============================] - 23s 49ms/step - loss: 0.0796 - accuracy: 0.9858 - val_loss: 0.0728 - val_accuracy: 0.9883\n",
            "Epoch 20/20\n",
            "467/468 [============================>.] - ETA: 0s - loss: 0.0809 - accuracy: 0.9849\n",
            "\n",
            "468/468 [==============================] - 23s 49ms/step - loss: 0.0809 - accuracy: 0.9850 - val_loss: 0.0832 - val_accuracy: 0.9858\n"
          ],
          "name": "stdout"
        },
        {
          "output_type": "execute_result",
          "data": {
            "text/plain": [
              "<tensorflow.python.keras.callbacks.History at 0x7f9db49d8910>"
            ]
          },
          "metadata": {
            "tags": []
          },
          "execution_count": 75
        }
      ]
    },
    {
      "cell_type": "code",
      "metadata": {
        "id": "gVUdPyv6kJ1I"
      },
      "source": [
        ""
      ],
      "execution_count": null,
      "outputs": []
    }
  ]
}