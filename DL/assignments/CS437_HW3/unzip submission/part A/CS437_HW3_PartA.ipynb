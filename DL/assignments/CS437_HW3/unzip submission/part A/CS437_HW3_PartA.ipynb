{
  "nbformat": 4,
  "nbformat_minor": 0,
  "metadata": {
    "coursera": {
      "course_slug": "convolutional-neural-networks",
      "graded_item_id": "qO8ng",
      "launcher_item_id": "7XDi8"
    },
    "kernelspec": {
      "display_name": "Python 3",
      "language": "python",
      "name": "python3"
    },
    "language_info": {
      "codemirror_mode": {
        "name": "ipython",
        "version": 3
      },
      "file_extension": ".py",
      "mimetype": "text/x-python",
      "name": "python",
      "nbconvert_exporter": "python",
      "pygments_lexer": "ipython3",
      "version": "3.7.2"
    },
    "colab": {
      "name": "CS437_HW3_PartA.ipynb",
      "provenance": [],
      "collapsed_sections": []
    }
  },
  "cells": [
    {
      "cell_type": "markdown",
      "metadata": {
        "id": "PaM-boXkIWO_"
      },
      "source": [
        "# Assignment 3 - Part A\r\n",
        "\r\n",
        "##### Roll Number: 20030012"
      ]
    },
    {
      "cell_type": "markdown",
      "metadata": {
        "id": "5Nop2bC7IWPF"
      },
      "source": [
        "## Convolutional Neural Networks using NumPy"
      ]
    },
    {
      "cell_type": "code",
      "metadata": {
        "id": "H0MeHz6MIWPG"
      },
      "source": [
        "import numpy as np\n",
        "import h5py\n",
        "import matplotlib.pyplot as plt\n",
        "\n",
        "%matplotlib inline\n",
        "plt.rcParams['figure.figsize'] = (5.0, 4.0) # set default size of plots\n",
        "plt.rcParams['image.interpolation'] = 'nearest'\n",
        "plt.rcParams['image.cmap'] = 'gray'\n",
        "\n",
        "%load_ext autoreload\n",
        "%autoreload 2\n",
        "\n",
        "np.random.seed(1)"
      ],
      "execution_count": null,
      "outputs": []
    },
    {
      "cell_type": "markdown",
      "metadata": {
        "heading_collapsed": true,
        "id": "jfW_OztcIWPG"
      },
      "source": [
        "### 2 - Outline\n",
        "\n",
        "\n",
        "In Part A, you will be implementing the building blocks of a convolutional neural network. You will be implementing the following functions:\n",
        "\n",
        "- Convolution functions:\n",
        "    - Zero Padding\n",
        "    - Convolve Window\n",
        "    - Convolution Forwward Pass\n",
        "    - Convolution Backward Pass\n",
        "\n",
        "**Note** that for every forward function, there is its corresponding backward equivalent. Hence, at every step of your forward module you will store some parameters in a cache. These parameters are used to compute gradients during backpropagation."
      ]
    },
    {
      "cell_type": "markdown",
      "metadata": {
        "id": "KZyzYSa4IWPH"
      },
      "source": [
        "### 3 - Convolutional Neural Networks\n",
        "Like Assignment 1, in this part you will be implementing forward and backward pass in NumPy. You will build every step of the convolution layer. You will first implement two helper functions: one for zero padding and the other for computing the convolution function itself. "
      ]
    },
    {
      "cell_type": "markdown",
      "metadata": {
        "id": "UkaAgnYZIWPI"
      },
      "source": [
        "#### 3.1 - Zero-Padding\n",
        "\n",
        "Zero-padding adds zeros around the border of an image:\n",
        "\n",
        "The main benefits of padding are the following:\n",
        "\n",
        "- It allows you to use a CONV layer without necessarily shrinking the height and width of the volumes. This is important for building deeper networks, since otherwise the height/width would shrink as you go to deeper layers. An important special case is the \"same\" convolution, in which the height/width is exactly preserved after one layer. \n",
        "\n",
        "- It helps us keep more of the information at the border of an image. Without padding, very few values at the next layer would be affected by pixels as the edges of an image.\n",
        "\n",
        "\n",
        "Implement the <code>zero_pad</code> function which will pad **ALL images of a BATCH of a dataset X with zeros**. Use <code>np.pad</code> to do this (Look up the documentation to figure out the arguments for padding)"
      ]
    },
    {
      "cell_type": "code",
      "metadata": {
        "id": "WIUHfXhjIWPI",
        "colab": {
          "base_uri": "https://localhost:8080/"
        },
        "outputId": "8b19f824-cbb4-4cc7-f7cc-0f782d8ca998"
      },
      "source": [
        "help(np.pad)"
      ],
      "execution_count": null,
      "outputs": [
        {
          "output_type": "stream",
          "text": [
            "Help on function pad in module numpy:\n",
            "\n",
            "pad(array, pad_width, mode='constant', **kwargs)\n",
            "    Pad an array.\n",
            "    \n",
            "    Parameters\n",
            "    ----------\n",
            "    array : array_like of rank N\n",
            "        The array to pad.\n",
            "    pad_width : {sequence, array_like, int}\n",
            "        Number of values padded to the edges of each axis.\n",
            "        ((before_1, after_1), ... (before_N, after_N)) unique pad widths\n",
            "        for each axis.\n",
            "        ((before, after),) yields same before and after pad for each axis.\n",
            "        (pad,) or int is a shortcut for before = after = pad width for all\n",
            "        axes.\n",
            "    mode : str or function, optional\n",
            "        One of the following string values or a user supplied function.\n",
            "    \n",
            "        'constant' (default)\n",
            "            Pads with a constant value.\n",
            "        'edge'\n",
            "            Pads with the edge values of array.\n",
            "        'linear_ramp'\n",
            "            Pads with the linear ramp between end_value and the\n",
            "            array edge value.\n",
            "        'maximum'\n",
            "            Pads with the maximum value of all or part of the\n",
            "            vector along each axis.\n",
            "        'mean'\n",
            "            Pads with the mean value of all or part of the\n",
            "            vector along each axis.\n",
            "        'median'\n",
            "            Pads with the median value of all or part of the\n",
            "            vector along each axis.\n",
            "        'minimum'\n",
            "            Pads with the minimum value of all or part of the\n",
            "            vector along each axis.\n",
            "        'reflect'\n",
            "            Pads with the reflection of the vector mirrored on\n",
            "            the first and last values of the vector along each\n",
            "            axis.\n",
            "        'symmetric'\n",
            "            Pads with the reflection of the vector mirrored\n",
            "            along the edge of the array.\n",
            "        'wrap'\n",
            "            Pads with the wrap of the vector along the axis.\n",
            "            The first values are used to pad the end and the\n",
            "            end values are used to pad the beginning.\n",
            "        'empty'\n",
            "            Pads with undefined values.\n",
            "    \n",
            "            .. versionadded:: 1.17\n",
            "    \n",
            "        <function>\n",
            "            Padding function, see Notes.\n",
            "    stat_length : sequence or int, optional\n",
            "        Used in 'maximum', 'mean', 'median', and 'minimum'.  Number of\n",
            "        values at edge of each axis used to calculate the statistic value.\n",
            "    \n",
            "        ((before_1, after_1), ... (before_N, after_N)) unique statistic\n",
            "        lengths for each axis.\n",
            "    \n",
            "        ((before, after),) yields same before and after statistic lengths\n",
            "        for each axis.\n",
            "    \n",
            "        (stat_length,) or int is a shortcut for before = after = statistic\n",
            "        length for all axes.\n",
            "    \n",
            "        Default is ``None``, to use the entire axis.\n",
            "    constant_values : sequence or scalar, optional\n",
            "        Used in 'constant'.  The values to set the padded values for each\n",
            "        axis.\n",
            "    \n",
            "        ``((before_1, after_1), ... (before_N, after_N))`` unique pad constants\n",
            "        for each axis.\n",
            "    \n",
            "        ``((before, after),)`` yields same before and after constants for each\n",
            "        axis.\n",
            "    \n",
            "        ``(constant,)`` or ``constant`` is a shortcut for ``before = after = constant`` for\n",
            "        all axes.\n",
            "    \n",
            "        Default is 0.\n",
            "    end_values : sequence or scalar, optional\n",
            "        Used in 'linear_ramp'.  The values used for the ending value of the\n",
            "        linear_ramp and that will form the edge of the padded array.\n",
            "    \n",
            "        ``((before_1, after_1), ... (before_N, after_N))`` unique end values\n",
            "        for each axis.\n",
            "    \n",
            "        ``((before, after),)`` yields same before and after end values for each\n",
            "        axis.\n",
            "    \n",
            "        ``(constant,)`` or ``constant`` is a shortcut for ``before = after = constant`` for\n",
            "        all axes.\n",
            "    \n",
            "        Default is 0.\n",
            "    reflect_type : {'even', 'odd'}, optional\n",
            "        Used in 'reflect', and 'symmetric'.  The 'even' style is the\n",
            "        default with an unaltered reflection around the edge value.  For\n",
            "        the 'odd' style, the extended part of the array is created by\n",
            "        subtracting the reflected values from two times the edge value.\n",
            "    \n",
            "    Returns\n",
            "    -------\n",
            "    pad : ndarray\n",
            "        Padded array of rank equal to `array` with shape increased\n",
            "        according to `pad_width`.\n",
            "    \n",
            "    Notes\n",
            "    -----\n",
            "    .. versionadded:: 1.7.0\n",
            "    \n",
            "    For an array with rank greater than 1, some of the padding of later\n",
            "    axes is calculated from padding of previous axes.  This is easiest to\n",
            "    think about with a rank 2 array where the corners of the padded array\n",
            "    are calculated by using padded values from the first axis.\n",
            "    \n",
            "    The padding function, if used, should modify a rank 1 array in-place. It\n",
            "    has the following signature::\n",
            "    \n",
            "        padding_func(vector, iaxis_pad_width, iaxis, kwargs)\n",
            "    \n",
            "    where\n",
            "    \n",
            "        vector : ndarray\n",
            "            A rank 1 array already padded with zeros.  Padded values are\n",
            "            vector[:iaxis_pad_width[0]] and vector[-iaxis_pad_width[1]:].\n",
            "        iaxis_pad_width : tuple\n",
            "            A 2-tuple of ints, iaxis_pad_width[0] represents the number of\n",
            "            values padded at the beginning of vector where\n",
            "            iaxis_pad_width[1] represents the number of values padded at\n",
            "            the end of vector.\n",
            "        iaxis : int\n",
            "            The axis currently being calculated.\n",
            "        kwargs : dict\n",
            "            Any keyword arguments the function requires.\n",
            "    \n",
            "    Examples\n",
            "    --------\n",
            "    >>> a = [1, 2, 3, 4, 5]\n",
            "    >>> np.pad(a, (2, 3), 'constant', constant_values=(4, 6))\n",
            "    array([4, 4, 1, ..., 6, 6, 6])\n",
            "    \n",
            "    >>> np.pad(a, (2, 3), 'edge')\n",
            "    array([1, 1, 1, ..., 5, 5, 5])\n",
            "    \n",
            "    >>> np.pad(a, (2, 3), 'linear_ramp', end_values=(5, -4))\n",
            "    array([ 5,  3,  1,  2,  3,  4,  5,  2, -1, -4])\n",
            "    \n",
            "    >>> np.pad(a, (2,), 'maximum')\n",
            "    array([5, 5, 1, 2, 3, 4, 5, 5, 5])\n",
            "    \n",
            "    >>> np.pad(a, (2,), 'mean')\n",
            "    array([3, 3, 1, 2, 3, 4, 5, 3, 3])\n",
            "    \n",
            "    >>> np.pad(a, (2,), 'median')\n",
            "    array([3, 3, 1, 2, 3, 4, 5, 3, 3])\n",
            "    \n",
            "    >>> a = [[1, 2], [3, 4]]\n",
            "    >>> np.pad(a, ((3, 2), (2, 3)), 'minimum')\n",
            "    array([[1, 1, 1, 2, 1, 1, 1],\n",
            "           [1, 1, 1, 2, 1, 1, 1],\n",
            "           [1, 1, 1, 2, 1, 1, 1],\n",
            "           [1, 1, 1, 2, 1, 1, 1],\n",
            "           [3, 3, 3, 4, 3, 3, 3],\n",
            "           [1, 1, 1, 2, 1, 1, 1],\n",
            "           [1, 1, 1, 2, 1, 1, 1]])\n",
            "    \n",
            "    >>> a = [1, 2, 3, 4, 5]\n",
            "    >>> np.pad(a, (2, 3), 'reflect')\n",
            "    array([3, 2, 1, 2, 3, 4, 5, 4, 3, 2])\n",
            "    \n",
            "    >>> np.pad(a, (2, 3), 'reflect', reflect_type='odd')\n",
            "    array([-1,  0,  1,  2,  3,  4,  5,  6,  7,  8])\n",
            "    \n",
            "    >>> np.pad(a, (2, 3), 'symmetric')\n",
            "    array([2, 1, 1, 2, 3, 4, 5, 5, 4, 3])\n",
            "    \n",
            "    >>> np.pad(a, (2, 3), 'symmetric', reflect_type='odd')\n",
            "    array([0, 1, 1, 2, 3, 4, 5, 5, 6, 7])\n",
            "    \n",
            "    >>> np.pad(a, (2, 3), 'wrap')\n",
            "    array([4, 5, 1, 2, 3, 4, 5, 1, 2, 3])\n",
            "    \n",
            "    >>> def pad_with(vector, pad_width, iaxis, kwargs):\n",
            "    ...     pad_value = kwargs.get('padder', 10)\n",
            "    ...     vector[:pad_width[0]] = pad_value\n",
            "    ...     vector[-pad_width[1]:] = pad_value\n",
            "    >>> a = np.arange(6)\n",
            "    >>> a = a.reshape((2, 3))\n",
            "    >>> np.pad(a, 2, pad_with)\n",
            "    array([[10, 10, 10, 10, 10, 10, 10],\n",
            "           [10, 10, 10, 10, 10, 10, 10],\n",
            "           [10, 10,  0,  1,  2, 10, 10],\n",
            "           [10, 10,  3,  4,  5, 10, 10],\n",
            "           [10, 10, 10, 10, 10, 10, 10],\n",
            "           [10, 10, 10, 10, 10, 10, 10]])\n",
            "    >>> np.pad(a, 2, pad_with, padder=100)\n",
            "    array([[100, 100, 100, 100, 100, 100, 100],\n",
            "           [100, 100, 100, 100, 100, 100, 100],\n",
            "           [100, 100,   0,   1,   2, 100, 100],\n",
            "           [100, 100,   3,   4,   5, 100, 100],\n",
            "           [100, 100, 100, 100, 100, 100, 100],\n",
            "           [100, 100, 100, 100, 100, 100, 100]])\n",
            "\n"
          ],
          "name": "stdout"
        }
      ]
    },
    {
      "cell_type": "code",
      "metadata": {
        "id": "IjrZf_iqIWPJ"
      },
      "source": [
        "def zero_pad(X, pad):\n",
        "    \"\"\"\n",
        "    Arguments:\n",
        "    X -- python numpy array of shape (m, n_H, n_W, n_C) representing a batch of m images\n",
        "    pad -- integer, amount of padding around each image on vertical and horizontal dimensions\n",
        "    \"\"\"\n",
        "    X_pad = np.pad(X, ((0,0), (pad,pad), (pad,pad), (0,0)), 'constant')  ## n_C and m dimensions are kept to be same so no padding applied there\n",
        "    return X_pad"
      ],
      "execution_count": null,
      "outputs": []
    },
    {
      "cell_type": "code",
      "metadata": {
        "id": "NaWXmaPAIWPJ",
        "colab": {
          "base_uri": "https://localhost:8080/",
          "height": 251
        },
        "outputId": "322d2330-8285-4166-f2b9-2f0bd2c96008"
      },
      "source": [
        "np.random.seed(1)\n",
        "x = np.random.randn(4, 3, 3, 2)\n",
        "x_pad = zero_pad(x, 2)\n",
        "\n",
        "print(\"Shape of x_pad: \", x_pad.shape)\n",
        "\n",
        "fig, axarr = plt.subplots(1, 2)\n",
        "axarr[0].set_title('x')\n",
        "axarr[0].imshow(x[0,:,:,0])\n",
        "axarr[1].set_title('x_pad')\n",
        "axarr[1].imshow(x_pad[0,:,:,0])"
      ],
      "execution_count": null,
      "outputs": [
        {
          "output_type": "stream",
          "text": [
            "Shape of x_pad:  (4, 7, 7, 2)\n"
          ],
          "name": "stdout"
        },
        {
          "output_type": "execute_result",
          "data": {
            "text/plain": [
              "<matplotlib.image.AxesImage at 0x7fa224345190>"
            ]
          },
          "metadata": {
            "tags": []
          },
          "execution_count": 4
        },
        {
          "output_type": "display_data",
          "data": {
            "image/png": "[encoded data removed]",
            "text/plain": [
              "<Figure size 432x288 with 2 Axes>"
            ]
          },
          "metadata": {
            "tags": [],
            "needs_background": "light"
          }
        }
      ]
    },
    {
      "cell_type": "markdown",
      "metadata": {
        "id": "4BATY1T7IWPJ"
      },
      "source": [
        "**Expected Output**:\n",
        "<table>\n",
        "    <tr>\n",
        "        <td>\n",
        "            <strong>x_pad.shape</strong>\n",
        "        </td>\n",
        "        <td>\n",
        "            (4,7,7,2)\n",
        "        </td>\n",
        "    </tr>\n",
        "\n",
        "</table>"
      ]
    },
    {
      "cell_type": "markdown",
      "metadata": {
        "id": "5S0_xi7QIWPJ"
      },
      "source": [
        "#### 3.2 - Single step of convolution \n",
        "\n",
        "In this part, implement a single step of convolution, in which you apply the filter to a **single position of the input**. This will be used to build a convolutional unit, which: \n",
        "\n",
        "- Takes an input volume \n",
        "- Applies a filter at every position of the input\n",
        "- Outputs another volume (usually of different size)"
      ]
    },
    {
      "cell_type": "code",
      "metadata": {
        "id": "tPNY7PCbIWPK"
      },
      "source": [
        "def conv_single_step(a_slice_prev, W, b):\n",
        "    \"\"\"\n",
        "    Arguments:\n",
        "    a_slice_prev -- slice of input data of shape (f, f, n_C_prev)\n",
        "    W -- Weight parameters contained in a window - matrix of shape (f, f, n_C_prev)\n",
        "    b -- Bias parameters contained in a window - matrix of shape (1, 1, 1)\n",
        "    \"\"\"\n",
        "    Z = 0\n",
        "    Z = (np.multiply(W,a_slice_prev)).sum() + b\n",
        "    return Z"
      ],
      "execution_count": null,
      "outputs": []
    },
    {
      "cell_type": "code",
      "metadata": {
        "id": "3qsHNpQkIWPK",
        "colab": {
          "base_uri": "https://localhost:8080/"
        },
        "outputId": "308ba113-c290-4827-fe9b-9356b8b25fef"
      },
      "source": [
        "np.random.seed(1)\n",
        "a_slice_prev = np.random.randn(4, 4, 3)\n",
        "W = np.random.randn(4, 4, 3)\n",
        "b = np.random.randn(1, 1, 1)\n",
        "\n",
        "Z = conv_single_step(a_slice_prev, W, b)\n",
        "print(\"Z =\", Z)"
      ],
      "execution_count": null,
      "outputs": [
        {
          "output_type": "stream",
          "text": [
            "Z = [[[-6.99908945]]]\n"
          ],
          "name": "stdout"
        }
      ]
    },
    {
      "cell_type": "markdown",
      "metadata": {
        "id": "ZWfFkw65IWPK"
      },
      "source": [
        "**Expected Output**:\n",
        "<table>\n",
        "    <tr>\n",
        "        <td>\n",
        "            <strong>Z</strong>\n",
        "        </td>\n",
        "        <td>\n",
        "            -6.99908945068\n",
        "        </td>\n",
        "    </tr>\n",
        "\n",
        "</table>"
      ]
    },
    {
      "cell_type": "markdown",
      "metadata": {
        "collapsed": true,
        "id": "jQQx6H5rIWPK"
      },
      "source": [
        "#### 3.3 - Convolutional Neural Networks - Forward pass\n",
        "\n",
        "In the forward pass, you will take many filters and convolve them on the input. Each 'convolution' gives you a 2D matrix output. You will then stack these outputs to get a 3D volume: \n",
        "\n",
        "Implement the function below to convolve the filters W on an input activation A_prev. This function takes as input A_prev, the activations output by the previous layer (for a batch of m inputs), F filters/weights denoted by W, and a bias vector denoted by b, where each filter has its own (single) bias. Finally you also have access to the hyperparameters dictionary which contains the stride and the padding. \n",
        "\n",
        "For this assignment, we won't worry about vectorization, and will just implement everything with for-loops."
      ]
    },
    {
      "cell_type": "code",
      "metadata": {
        "id": "4aWSj0ZIIWPL"
      },
      "source": [
        "def conv_forward(A_prev, W, b, hparameters):\n",
        "    \"\"\"\n",
        "    Arguments:\n",
        "    A_prev -- output activations of the previous layer, numpy array of shape (m, n_H_prev, n_W_prev, n_C_prev)\n",
        "    W -- Weights, numpy array of shape (f, f, n_C_prev, n_C)\n",
        "    b -- Biases, numpy array of shape (1, 1, 1, n_C)\n",
        "    hparameters -- python dictionary containing \"stride\" and \"pad\"\n",
        "    \"\"\"\n",
        "    # Retrieve information from \"hparameters\"\n",
        "    stride = hparameters['stride']\n",
        "    pad = hparameters['pad']\n",
        "    \n",
        "    # Retrieve dimensions from A_prev's shape\n",
        "    (m, n_H_prev, n_W_prev, n_C_prev) = A_prev.shape  # 10,4,4,3\n",
        "    \n",
        "    # Retrieve dimensions from W's shape\n",
        "    (f, f, n_C_prev, n_C) = W.shape  ## 2x2x3x8\n",
        "    \n",
        "    ########## START CODE HERE ##########\n",
        "    # Compute the dimensions of the CONV output volume (Hint: use int() to floor the output)\n",
        "    n_H = int(((n_H_prev - f + 2*pad) / stride) + 1) \n",
        "    n_W = int(((n_W_prev - f + 2*pad) / stride) + 1)\n",
        "    \n",
        "    # Initialize the output volume Z with zeros\n",
        "    Z = np.zeros((m, n_H, n_W, n_C)) ## 10x 4x4x8\n",
        "\n",
        "    # Create A_prev_pad by padding A_prev\n",
        "    A_prev_pad = zero_pad(A_prev, pad)\n",
        "\n",
        "    \n",
        "    # Iterate over EACH training example and compute its Convolved output (z) and store it appropriately in Z.\n",
        "    # Hint: Within the nested for loop you need to:\n",
        "    #              1) Select current training examples appropriate padded activation\n",
        "    #              2) Identify corner points of the current \"slice\" \n",
        "    #              3) Use these corners to extract a 3D slice from the padded input \n",
        "    #              4) Convolve this 3D slice with the appropriate filter and bias to get the output.\n",
        "    for train_example in range(m):  ## 10\n",
        "      img = A_prev_pad[train_example]  ## 8x8x3\n",
        "      for k in range(n_C): ## looping on no.of filers # 8\n",
        "        for index_h, window_h in enumerate(range(0,A_prev_pad.shape[1],stride)):\n",
        "          for window_w in range(0,int(A_prev_pad.shape[1]/stride)):  ## 0 - 3\n",
        "            convolve_slice = np.hsplit(img[window_h:window_h+stride], int(A_prev_pad.shape[1] / stride))[window_w] ## 2x2x3\n",
        "            filter = W[:, :, :, k] ## 2x2x3\n",
        "            z = conv_single_step(convolve_slice, filter, b[:,:,:,k])\n",
        "            Z[train_example][index_h][window_w][k] = z\n",
        "\n",
        "    ########## END CODE HERE ##########\n",
        "    \n",
        "    # Save information in \"cache\" for the backprop\n",
        "    cache = (A_prev, W, b, hparameters)\n",
        "    \n",
        "    return Z, cache"
      ],
      "execution_count": null,
      "outputs": []
    },
    {
      "cell_type": "code",
      "metadata": {
        "id": "ysxseQMnIWPL",
        "colab": {
          "base_uri": "https://localhost:8080/"
        },
        "outputId": "2a9538c9-ad44-490a-c3ae-7106e3c89a89"
      },
      "source": [
        "np.random.seed(1)\n",
        "A_prev = np.random.randn(10,4,4,3)\n",
        "W = np.random.randn(2,2,3,8)\n",
        "b = np.random.randn(1,1,1,8)\n",
        "hparameters = {\"pad\" : 2,\n",
        "               \"stride\": 2}\n",
        "\n",
        "Z, cache_conv = conv_forward(A_prev, W, b, hparameters)\n",
        "print(\"Z's mean =\", np.mean(Z))\n",
        "print(\"Z[3,2,1] =\", Z[3,2,1])\n",
        "print(\"cache_conv[0][1][2][3] =\", cache_conv[0][1][2][3])"
      ],
      "execution_count": null,
      "outputs": [
        {
          "output_type": "stream",
          "text": [
            "Z's mean = 0.048995203528855794\n",
            "Z[3,2,1] = [-0.61490741 -6.7439236  -2.55153897  1.75698377  3.56208902  0.53036437\n",
            "  5.18531798  8.75898442]\n",
            "cache_conv[0][1][2][3] = [-0.20075807  0.18656139  0.41005165]\n"
          ],
          "name": "stdout"
        }
      ]
    },
    {
      "cell_type": "markdown",
      "metadata": {
        "id": "Cq8drBTcIWPM"
      },
      "source": [
        "<strong>Expected Output<strong>:\n",
        "\n",
        "<table>\n",
        "    <tr>\n",
        "        <td>\n",
        "            <strong>Z's mean<strong>\n",
        "        </td>\n",
        "        <td>\n",
        "            0.0489952035289\n",
        "        </td>\n",
        "    </tr>\n",
        "    <tr>\n",
        "        <td>\n",
        "            <strong>Z[3,2,1]<strong>\n",
        "        </td>\n",
        "        <td>\n",
        "            [-0.61490741 -6.7439236  -2.55153897  1.75698377  3.56208902  0.53036437\n",
        "  5.18531798  8.75898442]\n",
        "        </td>\n",
        "    </tr>\n",
        "    <tr>\n",
        "        <td>\n",
        "            <strong>cache_conv[0][1][2][3]<strong>\n",
        "        </td>\n",
        "        <td>\n",
        "            [-0.20075807  0.18656139  0.41005165]\n",
        "        </td>\n",
        "    </tr>\n",
        "\n",
        "</table>\n"
      ]
    },
    {
      "cell_type": "markdown",
      "metadata": {
        "id": "cRkoBNyRIWPM"
      },
      "source": [
        "**Question**: How would you change the code to apply MaxPooling to the outputs? (Your answer must contain a code snippet and an explanation of its integration with <code>conv_forward</code>)    \n",
        "Answer: Change code in function 'conv_forward' as follows:\n",
        "\n",
        "1. Pass parameter 'pooling_type'<string> to the function <code>conv_fowards</code>. This parameter decides what kind of pooling is applied i-e sum, min, max, avg etc E.g if max type is given, then after slicing the matrix we select element with maximum value and place in output matrix. \n",
        "2. Make a new matrix 'max_pooled_z' as our output with shape h2 = (W-f)/s +1 and w2 = (W-f)/s +1 with same depth and number of samples. \n",
        "3. After iterating on filter's loop (loop#2) we again loop on number of filter with 2 inner for loops on height and width of image respectively as its already being done. Same logic will be applied but filter values will be replaced by 1 and pool type will be used to decide what type pooling have to apply. Filter with ones values will result in same values of sliced piece of matrix , now we apply pooling functionality and pick element on basis of it and place it in 'max_pooled_z'.\n",
        "![pooling.png](data:image/png;base64,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)\n"
      ]
    },
    {
      "cell_type": "markdown",
      "metadata": {
        "id": "iwQi6AW9IWPM"
      },
      "source": [
        "### 5 - Backpropagation in convolutional neural networks\n",
        "\n",
        "Brace yourself, you're about to implement backward pass for Convolutional layers using NumPy. Although it is tricky, it will help solidify your concepts a lot before you move on to libraries like TensorFlow which compute the backward pass automatically. You don't have to worry that much since we're providing you with the backpropogation equations (again)\n",
        "\n",
        "### 5.1 - Convolutional layer backward pass    \n",
        "<br>\n",
        "\n",
        "#### 5.1.1 - Computing dA:\n",
        "This is the formula for computing $dA$ with respect to the cost for a certain filter $W_c$ and a given training example:\n",
        "\n",
        "$$ dA += \\sum _{h=0} ^{n_H} \\sum_{w=0} ^{n_W} W_c \\times dZ_{hw} \\tag{1}$$\n",
        "\n",
        "Where $W_c$ is a filter and $dZ_{hw}$ is a scalar corresponding to the gradient of the cost with respect to the output of the conv layer Z at the hth row and wth column. Note that at each time, we multiply the the same filter $W_c$ by a different dZ when updating dA. We do so mainly because when computing the forward propagation, each filter is dotted and summed by a different a_slice. Therefore when computing the backprop for dA, we are just adding the gradients of all the a_slices. \n",
        "\n",
        "#### 5.1.2 - Computing dW:\n",
        "This is the formula for computing $dW_c$ ($dW_c$ is the derivative of one filter) with respect to the loss:\n",
        "\n",
        "$$ dW_c  += \\sum _{h=0} ^{n_H} \\sum_{w=0} ^ {n_W} a_{slice} \\times dZ_{hw}  \\tag{2}$$\n",
        "\n",
        "Where $a_{slice}$ corresponds to the slice which was used to generate the acitivation $Z_{ij}$. Hence, this ends up giving us the gradient for $W$ with respect to that slice. Since it is the same $W$, we will just add up all such gradients to get $dW$. \n",
        "\n",
        "#### 5.1.3 - Computing db:\n",
        "\n",
        "This is the formula for computing $db$ with respect to the cost for a certain filter $W_c$:\n",
        "\n",
        "$$ db = \\sum_h \\sum_w dZ_{hw} \\tag{3}$$\n",
        "\n",
        "As you have previously seen in basic neural networks, db is computed by summing $dZ$. In this case, you are just summing over all the gradients of the conv output (Z) with respect to the cost. \n",
        "\n",
        "**Exercise**: Implement the `conv_backward` function below. You should sum over all the training examples, filters, heights, and widths. You should then compute the derivatives using formulas 1, 2 and 3 above."
      ]
    },
    {
      "cell_type": "code",
      "metadata": {
        "id": "TwP5jrvTIWPN"
      },
      "source": [
        "def conv_backward(dZ, cache):\n",
        "    \"\"\"\n",
        "    Implement the backward propagation for a convolution function\n",
        "    \n",
        "    Arguments:\n",
        "    dZ -- gradient of the cost with respect to the output of the conv layer (Z), numpy array of shape (m, n_H, n_W, n_C)\n",
        "    cache -- cache of values needed for the conv_backward(), output of conv_forward()\n",
        "    \n",
        "    Returns:\n",
        "    dA_prev -- gradient of the cost with respect to the input of the conv layer (A_prev),\n",
        "               numpy array of shape (m, n_H_prev, n_W_prev, n_C_prev)\n",
        "    dW -- gradient of the cost with respect to the weights of the conv layer (W)\n",
        "          numpy array of shape (f, f, n_C_prev, n_C)\n",
        "    db -- gradient of the cost with respect to the biases of the conv layer (b)\n",
        "          numpy array of shape (1, 1, 1, n_C)\n",
        "    \"\"\"\n",
        "    \n",
        "    # Retrieve information from \"cache\"\n",
        "    (A_prev, W, b, hparameters) = cache\n",
        "    \n",
        "    # Retrieve dimensions from A_prev's shape\n",
        "    (m, n_H_prev, n_W_prev, n_C_prev) = A_prev.shape  ## 10, 4,4,3\n",
        "    \n",
        "    # Retrieve dimensions from W's shape\n",
        "    (f, f, n_C_prev, n_C) = W.shape  ## 2,2,3,8\n",
        "    \n",
        "    # Retrieve information from \"hparameters\"\n",
        "    stride = hparameters['stride']\n",
        "    pad = hparameters['pad']\n",
        "    \n",
        "    # Retrieve dimensions from dZ's shape\n",
        "    (m, n_H, n_W, n_C) = dZ.shape ## 10,4,4,8\n",
        "    \n",
        "    ### START CODE HERE ###\n",
        "    # Initialize dA_prev, dW, db (with the correct shapes) to zeros\n",
        "    dA_prev = np.zeros((m, n_H_prev, n_W_prev, n_C_prev))   ## 10,4,4,3\n",
        "    dW = np.zeros((f, f, n_C_prev, n_C))  ## 2,2,3,8\n",
        "    db = np.zeros((1,1,1, n_C))  ## 1,1,1,8\n",
        "\n",
        "    # Pad A_prev and dA_prev\n",
        "    A_prev_pad = zero_pad(A_prev, pad)  ## 10, 8,8,3\n",
        "    dA_prev_pad = zero_pad(dA_prev, pad) ## 10, 8,8,3\n",
        "    \n",
        "    # Iterate over EACH training example and compute its Convolved output (z) and store it appropriately in Z.\n",
        "    # Hint: Within the nested for loop you need to:\n",
        "    #              1) Select appropriate slice from A_prev_pad and dA_prev_pad to update it\n",
        "    #              2) Identify corner points of the current \"slice\" \n",
        "    #              3) Use these corners to extract a 3D slice from the padded activation of the previous layer \n",
        "    #              4) Update gradients for the current window and the filter's parameters using the formulas given above\n",
        "    # IMPORTANT: Before moving on to the next training example, be sure to set the current training example's dA_prev to the UNPADDED da_prev_pad\n",
        "    # (Hint: Use the pad variable to index da_prev_pad)\n",
        "\n",
        "    ### END CODE HERE ###\n",
        "    _, dA_prev_pad_H, dA_prev_pad_W, n_C_dA_prev_pad = dA_prev_pad.shape\n",
        "\n",
        "    for train_example in range(m):  ## 10  ## loop on number of examples\n",
        "      img = A_prev_pad[train_example]  ## 8x8x3  ## get a sample image\n",
        "      dA_prev_pad_img = dA_prev_pad[train_example]  ## 8x8x3  extract slice from dA_prev_pad\n",
        "      for k in range(n_C): ## looping on no.of filers # 8\n",
        "        for index_h, window_h in enumerate(range(0,A_prev_pad.shape[1],stride)):  ## loop across width , \n",
        "            for window_w in range(0,int(A_prev_pad.shape[1]/stride)):  ## 0 - 3  ## loop across height\n",
        "              convolve_slice = np.hsplit(img[window_h:window_h+stride], int(A_prev_pad.shape[1] / stride))[window_w] ## 2x2x3  ## extracting 3D slice\n",
        "              convolve_slice_dA_prev_pad = np.hsplit(dA_prev_pad_img[window_h:window_h+stride], int(dA_prev_pad_img.shape[1] / stride))[window_w] ## 2x2x3\n",
        "              convolve_slice_dA_prev_pad += W[:, :, :, k] * dZ[train_example][index_h][window_w][k] ## 2x2x3  ## calculating dA\n",
        "              dW[:,:,:,k] += convolve_slice * dZ[train_example][index_h][window_w][k]  ## calcuating dW\n",
        "              db[0][0][0][k]+= dZ[train_example][index_h][window_w][k]  ## caculating db\n",
        "     \n",
        "      dA_prev[train_example] = dA_prev_pad[train_example, pad:dA_prev_pad_H-pad, 2:dA_prev_pad_W-pad, :] ## setting dA_prev to the UNPADDED da_prev_pad\n",
        "    \n",
        "    return dA_prev, dW, db"
      ],
      "execution_count": null,
      "outputs": []
    },
    {
      "cell_type": "code",
      "metadata": {
        "scrolled": true,
        "id": "kn7blIRbIWPO",
        "colab": {
          "base_uri": "https://localhost:8080/"
        },
        "outputId": "2494f784-d517-4212-b8ce-beb4200184a9"
      },
      "source": [
        "np.random.seed(1)\n",
        "dA, dW, db = conv_backward(Z, cache_conv)\n",
        "print(\"dA_mean =\", np.mean(dA))\n",
        "print(\"dW_mean =\", np.mean(dW))\n",
        "print(\"db_mean =\", np.mean(db))"
      ],
      "execution_count": null,
      "outputs": [
        {
          "output_type": "stream",
          "text": [
            "dA_mean = 1.4524377775388075\n",
            "dW_mean = 1.7269914583139097\n",
            "db_mean = 7.839232564616838\n"
          ],
          "name": "stdout"
        }
      ]
    },
    {
      "cell_type": "markdown",
      "metadata": {
        "id": "_yx4oLgbIWPO"
      },
      "source": [
        "<strong> Expected Output: <strong>\n",
        "<table>\n",
        "    <tr>\n",
        "        <td>\n",
        "            <strong>dA_mean<strong>\n",
        "        </td>\n",
        "        <td>\n",
        "            1.45243777754\n",
        "        </td>\n",
        "    </tr>\n",
        "    <tr>\n",
        "        <td>\n",
        "            <strong>dW_mean<strong>\n",
        "        </td>\n",
        "        <td>\n",
        "            1.72699145831\n",
        "        </td>\n",
        "    </tr>\n",
        "    <tr>\n",
        "        <td>\n",
        "            <strong>db_mean<strong>\n",
        "        </td>\n",
        "        <td>\n",
        "            7.83923256462\n",
        "        </td>\n",
        "    </tr>\n",
        "\n",
        "</table>\n"
      ]
    }
  ]
}