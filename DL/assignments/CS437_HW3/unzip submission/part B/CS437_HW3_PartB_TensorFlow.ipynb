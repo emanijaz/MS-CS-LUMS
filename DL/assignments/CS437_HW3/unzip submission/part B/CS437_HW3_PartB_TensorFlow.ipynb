{
  "nbformat": 4,
  "nbformat_minor": 0,
  "metadata": {
    "colab": {
      "name": "CS437_HW3_PartB_TensorFlow.ipynb",
      "provenance": [],
      "collapsed_sections": []
    },
    "kernelspec": {
      "name": "python3",
      "display_name": "Python 3"
    },
    "accelerator": "GPU"
  },
  "cells": [
    {
      "cell_type": "markdown",
      "metadata": {
        "id": "oZYey2SB-Fkg"
      },
      "source": [
        "# Assignment 3  - Part B  - TensorFlow - Primary\r\n",
        "\r\n",
        "\r\n",
        "#### Roll Number: 20030012"
      ]
    },
    {
      "cell_type": "markdown",
      "metadata": {
        "id": "M-XLCrk6-ZdU"
      },
      "source": [
        "You have a choice in Part B. You can either choose to do using TensorFlow or using Pytorch. Both are equally good and are widely used in industry.\r\n",
        "\r\n",
        "You are only required to do one of them. It's upto you to decide which one. However, you can also do both. In case you do both, you have to choose one as primary and and other one as secondary. Your primary one will be marked as normal and secondary one will marked for a 10% bonus.\r\n",
        "\r\n",
        "For example, if you do both and choose tensorflow as your primary attempt then you should primary in first heading of tensorflow notebook (Assignment 3  - Part B  - TensorFlow - Primary) and secondary (Assignment 3  - Part B  - Pytorch - Secondary) in pytorch notebook.\r\n",
        "\r\n",
        "In case, you only do one then you just need to submit that notebook."
      ]
    },
    {
      "cell_type": "markdown",
      "metadata": {
        "id": "onn5Uxj-K349"
      },
      "source": [
        "### Task Explanation"
      ]
    },
    {
      "cell_type": "markdown",
      "metadata": {
        "id": "iQ3Xoi9P-UzM"
      },
      "source": [
        "In this part we will implement, train and evaluate a neural network using tensorflow on wheat disease classification problem. \r\n",
        "\r\n",
        "Wheat rust is a devastating plant disease that affects many crops, reducing yields and affecting the livelihoods of farmers and decreasing food security across the continent. The disease is difficult to monitor at a large scale, making it difficult to control and eradicate.\r\n",
        "\r\n",
        "The objective of this challenge is to build a machine learning algorithm to correctly classify if a plant is healthy, has stem rust, or has leaf rust."
      ]
    },
    {
      "cell_type": "markdown",
      "metadata": {
        "id": "xV4Ov5bTMHTz"
      },
      "source": [
        "### Let's Start"
      ]
    },
    {
      "cell_type": "markdown",
      "metadata": {
        "id": "qYaJpilbMVdw"
      },
      "source": [
        "Make necessary imports here e.g. import cv2, import glob, etc"
      ]
    },
    {
      "cell_type": "code",
      "metadata": {
        "id": "KFtFdAki92gb"
      },
      "source": [
        "import cv2\r\n",
        "import glob\r\n",
        "import numpy as np\r\n",
        "import matplotlib.pyplot as plt\r\n",
        "from tensorflow.keras.layers import Dense, Conv2D, Dropout, BatchNormalization, Input, LeakyReLU, Flatten, Dropout\r\n",
        "from tensorflow.keras.optimizers import Adam\r\n",
        "from tensorflow.keras import Model\r\n",
        "from sklearn.metrics import confusion_matrix\r\n",
        "import pandas as pd\r\n",
        "import seaborn as sns\r\n",
        "# any other imports that you may require\r\n",
        "import random\r\n",
        "from tensorflow.keras.losses import CategoricalCrossentropy\r\n",
        "from tensorflow.keras import Sequential\r\n",
        "from tensorflow.keras.layers import MaxPooling2D\r\n",
        "from sklearn.metrics import confusion_matrix\r\n",
        "import math"
      ],
      "execution_count": null,
      "outputs": []
    },
    {
      "cell_type": "markdown",
      "metadata": {
        "id": "PIjSa95Wbihy"
      },
      "source": [
        "### Hyperparameters"
      ]
    },
    {
      "cell_type": "markdown",
      "metadata": {
        "id": "o6UOIXtmXOWi"
      },
      "source": [
        "You can play with these to improve accuracy on test data."
      ]
    },
    {
      "cell_type": "code",
      "metadata": {
        "id": "3HmKgWchbeth"
      },
      "source": [
        "batch_size = 32\r\n",
        "epochs = 35\r\n",
        "# learning_rate = 0.0001\r\n",
        "learning_rate = 0.001\r\n",
        "\r\n",
        "input_shape = (256,256,3)"
      ],
      "execution_count": null,
      "outputs": []
    },
    {
      "cell_type": "markdown",
      "metadata": {
        "id": "gZ3_V-64bx8O"
      },
      "source": [
        "### Data"
      ]
    },
    {
      "cell_type": "markdown",
      "metadata": {
        "id": "R_MoIYfqOWrV"
      },
      "source": [
        "Get Wheat Disease Data for training and testing"
      ]
    },
    {
      "cell_type": "code",
      "metadata": {
        "id": "X1zT4SRcOf06",
        "colab": {
          "base_uri": "https://localhost:8080/"
        },
        "outputId": "173b77e4-f52a-43c6-f441-7037a91c12b9"
      },
      "source": [
        "!git clone https://github.com/MMFa666/WheatDiseaseDataset.git"
      ],
      "execution_count": null,
      "outputs": [
        {
          "output_type": "stream",
          "text": [
            "Cloning into 'WheatDiseaseDataset'...\n",
            "remote: Enumerating objects: 749, done.\u001b[K\n",
            "remote: Total 749 (delta 0), reused 0 (delta 0), pack-reused 749\u001b[K\n",
            "Receiving objects: 100% (749/749), 386.05 MiB | 48.48 MiB/s, done.\n",
            "Checking out files: 100% (877/877), done.\n"
          ],
          "name": "stdout"
        }
      ]
    },
    {
      "cell_type": "markdown",
      "metadata": {
        "id": "x-IBjRssOstN"
      },
      "source": [
        "Get paths for all the training images in the dataset and print the length of training_paths list. For this purpose you can use glob. You can have a look [here](https://www.geeksforgeeks.org/how-to-use-glob-function-to-find-files-recursively-in-python/) on how to use glob."
      ]
    },
    {
      "cell_type": "code",
      "metadata": {
        "id": "gACznLIwOnME"
      },
      "source": [
        "# code here\r\n",
        "train_paths = []\r\n",
        "for type_folder in glob.glob('/content/WheatDiseaseDataset/train/*'):\r\n",
        "  for img_link in glob.glob(type_folder + '/*'):\r\n",
        "    train_paths.append(img_link)\r\n",
        "\r\n",
        "train_examples = len(train_paths)\r\n"
      ],
      "execution_count": null,
      "outputs": []
    },
    {
      "cell_type": "markdown",
      "metadata": {
        "id": "Vm3_jouMQlD8"
      },
      "source": [
        "Do the same for testing data images."
      ]
    },
    {
      "cell_type": "code",
      "metadata": {
        "id": "H4t8VVDEQIHN"
      },
      "source": [
        "# code here\r\n",
        "test_paths = []\r\n",
        "for type_folder in glob.glob('/content/WheatDiseaseDataset/test/*'):\r\n",
        "  for img_link in glob.glob(type_folder + '/*'):\r\n",
        "    test_paths.append(img_link)\r\n",
        "test_examples = len(test_paths)\r\n"
      ],
      "execution_count": null,
      "outputs": []
    },
    {
      "cell_type": "markdown",
      "metadata": {
        "id": "PuMloSgvhuoq"
      },
      "source": [
        "### Labels"
      ]
    },
    {
      "cell_type": "code",
      "metadata": {
        "id": "7gFoRUIdhN0w"
      },
      "source": [
        "labels={}\r\n",
        "labels['healthy_wheat'] = 0\r\n",
        "labels['leaf_rust'] = 1\r\n",
        "labels['stem_rust'] = 2"
      ],
      "execution_count": null,
      "outputs": []
    },
    {
      "cell_type": "markdown",
      "metadata": {
        "id": "rzE7J7vQXr42"
      },
      "source": [
        "### Preprocessing"
      ]
    },
    {
      "cell_type": "markdown",
      "metadata": {
        "id": "zaLNCsbAXkmD"
      },
      "source": [
        "Preprocessing of data such as normalization, mean shift, make the learning task simple for network and could accelerate the training process. In this task, we will only do normaliztion.\r\n",
        "\r\n",
        "In images, pixel values range from 0 to 255. To shift the values between (0,1) range, divide input image by 255.\r\n"
      ]
    },
    {
      "cell_type": "code",
      "metadata": {
        "id": "94HiFqveQwGY"
      },
      "source": [
        "def preprocessing_norm(images):\r\n",
        "    return images/255"
      ],
      "execution_count": null,
      "outputs": []
    },
    {
      "cell_type": "markdown",
      "metadata": {
        "id": "S48J0KtpXm7w"
      },
      "source": [
        "### Batch Generator"
      ]
    },
    {
      "cell_type": "markdown",
      "metadata": {
        "id": "LuyUCA9BYXER"
      },
      "source": [
        "Previously, when training our models, we were loading the complete data in memory to fit our model. However, in practice we're working with very large datasets which cannot be loaded all at once in memory. As a solution, we use \"Data Generators\" which are essentially python generators that load batches of data from disk into memory and pass into our models. In order to achieve this, we only store filepaths that point to training/test samples in our dataset in memory. A data generator yields a tuple of (Xs,Ys) whenever the generator is used via the next() function. \r\n",
        "\r\n",
        "For examples of batch_generators, you can have a look [here](https://www.geeksforgeeks.org/generators-in-python/) or [here](https://www.programcreek.com/python/?CodeExample=generate+batches). Essentially you have to the following:\r\n",
        "- Shuffle the paths to get a uniform distribution in all batches.\r\n",
        "- Divide paths into batches.\r\n",
        "- Read image from the path. (Remeber cv2 reads image in BGR format.)\r\n",
        "- Resize each image to input_shape.\r\n",
        "- Extract label of the image from the image path using folder name. (Hint: You can do this by splitting the path.)\r\n",
        "- One-hot encode the labels.\r\n",
        "- Yield images and labels in tuple.\r\n",
        "\r\n"
      ]
    },
    {
      "cell_type": "code",
      "metadata": {
        "id": "ETFQgnFOYTLt"
      },
      "source": [
        "# Batch generator function here.\r\n",
        "def data_generator(file_path):\r\n",
        "\r\n",
        "  batch_train_paths = [file_path[i:i+batch_size] for i in range(0,len(file_path),batch_size)] ## 21 batches \r\n",
        "  for batch in np.tile(batch_train_paths,epochs): ## generating/yielding batches by #of epochs x epoch step size = 30 * 21 = 630\r\n",
        "    one_hot_labels = []\r\n",
        "    imgs_list = []\r\n",
        "    for path in batch:\r\n",
        "      img = preprocessing_norm(cv2.imread(path))\r\n",
        "      img.resize((input_shape)) ## (256,256,3)\r\n",
        "      imgs_list.append(img)\r\n",
        "      imgs_label = path.split('/')[4] ## getting label name\r\n",
        "      one_hot_encoded_label = np.zeros(3)\r\n",
        "      one_hot_encoded_label[labels[imgs_label]] = 1\r\n",
        "      one_hot_labels.append(one_hot_encoded_label)\r\n",
        "    yield np.array(imgs_list), np.array(one_hot_labels)\r\n",
        "\r\n"
      ],
      "execution_count": null,
      "outputs": []
    },
    {
      "cell_type": "markdown",
      "metadata": {
        "id": "3_AsJysziNYF"
      },
      "source": [
        "Initialize train data generator"
      ]
    },
    {
      "cell_type": "code",
      "metadata": {
        "id": "WawdX9uXg9A9"
      },
      "source": [
        "# code here\r\n",
        "random.shuffle(train_paths)\r\n",
        "generator = data_generator(train_paths)"
      ],
      "execution_count": null,
      "outputs": []
    },
    {
      "cell_type": "markdown",
      "metadata": {
        "id": "qYyw9GnXjCWL"
      },
      "source": [
        "### Training"
      ]
    },
    {
      "cell_type": "markdown",
      "metadata": {
        "id": "MWlGg_lgigzp"
      },
      "source": [
        "Build model here. Use Functional API of tensorflow to this. You can have a look [here](https://www.tensorflow.org/guide/keras/functional) to understand how this works.\r\n",
        "\r\n",
        "Model Architecture:\r\n",
        "- See model.png for model architecture\r\n",
        "- Filter size in each convolution layer is 3 except first convolution where it is 5.\r\n",
        "- The stride in each convolution layer is 2.\r\n",
        "- There is no padding in convolution layer.\r\n",
        "- Dropout = 0.2 on each dropout layer.\r\n",
        "- The last layer has softmax activation.\r\n",
        "- The model should have 491,443 total parameters.\r\n"
      ]
    },
    {
      "cell_type": "code",
      "metadata": {
        "id": "BqtPQJq3ifkT"
      },
      "source": [
        "# Code here\r\n",
        "model = Sequential()\r\n",
        "model.add(Input(shape=input_shape))\r\n",
        "model.add(Conv2D(256, kernel_size=(5, 5), strides = (2,2), activation='relu', use_bias = True))\r\n",
        "model.add(BatchNormalization())\r\n",
        "model.add(LeakyReLU(alpha=0.1))\r\n",
        "model.add(Dropout(0.2))\r\n",
        "model.add(Conv2D(128, kernel_size=(3, 3), strides = (2,2),  activation='relu' ,use_bias = True))\r\n",
        "model.add(BatchNormalization())\r\n",
        "model.add(LeakyReLU(alpha=0.1))\r\n",
        "model.add(Dropout(0.2))\r\n",
        "model.add(Conv2D(64, kernel_size=(3, 3), strides = (2,2),  activation='relu',use_bias = True))\r\n",
        "model.add(BatchNormalization())\r\n",
        "model.add(LeakyReLU(alpha=0.1))\r\n",
        "model.add(Dropout(0.2))\r\n",
        "model.add(Conv2D(32, kernel_size=(3, 3), strides = (2,2),  activation='relu',use_bias = True))\r\n",
        "model.add(BatchNormalization())\r\n",
        "model.add(LeakyReLU(alpha=0.1))\r\n",
        "model.add(Dropout(0.2))\r\n",
        "model.add(Conv2D(16, kernel_size=(3, 3), strides = (2,2),  activation='relu',use_bias = True))\r\n",
        "model.add(BatchNormalization())\r\n",
        "model.add(LeakyReLU(alpha=0.1))\r\n",
        "model.add(Dropout(0.2))\r\n",
        "model.add(Flatten())\r\n",
        "model.add(Dense(128, activation='relu', use_bias=True))\r\n",
        "model.add(LeakyReLU(alpha=0.1))                  \r\n",
        "model.add(Dropout(0.2))\r\n",
        "model.add(Dense(32, activation='relu',use_bias = True))\r\n",
        "model.add(LeakyReLU(alpha=0.1)) \r\n",
        "model.add(Dropout(0.2))\r\n",
        "model.add(Dense(3, activation='softmax',use_bias = True))"
      ],
      "execution_count": null,
      "outputs": []
    },
    {
      "cell_type": "code",
      "metadata": {
        "id": "ICCO7PkclXxx",
        "colab": {
          "base_uri": "https://localhost:8080/"
        },
        "outputId": "3de842e7-0416-4272-9f57-bd4bba7ad150"
      },
      "source": [
        "#print model summary here\r\n",
        "model.summary()\r\n"
      ],
      "execution_count": null,
      "outputs": [
        {
          "output_type": "stream",
          "text": [
            "Model: \"sequential_1\"\n",
            "_________________________________________________________________\n",
            "Layer (type)                 Output Shape              Param #   \n",
            "=================================================================\n",
            "conv2d_5 (Conv2D)            (None, 126, 126, 256)     19456     \n",
            "_________________________________________________________________\n",
            "batch_normalization_5 (Batch (None, 126, 126, 256)     1024      \n",
            "_________________________________________________________________\n",
            "leaky_re_lu_7 (LeakyReLU)    (None, 126, 126, 256)     0         \n",
            "_________________________________________________________________\n",
            "dropout_7 (Dropout)          (None, 126, 126, 256)     0         \n",
            "_________________________________________________________________\n",
            "conv2d_6 (Conv2D)            (None, 62, 62, 128)       295040    \n",
            "_________________________________________________________________\n",
            "batch_normalization_6 (Batch (None, 62, 62, 128)       512       \n",
            "_________________________________________________________________\n",
            "leaky_re_lu_8 (LeakyReLU)    (None, 62, 62, 128)       0         \n",
            "_________________________________________________________________\n",
            "dropout_8 (Dropout)          (None, 62, 62, 128)       0         \n",
            "_________________________________________________________________\n",
            "conv2d_7 (Conv2D)            (None, 30, 30, 64)        73792     \n",
            "_________________________________________________________________\n",
            "batch_normalization_7 (Batch (None, 30, 30, 64)        256       \n",
            "_________________________________________________________________\n",
            "leaky_re_lu_9 (LeakyReLU)    (None, 30, 30, 64)        0         \n",
            "_________________________________________________________________\n",
            "dropout_9 (Dropout)          (None, 30, 30, 64)        0         \n",
            "_________________________________________________________________\n",
            "conv2d_8 (Conv2D)            (None, 14, 14, 32)        18464     \n",
            "_________________________________________________________________\n",
            "batch_normalization_8 (Batch (None, 14, 14, 32)        128       \n",
            "_________________________________________________________________\n",
            "leaky_re_lu_10 (LeakyReLU)   (None, 14, 14, 32)        0         \n",
            "_________________________________________________________________\n",
            "dropout_10 (Dropout)         (None, 14, 14, 32)        0         \n",
            "_________________________________________________________________\n",
            "conv2d_9 (Conv2D)            (None, 6, 6, 16)          4624      \n",
            "_________________________________________________________________\n",
            "batch_normalization_9 (Batch (None, 6, 6, 16)          64        \n",
            "_________________________________________________________________\n",
            "leaky_re_lu_11 (LeakyReLU)   (None, 6, 6, 16)          0         \n",
            "_________________________________________________________________\n",
            "dropout_11 (Dropout)         (None, 6, 6, 16)          0         \n",
            "_________________________________________________________________\n",
            "flatten_1 (Flatten)          (None, 576)               0         \n",
            "_________________________________________________________________\n",
            "dense_3 (Dense)              (None, 128)               73856     \n",
            "_________________________________________________________________\n",
            "leaky_re_lu_12 (LeakyReLU)   (None, 128)               0         \n",
            "_________________________________________________________________\n",
            "dropout_12 (Dropout)         (None, 128)               0         \n",
            "_________________________________________________________________\n",
            "dense_4 (Dense)              (None, 32)                4128      \n",
            "_________________________________________________________________\n",
            "leaky_re_lu_13 (LeakyReLU)   (None, 32)                0         \n",
            "_________________________________________________________________\n",
            "dropout_13 (Dropout)         (None, 32)                0         \n",
            "_________________________________________________________________\n",
            "dense_5 (Dense)              (None, 3)                 99        \n",
            "=================================================================\n",
            "Total params: 491,443\n",
            "Trainable params: 490,451\n",
            "Non-trainable params: 992\n",
            "_________________________________________________________________\n"
          ],
          "name": "stdout"
        }
      ]
    },
    {
      "cell_type": "markdown",
      "metadata": {
        "id": "rdMNyisQolHQ"
      },
      "source": [
        "Compile your model here. (Hint: use model.compile() ) See [this](https://www.tensorflow.org/api_docs/python/tf/keras/Model#compile) documentation or the above link to know how to do this. \r\n",
        "\r\n",
        "Use the following specifications:\r\n",
        "- optimizer: Adam\r\n",
        "- metrics: accuracy\r\n",
        "- loss: categorical_crossentropy"
      ]
    },
    {
      "cell_type": "code",
      "metadata": {
        "id": "4P38jPGImOgN"
      },
      "source": [
        "# Code here\r\n",
        "\r\n",
        "model.compile(\r\n",
        "    loss=CategoricalCrossentropy(from_logits=True),\r\n",
        "    optimizer=Adam(learning_rate= learning_rate ),\r\n",
        "    metrics=[\"accuracy\"],\r\n",
        ")"
      ],
      "execution_count": null,
      "outputs": []
    },
    {
      "cell_type": "markdown",
      "metadata": {
        "id": "pbdoekcgqcG8"
      },
      "source": [
        "Fit your model here. (Hint: use model.fit() ) See [this](https://www.tensorflow.org/api_docs/python/tf/keras/Model#fit) documentation or the above link again to know how to do this."
      ]
    },
    {
      "cell_type": "code",
      "metadata": {
        "id": "iDJ4fwcxqQzd",
        "colab": {
          "base_uri": "https://localhost:8080/"
        },
        "outputId": "8d9fa2d5-89e5-46a0-c232-72dc43ef363a"
      },
      "source": [
        "\r\n",
        "hist = model.fit(generator, steps_per_epoch = math.ceil(train_examples/batch_size), epochs=  epochs)\r\n"
      ],
      "execution_count": null,
      "outputs": [
        {
          "output_type": "stream",
          "text": [
            "/usr/local/lib/python3.7/dist-packages/numpy/lib/shape_base.py:1250: VisibleDeprecationWarning: Creating an ndarray from ragged nested sequences (which is a list-or-tuple of lists-or-tuples-or ndarrays with different lengths or shapes) is deprecated. If you meant to do this, you must specify 'dtype=object' when creating the ndarray\n",
            "  c = _nx.array(A, copy=False, subok=True, ndmin=d)\n"
          ],
          "name": "stderr"
        },
        {
          "output_type": "stream",
          "text": [
            "Epoch 1/35\n",
            "22/22 [==============================] - 60s 3s/step - loss: 1.2746 - accuracy: 0.3991\n",
            "Epoch 2/35\n",
            "22/22 [==============================] - 63s 3s/step - loss: 1.0832 - accuracy: 0.4146\n",
            "Epoch 3/35\n",
            "22/22 [==============================] - 63s 3s/step - loss: 0.9637 - accuracy: 0.5291\n",
            "Epoch 4/35\n",
            "22/22 [==============================] - 63s 3s/step - loss: 0.9690 - accuracy: 0.4787\n",
            "Epoch 5/35\n",
            "22/22 [==============================] - 63s 3s/step - loss: 0.8832 - accuracy: 0.5866\n",
            "Epoch 6/35\n",
            "22/22 [==============================] - 64s 3s/step - loss: 0.8560 - accuracy: 0.5886\n",
            "Epoch 7/35\n",
            "22/22 [==============================] - 65s 3s/step - loss: 0.8344 - accuracy: 0.6148\n",
            "Epoch 8/35\n",
            "22/22 [==============================] - 64s 3s/step - loss: 0.8321 - accuracy: 0.6125\n",
            "Epoch 9/35\n",
            "22/22 [==============================] - 65s 3s/step - loss: 0.8153 - accuracy: 0.5976\n",
            "Epoch 10/35\n",
            "22/22 [==============================] - 64s 3s/step - loss: 0.7425 - accuracy: 0.6540\n",
            "Epoch 11/35\n",
            "22/22 [==============================] - 65s 3s/step - loss: 0.7051 - accuracy: 0.6633\n",
            "Epoch 12/35\n",
            "22/22 [==============================] - 64s 3s/step - loss: 0.6995 - accuracy: 0.6842\n",
            "Epoch 13/35\n",
            "22/22 [==============================] - 64s 3s/step - loss: 0.6294 - accuracy: 0.7259\n",
            "Epoch 14/35\n",
            "22/22 [==============================] - 64s 3s/step - loss: 0.5875 - accuracy: 0.7154\n",
            "Epoch 15/35\n",
            "22/22 [==============================] - 64s 3s/step - loss: 0.5513 - accuracy: 0.7856\n",
            "Epoch 16/35\n",
            "22/22 [==============================] - 64s 3s/step - loss: 0.5552 - accuracy: 0.7608\n",
            "Epoch 17/35\n",
            "22/22 [==============================] - 64s 3s/step - loss: 0.5165 - accuracy: 0.7724\n",
            "Epoch 18/35\n",
            "22/22 [==============================] - 64s 3s/step - loss: 0.4664 - accuracy: 0.8009\n",
            "Epoch 19/35\n",
            "22/22 [==============================] - 64s 3s/step - loss: 0.3827 - accuracy: 0.8605\n",
            "Epoch 20/35\n",
            "22/22 [==============================] - 64s 3s/step - loss: 0.3209 - accuracy: 0.8783\n",
            "Epoch 21/35\n",
            "22/22 [==============================] - 64s 3s/step - loss: 0.3790 - accuracy: 0.8510\n",
            "Epoch 22/35\n",
            "22/22 [==============================] - 64s 3s/step - loss: 0.3838 - accuracy: 0.8744\n",
            "Epoch 23/35\n",
            "22/22 [==============================] - 64s 3s/step - loss: 0.3451 - accuracy: 0.8615\n",
            "Epoch 24/35\n",
            "22/22 [==============================] - 64s 3s/step - loss: 0.3236 - accuracy: 0.8666\n",
            "Epoch 25/35\n",
            "22/22 [==============================] - 65s 3s/step - loss: 0.4121 - accuracy: 0.8459\n",
            "Epoch 26/35\n",
            "22/22 [==============================] - 64s 3s/step - loss: 0.3083 - accuracy: 0.8945\n",
            "Epoch 27/35\n",
            "22/22 [==============================] - 64s 3s/step - loss: 0.2292 - accuracy: 0.9227\n",
            "Epoch 28/35\n",
            "22/22 [==============================] - 64s 3s/step - loss: 0.1995 - accuracy: 0.9170\n",
            "Epoch 29/35\n",
            "22/22 [==============================] - 64s 3s/step - loss: 0.2129 - accuracy: 0.9066\n",
            "Epoch 30/35\n",
            "22/22 [==============================] - 64s 3s/step - loss: 0.2180 - accuracy: 0.9244\n",
            "Epoch 31/35\n",
            "22/22 [==============================] - 63s 3s/step - loss: 0.2040 - accuracy: 0.9163\n",
            "Epoch 32/35\n",
            "22/22 [==============================] - 63s 3s/step - loss: 0.2065 - accuracy: 0.9134\n",
            "Epoch 33/35\n",
            "22/22 [==============================] - 64s 3s/step - loss: 0.2491 - accuracy: 0.9109\n",
            "Epoch 34/35\n",
            "22/22 [==============================] - 64s 3s/step - loss: 0.1839 - accuracy: 0.9311\n",
            "Epoch 35/35\n",
            "22/22 [==============================] - 63s 3s/step - loss: 0.2031 - accuracy: 0.9268\n"
          ],
          "name": "stdout"
        }
      ]
    },
    {
      "cell_type": "markdown",
      "metadata": {
        "id": "kyJpvWw4Qqj5"
      },
      "source": [
        "Plot the loss and accuracy graphs of training. Use hist.history['loss'] and hist.history['accuracy'] where hist is returned by model.fit()"
      ]
    },
    {
      "cell_type": "code",
      "metadata": {
        "id": "fWjSBUpaREsx",
        "colab": {
          "base_uri": "https://localhost:8080/",
          "height": 273
        },
        "outputId": "562f1c5a-272c-4829-de3d-55d8cf26f08f"
      },
      "source": [
        "# Loss Plot\r\n",
        "\r\n",
        "plt.plot(hist.history['loss'])\r\n",
        "plt.show()\r\n"
      ],
      "execution_count": null,
      "outputs": [
        {
          "output_type": "display_data",
          "data": {
            "image/png": "[encoded data removed]",
            "text/plain": [
              "<Figure size 432x288 with 1 Axes>"
            ]
          },
          "metadata": {
            "tags": []
          }
        }
      ]
    },
    {
      "cell_type": "code",
      "metadata": {
        "id": "J5SwbAawRbiF",
        "colab": {
          "base_uri": "https://localhost:8080/",
          "height": 273
        },
        "outputId": "174791c1-d395-4420-c887-ce840c28edaf"
      },
      "source": [
        "# Accuracy Plot\r\n",
        "\r\n",
        "\r\n",
        "plt.plot(hist.history['accuracy'])\r\n",
        "plt.show()"
      ],
      "execution_count": null,
      "outputs": [
        {
          "output_type": "display_data",
          "data": {
            "image/png": "[encoded data removed]",
            "text/plain": [
              "<Figure size 432x288 with 1 Axes>"
            ]
          },
          "metadata": {
            "tags": []
          }
        }
      ]
    },
    {
      "cell_type": "markdown",
      "metadata": {
        "id": "E93C9atGR5Ln"
      },
      "source": [
        "### Evaluation"
      ]
    },
    {
      "cell_type": "markdown",
      "metadata": {
        "id": "yA1THUmuR7Ca"
      },
      "source": [
        "Now, we will evaluate our model on the test data."
      ]
    },
    {
      "cell_type": "markdown",
      "metadata": {
        "id": "P-1_GjKfSA0B"
      },
      "source": [
        "First, let's read the test data using test_paths. Similar to what we did in batch_generator."
      ]
    },
    {
      "cell_type": "code",
      "metadata": {
        "id": "wJU9SfXsSHg4"
      },
      "source": [
        "# code here\r\n",
        "test_Y = []\r\n",
        "test_X = []\r\n",
        "for path in test_paths:\r\n",
        "  img = preprocessing_norm(cv2.imread(path))\r\n",
        "  img.resize((input_shape)) ## (256,256,3)\r\n",
        "  test_X.append(img)\r\n",
        "  imgs_label = path.split('/')[4] ## getting label name\r\n",
        "  one_hot_encoded_label = np.zeros(3)\r\n",
        "  one_hot_encoded_label[labels[imgs_label]] = 1\r\n",
        "  test_Y.append(one_hot_encoded_label)\r\n"
      ],
      "execution_count": null,
      "outputs": []
    },
    {
      "cell_type": "markdown",
      "metadata": {
        "id": "iDm1xMHQSh7w"
      },
      "source": [
        "Now, make predictions on test data. (Hint: use model.predict() )."
      ]
    },
    {
      "cell_type": "code",
      "metadata": {
        "id": "nW6lX6yUSc0T"
      },
      "source": [
        "# code here\r\n",
        "preds = model.predict(np.array(test_X))"
      ],
      "execution_count": null,
      "outputs": []
    },
    {
      "cell_type": "markdown",
      "metadata": {
        "id": "f6H6NU4wTKzI"
      },
      "source": [
        "Extract class label from predictions. (Hint: you can use np.argmax() )."
      ]
    },
    {
      "cell_type": "code",
      "metadata": {
        "id": "fys8SnxKTGAN"
      },
      "source": [
        "# code here\r\n",
        "pred_labels = np.argmax(preds, axis=1)"
      ],
      "execution_count": null,
      "outputs": []
    },
    {
      "cell_type": "markdown",
      "metadata": {
        "id": "MKuaxM4wT164"
      },
      "source": [
        "Calculate and print accuracy."
      ]
    },
    {
      "cell_type": "code",
      "metadata": {
        "id": "bgRi2n7KT0oU",
        "colab": {
          "base_uri": "https://localhost:8080/"
        },
        "outputId": "0f8689d1-6b47-49a0-924a-95244822dfed"
      },
      "source": [
        "# code here\n",
        "actual_labels = np.argmax(np.array(test_Y),axis=1)\n",
        "print('accuracy is : ', ((pred_labels == actual_labels).sum() / len(actual_labels)) * 100)"
      ],
      "execution_count": null,
      "outputs": [
        {
          "output_type": "stream",
          "text": [
            "accuracy is :  65.5367231638418\n"
          ],
          "name": "stdout"
        }
      ]
    },
    {
      "cell_type": "markdown",
      "metadata": {
        "id": "JXsP39xDUWez"
      },
      "source": [
        "Calculate and print Confusion Matrix. Have a look [here](https://scikit-learn.org/stable/modules/generated/sklearn.metrics.confusion_matrix.html) for this."
      ]
    },
    {
      "cell_type": "code",
      "metadata": {
        "id": "CX2DU3CAUVzz",
        "colab": {
          "base_uri": "https://localhost:8080/"
        },
        "outputId": "22a5b6f9-e380-4d5a-ca57-a87f9ddeabf1"
      },
      "source": [
        "# code here\r\n",
        "conf_mat = confusion_matrix(actual_labels, pred_labels)\r\n",
        "print(conf_mat)"
      ],
      "execution_count": null,
      "outputs": [
        {
          "output_type": "stream",
          "text": [
            "[[17  7  5]\n",
            " [ 5 47 20]\n",
            " [ 8 16 52]]\n"
          ],
          "name": "stdout"
        }
      ]
    },
    {
      "cell_type": "code",
      "metadata": {
        "id": "tcVttT8T6YxA"
      },
      "source": [
        "def plot_confusion_matrix(conf_mat):\r\n",
        "    classes = list(labels.keys())\r\n",
        "    df_cm = pd.DataFrame(conf_mat,classes,classes)\r\n",
        "    plt.figure(figsize=(10,7))\r\n",
        "    sns.set(font_scale=1.4)\r\n",
        "    sns.heatmap(df_cm, annot=True,annot_kws={\"size\": 16})\r\n",
        "    plt.show()"
      ],
      "execution_count": null,
      "outputs": []
    },
    {
      "cell_type": "markdown",
      "metadata": {
        "id": "9w7a2UdCWJ3Q"
      },
      "source": [
        "Use the above function to plot confusion matrix here."
      ]
    },
    {
      "cell_type": "code",
      "metadata": {
        "id": "U5O9Uxo9VUHc",
        "colab": {
          "base_uri": "https://localhost:8080/",
          "height": 437
        },
        "outputId": "b461048c-c9fc-4cb3-bc46-7f1ea7fa07d4"
      },
      "source": [
        "# code below\r\n",
        "plot_confusion_matrix(conf_mat)"
      ],
      "execution_count": null,
      "outputs": [
        {
          "output_type": "display_data",
          "data": {
            "image/png": "[encoded data removed]",
            "text/plain": [
              "<Figure size 720x504 with 2 Axes>"
            ]
          },
          "metadata": {
            "tags": [],
            "needs_background": "light"
          }
        }
      ]
    },
    {
      "cell_type": "markdown",
      "metadata": {
        "id": "m29EU7mZVrD3"
      },
      "source": [
        "### Questions\r\n"
      ]
    },
    {
      "cell_type": "markdown",
      "metadata": {
        "id": "SxetUutBW9Px"
      },
      "source": [
        "\r\n",
        "What is overfitting? How are we trying to prevent overfitting here?\r\n",
        "\r\n",
        "Answer: Overfitting occurs when accuracy on training data set is quite high but low on test data set. It means that model is not generalizing for unseen data. Overfitting can be prevented using multiple ways including regularization, lowering number of features in train dataset, lower learning rate, and epochs number. Here we are preventing overfitting by keeping a balanced number of epochs i-e 30, if we set number of epochs b/w 50-100, it will lead to overfitting and training accuracy reaches to 99%.\r\n"
      ]
    },
    {
      "cell_type": "markdown",
      "metadata": {
        "id": "2QeB-aefW64T"
      },
      "source": [
        "What is class imbalance? How does it effect training? Does this training set have class imbalance? If yes, then show it (using numbers).\r\n",
        "\r\n",
        "Answer: Class Imbalance occurs when there are unevenly distributed examples in the given classes. It can occur to that extent as well that there could be even a single example in minor class and thousands of examples in major class. Class Imbalance effects training because of bias predicting towards major classes and ignoring smaller classes. Therefore, samples belonging to minor classes are oftenly misclassified and this results in wrong predictions. \r\n",
        "\r\n",
        "This set doesnt have class imbalance because there are 80 examples for each class and more data that is being generated is also evenly generated for each class. Hence no class imbalance occurs here."
      ]
    },
    {
      "cell_type": "code",
      "metadata": {
        "id": "qxrE4fN-VXNn"
      },
      "source": [
        ""
      ],
      "execution_count": null,
      "outputs": []
    }
  ]
}