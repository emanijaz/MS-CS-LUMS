{
  "nbformat": 4,
  "nbformat_minor": 0,
  "metadata": {
    "colab": {
      "name": "CS437_HW3_PartB_PyTorch.ipynb",
      "provenance": [],
      "collapsed_sections": [],
      "toc_visible": true
    },
    "kernelspec": {
      "name": "python3",
      "display_name": "Python 3"
    }
  },
  "cells": [
    {
      "cell_type": "markdown",
      "metadata": {
        "id": "oZYey2SB-Fkg"
      },
      "source": [
        "# Assignment 3  - Part B  - PyTorch - Secondary\r\n",
        "\r\n",
        "\r\n",
        "#### Roll Number: 20030012"
      ]
    },
    {
      "cell_type": "markdown",
      "metadata": {
        "id": "M-XLCrk6-ZdU"
      },
      "source": [
        "You have a choice in Part B. You can either choose to do using TensorFlow or using PyTorch. Both are equally good and are widely used in industry.\r\n",
        "\r\n",
        "You are only required to do one of them. It's upto you to decide which one. However, you can also do both. In case you do both, you have to choose one as primary and and other one as secondary. Your primary one will be marked as normal and secondary one will marked for a 10% bonus.\r\n",
        "\r\n",
        "For example, if you do both and choose tensorflow as your primary attempt then you should primary in first heading of tensorflow notebook (Assignment 3  - Part B  - TensorFlow - Primary) and secondary (Assignment 3  - Part B  - PyTorch - Secondary) in pytorch notebook.\r\n",
        "\r\n",
        "In case, you only do one then you just need to submit that notebook."
      ]
    },
    {
      "cell_type": "markdown",
      "metadata": {
        "id": "onn5Uxj-K349"
      },
      "source": [
        "### Task Explanation"
      ]
    },
    {
      "cell_type": "markdown",
      "metadata": {
        "id": "iQ3Xoi9P-UzM"
      },
      "source": [
        "In this part we will implement, train and evaluate a neural network using tensorflow on wheat disease classification problem. \r\n",
        "\r\n",
        "Wheat rust is a devastating plant disease that affects many crops, reducing yields and affecting the livelihoods of farmers and decreasing food security across the continent. The disease is difficult to monitor at a large scale, making it difficult to control and eradicate.\r\n",
        "\r\n",
        "The objective of this challenge is to build a machine learning algorithm to correctly classify if a plant is healthy, has stem rust, or has leaf rust."
      ]
    },
    {
      "cell_type": "markdown",
      "metadata": {
        "id": "xV4Ov5bTMHTz"
      },
      "source": [
        "### Let's Start"
      ]
    },
    {
      "cell_type": "markdown",
      "metadata": {
        "id": "qYaJpilbMVdw"
      },
      "source": [
        "Make necessary imports here e.g. import cv2, import glob, etc"
      ]
    },
    {
      "cell_type": "code",
      "metadata": {
        "id": "KFtFdAki92gb"
      },
      "source": [
        "import matplotlib.pyplot as plt\r\n",
        "import numpy as np\r\n",
        "import cv2\r\n",
        "import torch\r\n",
        "import torch.nn as nn\r\n",
        "import torch.nn.functional as F\r\n",
        "import torch.optim as optim\r\n",
        "from torchsummary import summary\r\n",
        "import glob\r\n",
        "from sklearn.metrics import confusion_matrix\r\n",
        "import pandas as pd\r\n",
        "import seaborn as sns\r\n",
        "# any other imports that you may require\r\n",
        "import random\r\n",
        "from sklearn.metrics import confusion_matrix\r\n",
        "import math\r\n",
        "import cv2\r\n",
        "import glob"
      ],
      "execution_count": 82,
      "outputs": []
    },
    {
      "cell_type": "markdown",
      "metadata": {
        "id": "oVmzUilBa3tC"
      },
      "source": [
        "The following code decides whether to run on GPU or CPU. You can have a look [here](https://pytorch.org/docs/stable/notes/cuda.html) to understand how to use this here in this task."
      ]
    },
    {
      "cell_type": "code",
      "metadata": {
        "id": "r-j4q_hTaurP"
      },
      "source": [
        "device = torch.device(\"cuda:0\" if torch.cuda.is_available() else \"cpu\")\n"
      ],
      "execution_count": 83,
      "outputs": []
    },
    {
      "cell_type": "markdown",
      "metadata": {
        "id": "PIjSa95Wbihy"
      },
      "source": [
        "### Hyperparameters"
      ]
    },
    {
      "cell_type": "markdown",
      "metadata": {
        "id": "o6UOIXtmXOWi"
      },
      "source": [
        "You can play with these to improve accuracy on test data."
      ]
    },
    {
      "cell_type": "code",
      "metadata": {
        "id": "3HmKgWchbeth"
      },
      "source": [
        "batch_size = 32\r\n",
        "epochs = 10\r\n",
        "learning_rate = 0.001\r\n",
        "input_shape = (3,256,256)"
      ],
      "execution_count": 94,
      "outputs": []
    },
    {
      "cell_type": "markdown",
      "metadata": {
        "id": "gZ3_V-64bx8O"
      },
      "source": [
        "### Data"
      ]
    },
    {
      "cell_type": "markdown",
      "metadata": {
        "id": "R_MoIYfqOWrV"
      },
      "source": [
        "Get Wheat Disease Data for training and testing"
      ]
    },
    {
      "cell_type": "code",
      "metadata": {
        "id": "X1zT4SRcOf06",
        "colab": {
          "base_uri": "https://localhost:8080/"
        },
        "outputId": "6d9d0c11-0c6f-4505-8693-77d1a5af1251"
      },
      "source": [
        "!git clone https://github.com/MMFa666/WheatDiseaseDataset.git"
      ],
      "execution_count": 85,
      "outputs": [
        {
          "output_type": "stream",
          "text": [
            "fatal: destination path 'WheatDiseaseDataset' already exists and is not an empty directory.\n"
          ],
          "name": "stdout"
        }
      ]
    },
    {
      "cell_type": "markdown",
      "metadata": {
        "id": "x-IBjRssOstN"
      },
      "source": [
        "Get paths for all the training images in the dataset and print the length of training_paths list. For this purpose you can use glob. You can have a look [here](https://www.geeksforgeeks.org/how-to-use-glob-function-to-find-files-recursively-in-python/) on how to use glob."
      ]
    },
    {
      "cell_type": "code",
      "metadata": {
        "id": "gACznLIwOnME"
      },
      "source": [
        "# code here\r\n",
        "train_paths = []\r\n",
        "for type_folder in glob.glob('/content/WheatDiseaseDataset/train/*'):\r\n",
        "  for img_link in glob.glob(type_folder + '/*'):\r\n",
        "    train_paths.append(img_link)\r\n",
        "\r\n",
        "train_examples = len(train_paths)\r\n"
      ],
      "execution_count": 86,
      "outputs": []
    },
    {
      "cell_type": "markdown",
      "metadata": {
        "id": "Vm3_jouMQlD8"
      },
      "source": [
        "Do the same for testing data images."
      ]
    },
    {
      "cell_type": "code",
      "metadata": {
        "id": "H4t8VVDEQIHN"
      },
      "source": [
        "# code here\r\n",
        "test_paths = []\r\n",
        "for type_folder in glob.glob('/content/WheatDiseaseDataset/test/*'):\r\n",
        "  for img_link in glob.glob(type_folder + '/*'):\r\n",
        "    test_paths.append(img_link)\r\n",
        "test_examples = len(test_paths)\r\n"
      ],
      "execution_count": 87,
      "outputs": []
    },
    {
      "cell_type": "markdown",
      "metadata": {
        "id": "PuMloSgvhuoq"
      },
      "source": [
        "### Labels"
      ]
    },
    {
      "cell_type": "code",
      "metadata": {
        "id": "7gFoRUIdhN0w"
      },
      "source": [
        "labels={}\r\n",
        "labels['healthy_wheat'] = 0\r\n",
        "labels['leaf_rust'] = 1\r\n",
        "labels['stem_rust'] = 2"
      ],
      "execution_count": 88,
      "outputs": []
    },
    {
      "cell_type": "markdown",
      "metadata": {
        "id": "rzE7J7vQXr42"
      },
      "source": [
        "### Preprocessing"
      ]
    },
    {
      "cell_type": "markdown",
      "metadata": {
        "id": "zaLNCsbAXkmD"
      },
      "source": [
        "Preprocessing of data such as normalization, mean shift, make the learning task simple for network and could accelerate the training process. In this task, we will only do normaliztion.\r\n",
        "\r\n",
        "In images, pixel values range from 0 to 255. To shift the values between (0,1) range, divide input image by 255.\r\n"
      ]
    },
    {
      "cell_type": "code",
      "metadata": {
        "id": "94HiFqveQwGY"
      },
      "source": [
        "def preprocessing_norm(images):\r\n",
        "    return images/255"
      ],
      "execution_count": 89,
      "outputs": []
    },
    {
      "cell_type": "markdown",
      "metadata": {
        "id": "S48J0KtpXm7w"
      },
      "source": [
        "### Batch Generator"
      ]
    },
    {
      "cell_type": "markdown",
      "metadata": {
        "id": "LuyUCA9BYXER"
      },
      "source": [
        "Previously, when training our models, we were loading the complete data in memory to fit our model. However, in practice we're working with very large datasets which cannot be loaded all at once in memory. As a solution, we use \"Data Generators\" which are essentially python generators that load batches of data from disk into memory and pass into our models. In order to achieve this, we only store filepaths that point to training/test samples in our dataset in memory. A data generator yields a tuple of (Xs,Ys) whenever the generator is used via the next() function. \r\n",
        "\r\n",
        "For examples of batch_generators, you can have a look [here](https://www.geeksforgeeks.org/generators-in-python/) or [here](https://www.programcreek.com/python/?CodeExample=generate+batches). Essentially you have to the following:\r\n",
        "- Shuffle the paths to get a uniform distribution in all batches.\r\n",
        "- Divide paths into batches.\r\n",
        "- Read image from the path. (Remeber cv2 reads image in BGR format.)\r\n",
        "- Resize each image to input_shape.\r\n",
        "- Pytorch accepts channels-first input style. So transpose the images. (Hint: see np.transpose())\r\n",
        "- Extract label of the image from the image path using folder name. (Hint: You can do this by splitting the path.)\r\n",
        "- No need to one-hot encode here.\r\n",
        "- Yield images and labels in tuple.\r\n",
        "\r\n"
      ]
    },
    {
      "cell_type": "code",
      "metadata": {
        "id": "ETFQgnFOYTLt"
      },
      "source": [
        "# Batch generator function here.\r\n",
        "def data_generator(file_path):\r\n",
        "\r\n",
        "  batch_train_paths = [file_path[i:i+batch_size] for i in range(0,len(file_path),batch_size)] ## 21 batches \r\n",
        "  for batch in np.tile(batch_train_paths,epochs): ## generating/yielding batches by #of epochs x epoch step size = 30 * 21 = 630\r\n",
        "    one_hot_labels = []\r\n",
        "    imgs_list = []\r\n",
        "    for path in batch:\r\n",
        "      img = preprocessing_norm(cv2.imread(path))\r\n",
        "      img.resize((input_shape)) ## (256,256,3)\r\n",
        "      imgs_list.append(img)\r\n",
        "      imgs_label = path.split('/')[4] ## getting label name\r\n",
        "      one_hot_encoded_label = np.zeros(3)\r\n",
        "      one_hot_encoded_label[labels[imgs_label]] = 1\r\n",
        "      one_hot_labels.append(one_hot_encoded_label)\r\n",
        "    yield np.array(imgs_list), np.array(one_hot_labels)\r\n",
        "\r\n"
      ],
      "execution_count": 90,
      "outputs": []
    },
    {
      "cell_type": "markdown",
      "metadata": {
        "id": "3_AsJysziNYF"
      },
      "source": [
        "Initialize train data generator"
      ]
    },
    {
      "cell_type": "code",
      "metadata": {
        "id": "WawdX9uXg9A9"
      },
      "source": [
        "# code here\r\n",
        "random.shuffle(train_paths)\r\n",
        "generator = data_generator(train_paths)\r\n"
      ],
      "execution_count": 91,
      "outputs": []
    },
    {
      "cell_type": "markdown",
      "metadata": {
        "id": "qYyw9GnXjCWL"
      },
      "source": [
        "### Training"
      ]
    },
    {
      "cell_type": "markdown",
      "metadata": {
        "id": "MWlGg_lgigzp"
      },
      "source": [
        "Define network class here. You can have a look [here](https://pytorch.org/tutorials/beginner/blitz/cifar10_tutorial.html#define-a-convolutional-neural-network) to understand how this works.\r\n",
        "\r\n",
        "Model Architecture:\r\n",
        "- See model.png for model architecture\r\n",
        "- Filter size in each convolution layer is 3 except first convolution where it is 5.\r\n",
        "- The stride in each convolution layer is 2.\r\n",
        "- There is no padding in convolution layer.\r\n",
        "- Dropout = 0.2 on each dropout layer.\r\n",
        "- The last layer has no activation. The loss function will add softmax activation by itself.\r\n",
        "- The model should have 490,771 total parameters.\r\n"
      ]
    },
    {
      "cell_type": "code",
      "metadata": {
        "colab": {
          "base_uri": "https://localhost:8080/"
        },
        "id": "0TPNd79tSUD4",
        "outputId": "ed7f1d50-f167-43ac-a910-5415c2789fd0"
      },
      "source": [
        "\n",
        "model = nn.Sequential(\n",
        "    \n",
        "    nn.Conv2d(3,256, 5, 2),\n",
        "    nn.BatchNorm2d(256),\n",
        "    nn.LeakyReLU(0.1),\n",
        "    nn.Dropout(0.2),\n",
        "\n",
        "    nn.Conv2d(256,128,3,2),\n",
        "    nn.BatchNorm2d(128),\n",
        "    nn.LeakyReLU(0.1),\n",
        "    nn.Dropout(0.2),\n",
        "\n",
        "    nn.Conv2d(128,64,3,2),\n",
        "    nn.BatchNorm2d(64),\n",
        "    nn.LeakyReLU(0.1),\n",
        "    nn.Dropout(0.2),\n",
        "\n",
        "    nn.Conv2d(64,32,3,2),\n",
        "    nn.BatchNorm2d(32),\n",
        "    nn.LeakyReLU(0.1),\n",
        "    nn.Dropout(0.2),\n",
        "\n",
        "    nn.Conv2d(32,16,3,2),\n",
        "    nn.BatchNorm2d(16),\n",
        "    nn.LeakyReLU(0.1),\n",
        "    nn.Dropout(0.2),\n",
        "\n",
        "    nn.Flatten(),\n",
        "    nn.Linear(576,128),\n",
        "    nn.LeakyReLU(0.1),\n",
        "    nn.Dropout(0.2),\n",
        "\n",
        "    nn.Linear(128,32),\n",
        "    nn.LeakyReLU(0.1),\n",
        "    nn.Dropout(0.2),\n",
        "\n",
        "    nn.Linear(32,3)\n",
        ")\n",
        "\n",
        "model"
      ],
      "execution_count": 92,
      "outputs": [
        {
          "output_type": "execute_result",
          "data": {
            "text/plain": [
              "Sequential(\n",
              "  (0): Conv2d(3, 256, kernel_size=(5, 5), stride=(2, 2))\n",
              "  (1): BatchNorm2d(256, eps=1e-05, momentum=0.1, affine=True, track_running_stats=True)\n",
              "  (2): LeakyReLU(negative_slope=0.1)\n",
              "  (3): Dropout(p=0.2, inplace=False)\n",
              "  (4): Conv2d(256, 128, kernel_size=(3, 3), stride=(2, 2))\n",
              "  (5): BatchNorm2d(128, eps=1e-05, momentum=0.1, affine=True, track_running_stats=True)\n",
              "  (6): LeakyReLU(negative_slope=0.1)\n",
              "  (7): Dropout(p=0.2, inplace=False)\n",
              "  (8): Conv2d(128, 64, kernel_size=(3, 3), stride=(2, 2))\n",
              "  (9): BatchNorm2d(64, eps=1e-05, momentum=0.1, affine=True, track_running_stats=True)\n",
              "  (10): LeakyReLU(negative_slope=0.1)\n",
              "  (11): Dropout(p=0.2, inplace=False)\n",
              "  (12): Conv2d(64, 32, kernel_size=(3, 3), stride=(2, 2))\n",
              "  (13): BatchNorm2d(32, eps=1e-05, momentum=0.1, affine=True, track_running_stats=True)\n",
              "  (14): LeakyReLU(negative_slope=0.1)\n",
              "  (15): Dropout(p=0.2, inplace=False)\n",
              "  (16): Conv2d(32, 16, kernel_size=(3, 3), stride=(2, 2))\n",
              "  (17): BatchNorm2d(16, eps=1e-05, momentum=0.1, affine=True, track_running_stats=True)\n",
              "  (18): LeakyReLU(negative_slope=0.1)\n",
              "  (19): Dropout(p=0.2, inplace=False)\n",
              "  (20): Flatten(start_dim=1, end_dim=-1)\n",
              "  (21): Linear(in_features=576, out_features=128, bias=True)\n",
              "  (22): LeakyReLU(negative_slope=0.1)\n",
              "  (23): Dropout(p=0.2, inplace=False)\n",
              "  (24): Linear(in_features=128, out_features=32, bias=True)\n",
              "  (25): LeakyReLU(negative_slope=0.1)\n",
              "  (26): Dropout(p=0.2, inplace=False)\n",
              "  (27): Linear(in_features=32, out_features=3, bias=True)\n",
              ")"
            ]
          },
          "metadata": {
            "tags": []
          },
          "execution_count": 92
        }
      ]
    },
    {
      "cell_type": "markdown",
      "metadata": {
        "id": "k4nH-YF8emCo"
      },
      "source": [
        "Initialize network and cast it to device declared above. (Hint: net.to(device) )"
      ]
    },
    {
      "cell_type": "code",
      "metadata": {
        "id": "_QJPPW_ke5vq",
        "colab": {
          "base_uri": "https://localhost:8080/"
        },
        "outputId": "ece1a88f-e0ec-473d-b680-9e24e730f98f"
      },
      "source": [
        "# code here\r\n",
        "model.to(device)"
      ],
      "execution_count": 95,
      "outputs": [
        {
          "output_type": "execute_result",
          "data": {
            "text/plain": [
              "Sequential(\n",
              "  (0): Conv2d(3, 256, kernel_size=(5, 5), stride=(2, 2))\n",
              "  (1): BatchNorm2d(256, eps=1e-05, momentum=0.1, affine=True, track_running_stats=True)\n",
              "  (2): LeakyReLU(negative_slope=0.1)\n",
              "  (3): Dropout(p=0.2, inplace=False)\n",
              "  (4): Conv2d(256, 128, kernel_size=(3, 3), stride=(2, 2))\n",
              "  (5): BatchNorm2d(128, eps=1e-05, momentum=0.1, affine=True, track_running_stats=True)\n",
              "  (6): LeakyReLU(negative_slope=0.1)\n",
              "  (7): Dropout(p=0.2, inplace=False)\n",
              "  (8): Conv2d(128, 64, kernel_size=(3, 3), stride=(2, 2))\n",
              "  (9): BatchNorm2d(64, eps=1e-05, momentum=0.1, affine=True, track_running_stats=True)\n",
              "  (10): LeakyReLU(negative_slope=0.1)\n",
              "  (11): Dropout(p=0.2, inplace=False)\n",
              "  (12): Conv2d(64, 32, kernel_size=(3, 3), stride=(2, 2))\n",
              "  (13): BatchNorm2d(32, eps=1e-05, momentum=0.1, affine=True, track_running_stats=True)\n",
              "  (14): LeakyReLU(negative_slope=0.1)\n",
              "  (15): Dropout(p=0.2, inplace=False)\n",
              "  (16): Conv2d(32, 16, kernel_size=(3, 3), stride=(2, 2))\n",
              "  (17): BatchNorm2d(16, eps=1e-05, momentum=0.1, affine=True, track_running_stats=True)\n",
              "  (18): LeakyReLU(negative_slope=0.1)\n",
              "  (19): Dropout(p=0.2, inplace=False)\n",
              "  (20): Flatten(start_dim=1, end_dim=-1)\n",
              "  (21): Linear(in_features=576, out_features=128, bias=True)\n",
              "  (22): LeakyReLU(negative_slope=0.1)\n",
              "  (23): Dropout(p=0.2, inplace=False)\n",
              "  (24): Linear(in_features=128, out_features=32, bias=True)\n",
              "  (25): LeakyReLU(negative_slope=0.1)\n",
              "  (26): Dropout(p=0.2, inplace=False)\n",
              "  (27): Linear(in_features=32, out_features=3, bias=True)\n",
              ")"
            ]
          },
          "metadata": {
            "tags": []
          },
          "execution_count": 95
        }
      ]
    },
    {
      "cell_type": "code",
      "metadata": {
        "id": "ICCO7PkclXxx",
        "colab": {
          "base_uri": "https://localhost:8080/"
        },
        "outputId": "ec2e2d4e-97c8-4ee6-9582-97cba0afba63"
      },
      "source": [
        "#print model summary here\r\n",
        "summary(model,(3,256,256))"
      ],
      "execution_count": 96,
      "outputs": [
        {
          "output_type": "stream",
          "text": [
            "----------------------------------------------------------------\n",
            "        Layer (type)               Output Shape         Param #\n",
            "================================================================\n",
            "            Conv2d-1        [-1, 256, 126, 126]          19,456\n",
            "       BatchNorm2d-2        [-1, 256, 126, 126]             512\n",
            "         LeakyReLU-3        [-1, 256, 126, 126]               0\n",
            "           Dropout-4        [-1, 256, 126, 126]               0\n",
            "            Conv2d-5          [-1, 128, 62, 62]         295,040\n",
            "       BatchNorm2d-6          [-1, 128, 62, 62]             256\n",
            "         LeakyReLU-7          [-1, 128, 62, 62]               0\n",
            "           Dropout-8          [-1, 128, 62, 62]               0\n",
            "            Conv2d-9           [-1, 64, 30, 30]          73,792\n",
            "      BatchNorm2d-10           [-1, 64, 30, 30]             128\n",
            "        LeakyReLU-11           [-1, 64, 30, 30]               0\n",
            "          Dropout-12           [-1, 64, 30, 30]               0\n",
            "           Conv2d-13           [-1, 32, 14, 14]          18,464\n",
            "      BatchNorm2d-14           [-1, 32, 14, 14]              64\n",
            "        LeakyReLU-15           [-1, 32, 14, 14]               0\n",
            "          Dropout-16           [-1, 32, 14, 14]               0\n",
            "           Conv2d-17             [-1, 16, 6, 6]           4,624\n",
            "      BatchNorm2d-18             [-1, 16, 6, 6]              32\n",
            "        LeakyReLU-19             [-1, 16, 6, 6]               0\n",
            "          Dropout-20             [-1, 16, 6, 6]               0\n",
            "          Flatten-21                  [-1, 576]               0\n",
            "           Linear-22                  [-1, 128]          73,856\n",
            "        LeakyReLU-23                  [-1, 128]               0\n",
            "          Dropout-24                  [-1, 128]               0\n",
            "           Linear-25                   [-1, 32]           4,128\n",
            "        LeakyReLU-26                   [-1, 32]               0\n",
            "          Dropout-27                   [-1, 32]               0\n",
            "           Linear-28                    [-1, 3]              99\n",
            "================================================================\n",
            "Total params: 490,451\n",
            "Trainable params: 490,451\n",
            "Non-trainable params: 0\n",
            "----------------------------------------------------------------\n",
            "Input size (MB): 0.75\n",
            "Forward/backward pass size (MB): 141.02\n",
            "Params size (MB): 1.87\n",
            "Estimated Total Size (MB): 143.64\n",
            "----------------------------------------------------------------\n"
          ],
          "name": "stdout"
        }
      ]
    },
    {
      "cell_type": "markdown",
      "metadata": {
        "id": "rdMNyisQolHQ"
      },
      "source": [
        "Define [CrossEntropy Loss](https://pytorch.org/docs/stable/generated/torch.nn.CrossEntropyLoss.html) and [Adam](https://pytorch.org/docs/stable/optim.html#torch.optim.Adam) optimizer here. (Hint: See the links to understand how to do this.)"
      ]
    },
    {
      "cell_type": "code",
      "metadata": {
        "id": "4P38jPGImOgN"
      },
      "source": [
        "# Code here\r\n",
        "cross_entropy_loss = nn.CrossEntropyLoss()\r\n",
        "optimizer = optim.Adam(model.parameters(), learning_rate)"
      ],
      "execution_count": 97,
      "outputs": []
    },
    {
      "cell_type": "code",
      "metadata": {
        "id": "H5wx1COvjFpu"
      },
      "source": [
        "# Intialize num_training_batches.\r\n",
        "num_training_batches=len(train_paths)//batch_size\r\n"
      ],
      "execution_count": 98,
      "outputs": []
    },
    {
      "cell_type": "markdown",
      "metadata": {
        "id": "pbdoekcgqcG8"
      },
      "source": [
        "Train the network here. You can have look [here](num_training_batches) to understand how to do this. Put the network to training mode before training so that dropout layers work as they are supposed to. (Hint: your_model.train().) Remember to convert your data and labels to pytorch tensors and cast to device before passing it to the network. Also, record the training loss for plotting purposes."
      ]
    },
    {
      "cell_type": "code",
      "metadata": {
        "id": "iDJ4fwcxqQzd"
      },
      "source": [
        "# code here\r\n",
        "model.training = True"
      ],
      "execution_count": 99,
      "outputs": []
    },
    {
      "cell_type": "code",
      "metadata": {
        "colab": {
          "base_uri": "https://localhost:8080/"
        },
        "id": "b_2f9sWFAJOT",
        "outputId": "4cf5e1bc-74c7-4f4e-e9d8-e2a834eadabd"
      },
      "source": [
        "\n",
        "generator = data_generator(train_paths)\n",
        "train_loss_hist = []\n",
        "\n",
        "for epoch in range(epochs):  # loop over the dataset multiple times\n",
        "    print('\\n\\nepoch: ', epoch)\n",
        "    running_loss = 0.0\n",
        "    for i in range(num_training_batches):\n",
        "\n",
        "        x_train,data_labels =next(iter(generator))\n",
        "\n",
        "        x_train = torch.from_numpy(x_train).to(device)\n",
        "        data_labels = torch.from_numpy(data_labels).to(device)\n",
        "        data_labels = np.argmax(data_labels, axis = 1) ## reverseing from one hot encoding\n",
        "\n",
        "        optimizer.zero_grad()\n",
        "\n",
        "        outputs = model(x_train.float())\n",
        "        loss = cross_entropy_loss(outputs, data_labels)\n",
        "        print('\\nloss in  training batch : ', i+1, ' is : ', loss)\n",
        "        train_loss_hist.append(loss)\n",
        "\n",
        "        loss.backward()\n",
        "        optimizer.step()\n",
        "\n",
        "        # print statistics\n",
        "        running_loss += loss.item()\n",
        "        if i % 2000 == 1999:\n",
        "            print('[%d, %5d] loss: %.3f' %\n",
        "                  (epoch + 1, i + 1, running_loss / 2000))\n",
        "            running_loss = 0.0\n",
        "\n",
        "\n"
      ],
      "execution_count": 100,
      "outputs": [
        {
          "output_type": "stream",
          "text": [
            "\n",
            "\n",
            "epoch:  0\n"
          ],
          "name": "stdout"
        },
        {
          "output_type": "stream",
          "text": [
            "/usr/local/lib/python3.7/dist-packages/numpy/lib/shape_base.py:1250: VisibleDeprecationWarning: Creating an ndarray from ragged nested sequences (which is a list-or-tuple of lists-or-tuples-or ndarrays with different lengths or shapes) is deprecated. If you meant to do this, you must specify 'dtype=object' when creating the ndarray\n",
            "  c = _nx.array(A, copy=False, subok=True, ndmin=d)\n"
          ],
          "name": "stderr"
        },
        {
          "output_type": "stream",
          "text": [
            "\n",
            "loss in  training batch :  1  is :  tensor(1.1068, grad_fn=<NllLossBackward>)\n",
            "\n",
            "loss in  training batch :  2  is :  tensor(1.0912, grad_fn=<NllLossBackward>)\n",
            "\n",
            "loss in  training batch :  3  is :  tensor(0.9594, grad_fn=<NllLossBackward>)\n",
            "\n",
            "loss in  training batch :  4  is :  tensor(1.0757, grad_fn=<NllLossBackward>)\n",
            "\n",
            "loss in  training batch :  5  is :  tensor(1.0558, grad_fn=<NllLossBackward>)\n",
            "\n",
            "loss in  training batch :  6  is :  tensor(1.0914, grad_fn=<NllLossBackward>)\n",
            "\n",
            "loss in  training batch :  7  is :  tensor(1.0879, grad_fn=<NllLossBackward>)\n",
            "\n",
            "loss in  training batch :  8  is :  tensor(0.9766, grad_fn=<NllLossBackward>)\n",
            "\n",
            "loss in  training batch :  9  is :  tensor(0.9034, grad_fn=<NllLossBackward>)\n",
            "\n",
            "loss in  training batch :  10  is :  tensor(0.9732, grad_fn=<NllLossBackward>)\n",
            "\n",
            "loss in  training batch :  11  is :  tensor(1.1048, grad_fn=<NllLossBackward>)\n",
            "\n",
            "loss in  training batch :  12  is :  tensor(1.0084, grad_fn=<NllLossBackward>)\n",
            "\n",
            "loss in  training batch :  13  is :  tensor(1.0050, grad_fn=<NllLossBackward>)\n",
            "\n",
            "loss in  training batch :  14  is :  tensor(0.9952, grad_fn=<NllLossBackward>)\n",
            "\n",
            "loss in  training batch :  15  is :  tensor(0.8358, grad_fn=<NllLossBackward>)\n",
            "\n",
            "loss in  training batch :  16  is :  tensor(0.9236, grad_fn=<NllLossBackward>)\n",
            "\n",
            "loss in  training batch :  17  is :  tensor(0.9022, grad_fn=<NllLossBackward>)\n",
            "\n",
            "loss in  training batch :  18  is :  tensor(0.8409, grad_fn=<NllLossBackward>)\n",
            "\n",
            "loss in  training batch :  19  is :  tensor(0.7425, grad_fn=<NllLossBackward>)\n",
            "\n",
            "loss in  training batch :  20  is :  tensor(0.9204, grad_fn=<NllLossBackward>)\n",
            "\n",
            "loss in  training batch :  21  is :  tensor(0.9876, grad_fn=<NllLossBackward>)\n",
            "\n",
            "\n",
            "epoch:  1\n",
            "\n",
            "loss in  training batch :  1  is :  tensor(0.9853, grad_fn=<NllLossBackward>)\n",
            "\n",
            "loss in  training batch :  2  is :  tensor(0.8280, grad_fn=<NllLossBackward>)\n",
            "\n",
            "loss in  training batch :  3  is :  tensor(0.9303, grad_fn=<NllLossBackward>)\n",
            "\n",
            "loss in  training batch :  4  is :  tensor(0.7100, grad_fn=<NllLossBackward>)\n",
            "\n",
            "loss in  training batch :  5  is :  tensor(1.0245, grad_fn=<NllLossBackward>)\n",
            "\n",
            "loss in  training batch :  6  is :  tensor(0.8915, grad_fn=<NllLossBackward>)\n",
            "\n",
            "loss in  training batch :  7  is :  tensor(1.2357, grad_fn=<NllLossBackward>)\n",
            "\n",
            "loss in  training batch :  8  is :  tensor(1.0551, grad_fn=<NllLossBackward>)\n",
            "\n",
            "loss in  training batch :  9  is :  tensor(0.8518, grad_fn=<NllLossBackward>)\n",
            "\n",
            "loss in  training batch :  10  is :  tensor(0.8848, grad_fn=<NllLossBackward>)\n",
            "\n",
            "loss in  training batch :  11  is :  tensor(1.0292, grad_fn=<NllLossBackward>)\n",
            "\n",
            "loss in  training batch :  12  is :  tensor(1.1614, grad_fn=<NllLossBackward>)\n",
            "\n",
            "loss in  training batch :  13  is :  tensor(1.0086, grad_fn=<NllLossBackward>)\n",
            "\n",
            "loss in  training batch :  14  is :  tensor(0.9301, grad_fn=<NllLossBackward>)\n",
            "\n",
            "loss in  training batch :  15  is :  tensor(0.9428, grad_fn=<NllLossBackward>)\n",
            "\n",
            "loss in  training batch :  16  is :  tensor(0.7959, grad_fn=<NllLossBackward>)\n",
            "\n",
            "loss in  training batch :  17  is :  tensor(0.9825, grad_fn=<NllLossBackward>)\n",
            "\n",
            "loss in  training batch :  18  is :  tensor(0.8273, grad_fn=<NllLossBackward>)\n",
            "\n",
            "loss in  training batch :  19  is :  tensor(0.8622, grad_fn=<NllLossBackward>)\n",
            "\n",
            "loss in  training batch :  20  is :  tensor(0.8393, grad_fn=<NllLossBackward>)\n",
            "\n",
            "loss in  training batch :  21  is :  tensor(0.8435, grad_fn=<NllLossBackward>)\n",
            "\n",
            "\n",
            "epoch:  2\n",
            "\n",
            "loss in  training batch :  1  is :  tensor(0.9706, grad_fn=<NllLossBackward>)\n",
            "\n",
            "loss in  training batch :  2  is :  tensor(0.8910, grad_fn=<NllLossBackward>)\n",
            "\n",
            "loss in  training batch :  3  is :  tensor(0.7919, grad_fn=<NllLossBackward>)\n",
            "\n",
            "loss in  training batch :  4  is :  tensor(0.8771, grad_fn=<NllLossBackward>)\n",
            "\n",
            "loss in  training batch :  5  is :  tensor(0.6759, grad_fn=<NllLossBackward>)\n",
            "\n",
            "loss in  training batch :  6  is :  tensor(0.9856, grad_fn=<NllLossBackward>)\n",
            "\n",
            "loss in  training batch :  7  is :  tensor(0.9819, grad_fn=<NllLossBackward>)\n",
            "\n",
            "loss in  training batch :  8  is :  tensor(1.0957, grad_fn=<NllLossBackward>)\n",
            "\n",
            "loss in  training batch :  9  is :  tensor(0.9530, grad_fn=<NllLossBackward>)\n",
            "\n",
            "loss in  training batch :  10  is :  tensor(0.7795, grad_fn=<NllLossBackward>)\n",
            "\n",
            "loss in  training batch :  11  is :  tensor(0.8717, grad_fn=<NllLossBackward>)\n",
            "\n",
            "loss in  training batch :  12  is :  tensor(0.9546, grad_fn=<NllLossBackward>)\n",
            "\n",
            "loss in  training batch :  13  is :  tensor(0.9931, grad_fn=<NllLossBackward>)\n",
            "\n",
            "loss in  training batch :  14  is :  tensor(0.9311, grad_fn=<NllLossBackward>)\n",
            "\n",
            "loss in  training batch :  15  is :  tensor(0.9159, grad_fn=<NllLossBackward>)\n",
            "\n",
            "loss in  training batch :  16  is :  tensor(0.8861, grad_fn=<NllLossBackward>)\n",
            "\n",
            "loss in  training batch :  17  is :  tensor(0.7560, grad_fn=<NllLossBackward>)\n",
            "\n",
            "loss in  training batch :  18  is :  tensor(0.9095, grad_fn=<NllLossBackward>)\n",
            "\n",
            "loss in  training batch :  19  is :  tensor(0.7610, grad_fn=<NllLossBackward>)\n",
            "\n",
            "loss in  training batch :  20  is :  tensor(0.8151, grad_fn=<NllLossBackward>)\n",
            "\n",
            "loss in  training batch :  21  is :  tensor(0.7419, grad_fn=<NllLossBackward>)\n",
            "\n",
            "\n",
            "epoch:  3\n",
            "\n",
            "loss in  training batch :  1  is :  tensor(0.9574, grad_fn=<NllLossBackward>)\n",
            "\n",
            "loss in  training batch :  2  is :  tensor(0.8707, grad_fn=<NllLossBackward>)\n",
            "\n",
            "loss in  training batch :  3  is :  tensor(0.8991, grad_fn=<NllLossBackward>)\n",
            "\n",
            "loss in  training batch :  4  is :  tensor(0.7278, grad_fn=<NllLossBackward>)\n",
            "\n",
            "loss in  training batch :  5  is :  tensor(0.7885, grad_fn=<NllLossBackward>)\n",
            "\n",
            "loss in  training batch :  6  is :  tensor(0.7028, grad_fn=<NllLossBackward>)\n",
            "\n",
            "loss in  training batch :  7  is :  tensor(0.8727, grad_fn=<NllLossBackward>)\n",
            "\n",
            "loss in  training batch :  8  is :  tensor(0.9907, grad_fn=<NllLossBackward>)\n",
            "\n",
            "loss in  training batch :  9  is :  tensor(0.8808, grad_fn=<NllLossBackward>)\n",
            "\n",
            "loss in  training batch :  10  is :  tensor(0.7613, grad_fn=<NllLossBackward>)\n",
            "\n",
            "loss in  training batch :  11  is :  tensor(0.7653, grad_fn=<NllLossBackward>)\n",
            "\n",
            "loss in  training batch :  12  is :  tensor(0.8639, grad_fn=<NllLossBackward>)\n",
            "\n",
            "loss in  training batch :  13  is :  tensor(1.0110, grad_fn=<NllLossBackward>)\n",
            "\n",
            "loss in  training batch :  14  is :  tensor(0.9920, grad_fn=<NllLossBackward>)\n",
            "\n",
            "loss in  training batch :  15  is :  tensor(0.9087, grad_fn=<NllLossBackward>)\n",
            "\n",
            "loss in  training batch :  16  is :  tensor(0.8555, grad_fn=<NllLossBackward>)\n",
            "\n",
            "loss in  training batch :  17  is :  tensor(0.8723, grad_fn=<NllLossBackward>)\n",
            "\n",
            "loss in  training batch :  18  is :  tensor(0.6799, grad_fn=<NllLossBackward>)\n",
            "\n",
            "loss in  training batch :  19  is :  tensor(0.8341, grad_fn=<NllLossBackward>)\n",
            "\n",
            "loss in  training batch :  20  is :  tensor(0.7315, grad_fn=<NllLossBackward>)\n",
            "\n",
            "loss in  training batch :  21  is :  tensor(0.7650, grad_fn=<NllLossBackward>)\n",
            "\n",
            "\n",
            "epoch:  4\n",
            "\n",
            "loss in  training batch :  1  is :  tensor(0.6956, grad_fn=<NllLossBackward>)\n",
            "\n",
            "loss in  training batch :  2  is :  tensor(0.7928, grad_fn=<NllLossBackward>)\n",
            "\n",
            "loss in  training batch :  3  is :  tensor(0.8830, grad_fn=<NllLossBackward>)\n",
            "\n",
            "loss in  training batch :  4  is :  tensor(0.8756, grad_fn=<NllLossBackward>)\n",
            "\n",
            "loss in  training batch :  5  is :  tensor(0.7076, grad_fn=<NllLossBackward>)\n",
            "\n",
            "loss in  training batch :  6  is :  tensor(0.7383, grad_fn=<NllLossBackward>)\n",
            "\n",
            "loss in  training batch :  7  is :  tensor(0.6303, grad_fn=<NllLossBackward>)\n",
            "\n",
            "loss in  training batch :  8  is :  tensor(0.8105, grad_fn=<NllLossBackward>)\n",
            "\n",
            "loss in  training batch :  9  is :  tensor(0.9886, grad_fn=<NllLossBackward>)\n",
            "\n",
            "loss in  training batch :  10  is :  tensor(0.9037, grad_fn=<NllLossBackward>)\n",
            "\n",
            "loss in  training batch :  11  is :  tensor(0.7285, grad_fn=<NllLossBackward>)\n",
            "\n",
            "loss in  training batch :  12  is :  tensor(0.7404, grad_fn=<NllLossBackward>)\n",
            "\n",
            "loss in  training batch :  13  is :  tensor(0.7577, grad_fn=<NllLossBackward>)\n",
            "\n",
            "loss in  training batch :  14  is :  tensor(0.8205, grad_fn=<NllLossBackward>)\n",
            "\n",
            "loss in  training batch :  15  is :  tensor(0.8937, grad_fn=<NllLossBackward>)\n",
            "\n",
            "loss in  training batch :  16  is :  tensor(0.7755, grad_fn=<NllLossBackward>)\n",
            "\n",
            "loss in  training batch :  17  is :  tensor(0.7825, grad_fn=<NllLossBackward>)\n",
            "\n",
            "loss in  training batch :  18  is :  tensor(0.7942, grad_fn=<NllLossBackward>)\n",
            "\n",
            "loss in  training batch :  19  is :  tensor(0.5575, grad_fn=<NllLossBackward>)\n",
            "\n",
            "loss in  training batch :  20  is :  tensor(0.8959, grad_fn=<NllLossBackward>)\n",
            "\n",
            "loss in  training batch :  21  is :  tensor(0.6429, grad_fn=<NllLossBackward>)\n",
            "\n",
            "\n",
            "epoch:  5\n",
            "\n",
            "loss in  training batch :  1  is :  tensor(0.6936, grad_fn=<NllLossBackward>)\n",
            "\n",
            "loss in  training batch :  2  is :  tensor(0.6613, grad_fn=<NllLossBackward>)\n",
            "\n",
            "loss in  training batch :  3  is :  tensor(0.9714, grad_fn=<NllLossBackward>)\n",
            "\n",
            "loss in  training batch :  4  is :  tensor(0.6713, grad_fn=<NllLossBackward>)\n",
            "\n",
            "loss in  training batch :  5  is :  tensor(0.7550, grad_fn=<NllLossBackward>)\n",
            "\n",
            "loss in  training batch :  6  is :  tensor(0.5613, grad_fn=<NllLossBackward>)\n",
            "\n",
            "loss in  training batch :  7  is :  tensor(0.6767, grad_fn=<NllLossBackward>)\n",
            "\n",
            "loss in  training batch :  8  is :  tensor(0.7584, grad_fn=<NllLossBackward>)\n",
            "\n",
            "loss in  training batch :  9  is :  tensor(0.7246, grad_fn=<NllLossBackward>)\n",
            "\n",
            "loss in  training batch :  10  is :  tensor(0.9014, grad_fn=<NllLossBackward>)\n",
            "\n",
            "loss in  training batch :  11  is :  tensor(0.9173, grad_fn=<NllLossBackward>)\n",
            "\n",
            "loss in  training batch :  12  is :  tensor(0.6922, grad_fn=<NllLossBackward>)\n",
            "\n",
            "loss in  training batch :  13  is :  tensor(0.7282, grad_fn=<NllLossBackward>)\n",
            "\n",
            "loss in  training batch :  14  is :  tensor(0.7134, grad_fn=<NllLossBackward>)\n",
            "\n",
            "loss in  training batch :  15  is :  tensor(0.7768, grad_fn=<NllLossBackward>)\n",
            "\n",
            "loss in  training batch :  16  is :  tensor(0.8899, grad_fn=<NllLossBackward>)\n",
            "\n",
            "loss in  training batch :  17  is :  tensor(0.7719, grad_fn=<NllLossBackward>)\n",
            "\n",
            "loss in  training batch :  18  is :  tensor(0.7876, grad_fn=<NllLossBackward>)\n",
            "\n",
            "loss in  training batch :  19  is :  tensor(0.7152, grad_fn=<NllLossBackward>)\n",
            "\n",
            "loss in  training batch :  20  is :  tensor(0.6970, grad_fn=<NllLossBackward>)\n",
            "\n",
            "loss in  training batch :  21  is :  tensor(0.8305, grad_fn=<NllLossBackward>)\n",
            "\n",
            "\n",
            "epoch:  6\n",
            "\n",
            "loss in  training batch :  1  is :  tensor(0.6203, grad_fn=<NllLossBackward>)\n",
            "\n",
            "loss in  training batch :  2  is :  tensor(0.7263, grad_fn=<NllLossBackward>)\n",
            "\n",
            "loss in  training batch :  3  is :  tensor(0.5941, grad_fn=<NllLossBackward>)\n",
            "\n",
            "loss in  training batch :  4  is :  tensor(0.7473, grad_fn=<NllLossBackward>)\n",
            "\n",
            "loss in  training batch :  5  is :  tensor(0.6339, grad_fn=<NllLossBackward>)\n",
            "\n",
            "loss in  training batch :  6  is :  tensor(0.7862, grad_fn=<NllLossBackward>)\n",
            "\n",
            "loss in  training batch :  7  is :  tensor(0.6740, grad_fn=<NllLossBackward>)\n",
            "\n",
            "loss in  training batch :  8  is :  tensor(0.6037, grad_fn=<NllLossBackward>)\n",
            "\n",
            "loss in  training batch :  9  is :  tensor(0.6594, grad_fn=<NllLossBackward>)\n",
            "\n",
            "loss in  training batch :  10  is :  tensor(0.7172, grad_fn=<NllLossBackward>)\n",
            "\n",
            "loss in  training batch :  11  is :  tensor(0.7071, grad_fn=<NllLossBackward>)\n",
            "\n",
            "loss in  training batch :  12  is :  tensor(0.8211, grad_fn=<NllLossBackward>)\n",
            "\n",
            "loss in  training batch :  13  is :  tensor(0.5558, grad_fn=<NllLossBackward>)\n",
            "\n",
            "loss in  training batch :  14  is :  tensor(0.6393, grad_fn=<NllLossBackward>)\n",
            "\n",
            "loss in  training batch :  15  is :  tensor(0.6151, grad_fn=<NllLossBackward>)\n",
            "\n",
            "loss in  training batch :  16  is :  tensor(0.7569, grad_fn=<NllLossBackward>)\n",
            "\n",
            "loss in  training batch :  17  is :  tensor(0.9738, grad_fn=<NllLossBackward>)\n",
            "\n",
            "loss in  training batch :  18  is :  tensor(0.6599, grad_fn=<NllLossBackward>)\n",
            "\n",
            "loss in  training batch :  19  is :  tensor(0.7680, grad_fn=<NllLossBackward>)\n",
            "\n",
            "loss in  training batch :  20  is :  tensor(0.7294, grad_fn=<NllLossBackward>)\n",
            "\n",
            "loss in  training batch :  21  is :  tensor(0.7775, grad_fn=<NllLossBackward>)\n",
            "\n",
            "\n",
            "epoch:  7\n",
            "\n",
            "loss in  training batch :  1  is :  tensor(0.7601, grad_fn=<NllLossBackward>)\n",
            "\n",
            "loss in  training batch :  2  is :  tensor(0.5720, grad_fn=<NllLossBackward>)\n",
            "\n",
            "loss in  training batch :  3  is :  tensor(0.6959, grad_fn=<NllLossBackward>)\n",
            "\n",
            "loss in  training batch :  4  is :  tensor(0.4654, grad_fn=<NllLossBackward>)\n",
            "\n",
            "loss in  training batch :  5  is :  tensor(0.6804, grad_fn=<NllLossBackward>)\n",
            "\n",
            "loss in  training batch :  6  is :  tensor(0.7172, grad_fn=<NllLossBackward>)\n",
            "\n",
            "loss in  training batch :  7  is :  tensor(0.7026, grad_fn=<NllLossBackward>)\n",
            "\n",
            "loss in  training batch :  8  is :  tensor(0.5229, grad_fn=<NllLossBackward>)\n",
            "\n",
            "loss in  training batch :  9  is :  tensor(0.5898, grad_fn=<NllLossBackward>)\n",
            "\n",
            "loss in  training batch :  10  is :  tensor(0.5131, grad_fn=<NllLossBackward>)\n",
            "\n",
            "loss in  training batch :  11  is :  tensor(0.6774, grad_fn=<NllLossBackward>)\n",
            "\n",
            "loss in  training batch :  12  is :  tensor(0.6429, grad_fn=<NllLossBackward>)\n",
            "\n",
            "loss in  training batch :  13  is :  tensor(0.7064, grad_fn=<NllLossBackward>)\n",
            "\n",
            "loss in  training batch :  14  is :  tensor(0.4948, grad_fn=<NllLossBackward>)\n",
            "\n",
            "loss in  training batch :  15  is :  tensor(0.5426, grad_fn=<NllLossBackward>)\n",
            "\n",
            "loss in  training batch :  16  is :  tensor(0.5372, grad_fn=<NllLossBackward>)\n",
            "\n",
            "loss in  training batch :  17  is :  tensor(0.5302, grad_fn=<NllLossBackward>)\n",
            "\n",
            "loss in  training batch :  18  is :  tensor(0.8919, grad_fn=<NllLossBackward>)\n",
            "\n",
            "loss in  training batch :  19  is :  tensor(0.5680, grad_fn=<NllLossBackward>)\n",
            "\n",
            "loss in  training batch :  20  is :  tensor(0.7152, grad_fn=<NllLossBackward>)\n",
            "\n",
            "loss in  training batch :  21  is :  tensor(0.6970, grad_fn=<NllLossBackward>)\n",
            "\n",
            "\n",
            "epoch:  8\n",
            "\n",
            "loss in  training batch :  1  is :  tensor(0.4490, grad_fn=<NllLossBackward>)\n",
            "\n",
            "loss in  training batch :  2  is :  tensor(0.5465, grad_fn=<NllLossBackward>)\n",
            "\n",
            "loss in  training batch :  3  is :  tensor(0.4044, grad_fn=<NllLossBackward>)\n",
            "\n",
            "loss in  training batch :  4  is :  tensor(0.4949, grad_fn=<NllLossBackward>)\n",
            "\n",
            "loss in  training batch :  5  is :  tensor(0.3886, grad_fn=<NllLossBackward>)\n",
            "\n",
            "loss in  training batch :  6  is :  tensor(0.3848, grad_fn=<NllLossBackward>)\n",
            "\n",
            "loss in  training batch :  7  is :  tensor(0.5598, grad_fn=<NllLossBackward>)\n",
            "\n",
            "loss in  training batch :  8  is :  tensor(0.4882, grad_fn=<NllLossBackward>)\n",
            "\n",
            "loss in  training batch :  9  is :  tensor(0.4264, grad_fn=<NllLossBackward>)\n",
            "\n",
            "loss in  training batch :  10  is :  tensor(0.3746, grad_fn=<NllLossBackward>)\n",
            "\n",
            "loss in  training batch :  11  is :  tensor(0.4051, grad_fn=<NllLossBackward>)\n",
            "\n",
            "loss in  training batch :  12  is :  tensor(0.4768, grad_fn=<NllLossBackward>)\n",
            "\n",
            "loss in  training batch :  13  is :  tensor(0.5070, grad_fn=<NllLossBackward>)\n",
            "\n",
            "loss in  training batch :  14  is :  tensor(0.4075, grad_fn=<NllLossBackward>)\n",
            "\n",
            "loss in  training batch :  15  is :  tensor(0.4891, grad_fn=<NllLossBackward>)\n",
            "\n",
            "loss in  training batch :  16  is :  tensor(0.4048, grad_fn=<NllLossBackward>)\n",
            "\n",
            "loss in  training batch :  17  is :  tensor(0.4500, grad_fn=<NllLossBackward>)\n",
            "\n",
            "loss in  training batch :  18  is :  tensor(0.4688, grad_fn=<NllLossBackward>)\n",
            "\n",
            "loss in  training batch :  19  is :  tensor(0.6597, grad_fn=<NllLossBackward>)\n",
            "\n",
            "loss in  training batch :  20  is :  tensor(0.5365, grad_fn=<NllLossBackward>)\n",
            "\n",
            "loss in  training batch :  21  is :  tensor(0.5321, grad_fn=<NllLossBackward>)\n",
            "\n",
            "\n",
            "epoch:  9\n",
            "\n",
            "loss in  training batch :  1  is :  tensor(0.7192, grad_fn=<NllLossBackward>)\n",
            "\n",
            "loss in  training batch :  2  is :  tensor(0.4892, grad_fn=<NllLossBackward>)\n",
            "\n",
            "loss in  training batch :  3  is :  tensor(0.5650, grad_fn=<NllLossBackward>)\n",
            "\n",
            "loss in  training batch :  4  is :  tensor(0.3941, grad_fn=<NllLossBackward>)\n",
            "\n",
            "loss in  training batch :  5  is :  tensor(0.4080, grad_fn=<NllLossBackward>)\n",
            "\n",
            "loss in  training batch :  6  is :  tensor(0.3289, grad_fn=<NllLossBackward>)\n",
            "\n",
            "loss in  training batch :  7  is :  tensor(0.4556, grad_fn=<NllLossBackward>)\n",
            "\n",
            "loss in  training batch :  8  is :  tensor(0.5833, grad_fn=<NllLossBackward>)\n",
            "\n",
            "loss in  training batch :  9  is :  tensor(0.4253, grad_fn=<NllLossBackward>)\n",
            "\n",
            "loss in  training batch :  10  is :  tensor(0.3033, grad_fn=<NllLossBackward>)\n",
            "\n",
            "loss in  training batch :  11  is :  tensor(0.2439, grad_fn=<NllLossBackward>)\n",
            "\n",
            "loss in  training batch :  12  is :  tensor(0.3535, grad_fn=<NllLossBackward>)\n",
            "\n",
            "loss in  training batch :  13  is :  tensor(0.4990, grad_fn=<NllLossBackward>)\n",
            "\n",
            "loss in  training batch :  14  is :  tensor(0.5944, grad_fn=<NllLossBackward>)\n",
            "\n",
            "loss in  training batch :  15  is :  tensor(0.5539, grad_fn=<NllLossBackward>)\n",
            "\n",
            "loss in  training batch :  16  is :  tensor(0.4934, grad_fn=<NllLossBackward>)\n",
            "\n",
            "loss in  training batch :  17  is :  tensor(0.4054, grad_fn=<NllLossBackward>)\n",
            "\n",
            "loss in  training batch :  18  is :  tensor(0.3846, grad_fn=<NllLossBackward>)\n",
            "\n",
            "loss in  training batch :  19  is :  tensor(0.5900, grad_fn=<NllLossBackward>)\n",
            "\n",
            "loss in  training batch :  20  is :  tensor(0.7896, grad_fn=<NllLossBackward>)\n",
            "\n",
            "loss in  training batch :  21  is :  tensor(0.5075, grad_fn=<NllLossBackward>)\n"
          ],
          "name": "stdout"
        }
      ]
    },
    {
      "cell_type": "markdown",
      "metadata": {
        "id": "kyJpvWw4Qqj5"
      },
      "source": [
        "Plot the loss graph of training."
      ]
    },
    {
      "cell_type": "code",
      "metadata": {
        "id": "fWjSBUpaREsx",
        "colab": {
          "base_uri": "https://localhost:8080/",
          "height": 273
        },
        "outputId": "bfc37344-73c8-4d33-8cf6-126b8838988f"
      },
      "source": [
        "# Loss Plot\r\n",
        "plt.plot(train_loss_hist)\r\n",
        "plt.show()\r\n"
      ],
      "execution_count": 101,
      "outputs": [
        {
          "output_type": "display_data",
          "data": {
            "image/png": "[encoded data removed]",
            "text/plain": [
              "<Figure size 432x288 with 1 Axes>"
            ]
          },
          "metadata": {
            "tags": []
          }
        }
      ]
    },
    {
      "cell_type": "markdown",
      "metadata": {
        "id": "E93C9atGR5Ln"
      },
      "source": [
        "### Evaluation"
      ]
    },
    {
      "cell_type": "markdown",
      "metadata": {
        "id": "yA1THUmuR7Ca"
      },
      "source": [
        "Now, we will evaluate our model on the test data."
      ]
    },
    {
      "cell_type": "markdown",
      "metadata": {
        "id": "P-1_GjKfSA0B"
      },
      "source": [
        "First, let's read the test data using test_paths. Similar to what we did in batch_generator."
      ]
    },
    {
      "cell_type": "code",
      "metadata": {
        "id": "IrlhiWj6SY3d"
      },
      "source": [
        "# random.shuffle(test_paths)\n",
        "test_generator = data_generator(test_paths)\n"
      ],
      "execution_count": 136,
      "outputs": []
    },
    {
      "cell_type": "markdown",
      "metadata": {
        "id": "WUYgSbLBoPmw"
      },
      "source": [
        "Put the network in eval mode using your_model.eval()"
      ]
    },
    {
      "cell_type": "code",
      "metadata": {
        "id": "A-zj93WBoblN",
        "colab": {
          "base_uri": "https://localhost:8080/"
        },
        "outputId": "e6c993a4-b37a-49fb-cf2b-a161d864b6d3"
      },
      "source": [
        "# code here\r\n",
        "model.eval()"
      ],
      "execution_count": 137,
      "outputs": [
        {
          "output_type": "execute_result",
          "data": {
            "text/plain": [
              "Sequential(\n",
              "  (0): Conv2d(3, 256, kernel_size=(5, 5), stride=(2, 2))\n",
              "  (1): BatchNorm2d(256, eps=1e-05, momentum=0.1, affine=True, track_running_stats=True)\n",
              "  (2): LeakyReLU(negative_slope=0.1)\n",
              "  (3): Dropout(p=0.2, inplace=False)\n",
              "  (4): Conv2d(256, 128, kernel_size=(3, 3), stride=(2, 2))\n",
              "  (5): BatchNorm2d(128, eps=1e-05, momentum=0.1, affine=True, track_running_stats=True)\n",
              "  (6): LeakyReLU(negative_slope=0.1)\n",
              "  (7): Dropout(p=0.2, inplace=False)\n",
              "  (8): Conv2d(128, 64, kernel_size=(3, 3), stride=(2, 2))\n",
              "  (9): BatchNorm2d(64, eps=1e-05, momentum=0.1, affine=True, track_running_stats=True)\n",
              "  (10): LeakyReLU(negative_slope=0.1)\n",
              "  (11): Dropout(p=0.2, inplace=False)\n",
              "  (12): Conv2d(64, 32, kernel_size=(3, 3), stride=(2, 2))\n",
              "  (13): BatchNorm2d(32, eps=1e-05, momentum=0.1, affine=True, track_running_stats=True)\n",
              "  (14): LeakyReLU(negative_slope=0.1)\n",
              "  (15): Dropout(p=0.2, inplace=False)\n",
              "  (16): Conv2d(32, 16, kernel_size=(3, 3), stride=(2, 2))\n",
              "  (17): BatchNorm2d(16, eps=1e-05, momentum=0.1, affine=True, track_running_stats=True)\n",
              "  (18): LeakyReLU(negative_slope=0.1)\n",
              "  (19): Dropout(p=0.2, inplace=False)\n",
              "  (20): Flatten(start_dim=1, end_dim=-1)\n",
              "  (21): Linear(in_features=576, out_features=128, bias=True)\n",
              "  (22): LeakyReLU(negative_slope=0.1)\n",
              "  (23): Dropout(p=0.2, inplace=False)\n",
              "  (24): Linear(in_features=128, out_features=32, bias=True)\n",
              "  (25): LeakyReLU(negative_slope=0.1)\n",
              "  (26): Dropout(p=0.2, inplace=False)\n",
              "  (27): Linear(in_features=32, out_features=3, bias=True)\n",
              ")"
            ]
          },
          "metadata": {
            "tags": []
          },
          "execution_count": 137
        }
      ]
    },
    {
      "cell_type": "code",
      "metadata": {
        "id": "JdoW7KoWReik"
      },
      "source": [
        "\n",
        "predictions = []\n",
        "actual_predictions = []\n",
        "num_test_batches = len(test_paths)//batch_size\n",
        "for i in range(num_test_batches):  ##5 \n",
        "  # print('test sample : ', i+1)\n",
        "  x_test, y_test =next(iter(test_generator))\n",
        "\n",
        "  x_test = torch.from_numpy(x_test).to(device)\n",
        "  y_test = torch.from_numpy(y_test).to(device)\n",
        "  y_test = np.argmax(y_test, axis = 1) ## reverseing from one hot encoding\n",
        "  actual_predictions.append(y_test)\n",
        "\n",
        "  pred_y = model(x_test.float())\n",
        "  predictions.append(pred_y)"
      ],
      "execution_count": null,
      "outputs": []
    },
    {
      "cell_type": "markdown",
      "metadata": {
        "id": "iDm1xMHQSh7w"
      },
      "source": [
        "Now, make predictions on test data. Cast the outputs to cpu and convert to numpy (using outputs.cpu().numpy()). If you get memory error then you can loop over all images one by one and then make and store the prediction."
      ]
    },
    {
      "cell_type": "markdown",
      "metadata": {
        "id": "f6H6NU4wTKzI"
      },
      "source": [
        "Extract class label from predictions. (Hint: you can use np.argmax() )."
      ]
    },
    {
      "cell_type": "code",
      "metadata": {
        "id": "fys8SnxKTGAN"
      },
      "source": [
        "# code here\r\n",
        "for i in range(num_test_batches):\r\n",
        "  predictions[i] = np.argmax(predictions[i].detach().numpy(), axis=1)\r\n"
      ],
      "execution_count": 128,
      "outputs": []
    },
    {
      "cell_type": "markdown",
      "metadata": {
        "id": "MKuaxM4wT164"
      },
      "source": [
        "Calculate and print accuracy."
      ]
    },
    {
      "cell_type": "code",
      "metadata": {
        "id": "bgRi2n7KT0oU",
        "colab": {
          "base_uri": "https://localhost:8080/"
        },
        "outputId": "304a4afa-b3b5-4fa3-91e3-06b4361cb4d9"
      },
      "source": [
        "# actual_predictions[0] == predictions[0]\r\n",
        "correct = 0\r\n",
        "for batch_num in range(len(actual_predictions)):\r\n",
        "  for preds in range(len(predictions)):\r\n",
        "    if(predictions[batch_num][preds] == actual_predictions[batch_num][preds]):\r\n",
        "      correct+=1\r\n",
        "print('acc : ', (correct/test_examples)*100)"
      ],
      "execution_count": 130,
      "outputs": [
        {
          "output_type": "stream",
          "text": [
            "acc :  11.299435028248588\n"
          ],
          "name": "stdout"
        }
      ]
    },
    {
      "cell_type": "code",
      "metadata": {
        "id": "wblv6kOIlfpB"
      },
      "source": [
        "actual_predictions1 = np.array([i.detach().numpy() for i in actual_predictions]).flatten()\n",
        "predictions1= np.array(predictions).flatten()"
      ],
      "execution_count": 131,
      "outputs": []
    },
    {
      "cell_type": "markdown",
      "metadata": {
        "id": "JXsP39xDUWez"
      },
      "source": [
        "Calculate and print Confusion Matrix. Have a look [here](https://scikit-learn.org/stable/modules/generated/sklearn.metrics.confusion_matrix.html) for this."
      ]
    },
    {
      "cell_type": "code",
      "metadata": {
        "id": "CX2DU3CAUVzz",
        "colab": {
          "base_uri": "https://localhost:8080/"
        },
        "outputId": "7ae89476-33f1-4608-e188-2efebc7c6293"
      },
      "source": [
        "# code here\r\n",
        "conf_mat = confusion_matrix(actual_predictions1, predictions1)\r\n",
        "print(conf_mat)"
      ],
      "execution_count": 132,
      "outputs": [
        {
          "output_type": "stream",
          "text": [
            "[[17  9  3]\n",
            " [ 1 54 17]\n",
            " [ 1 29 29]]\n"
          ],
          "name": "stdout"
        }
      ]
    },
    {
      "cell_type": "code",
      "metadata": {
        "id": "tcVttT8T6YxA"
      },
      "source": [
        "def plot_confusion_matrix(conf_mat):\r\n",
        "    classes = list(labels.keys())\r\n",
        "    df_cm = pd.DataFrame(conf_mat,classes,classes)\r\n",
        "    plt.figure(figsize=(10,7))\r\n",
        "    sns.set(font_scale=1.4)\r\n",
        "    sns.heatmap(df_cm, annot=True,annot_kws={\"size\": 16})\r\n",
        "    plt.show()"
      ],
      "execution_count": 133,
      "outputs": []
    },
    {
      "cell_type": "markdown",
      "metadata": {
        "id": "9w7a2UdCWJ3Q"
      },
      "source": [
        "Use the above function to plot confusion matrix here."
      ]
    },
    {
      "cell_type": "code",
      "metadata": {
        "id": "U5O9Uxo9VUHc",
        "colab": {
          "base_uri": "https://localhost:8080/",
          "height": 437
        },
        "outputId": "cf3fd03d-58f7-494d-af99-00b8b93dbda2"
      },
      "source": [
        "# code below\r\n",
        "plot_confusion_matrix(conf_mat)"
      ],
      "execution_count": 134,
      "outputs": [
        {
          "output_type": "display_data",
          "data": {
            "image/png": "[encoded data removed]",
            "text/plain": [
              "<Figure size 720x504 with 2 Axes>"
            ]
          },
          "metadata": {
            "tags": []
          }
        }
      ]
    },
    {
      "cell_type": "markdown",
      "metadata": {
        "id": "m29EU7mZVrD3"
      },
      "source": [
        "### Questions\r\n"
      ]
    },
    {
      "cell_type": "markdown",
      "metadata": {
        "id": "SxetUutBW9Px"
      },
      "source": [
        "\r\n",
        "What is overfitting? How are we trying to prevent overfitting here?\r\n",
        "\r\n",
        "Answer:\r\n"
      ]
    },
    {
      "cell_type": "markdown",
      "metadata": {
        "id": "2QeB-aefW64T"
      },
      "source": [
        "What is class imbalance? How does it effect training? Does this training set have class imbalance? If yes, then show it (using numbers).\r\n",
        "\r\n",
        "Answer:"
      ]
    },
    {
      "cell_type": "code",
      "metadata": {
        "id": "qxrE4fN-VXNn"
      },
      "source": [
        ""
      ],
      "execution_count": null,
      "outputs": []
    }
  ]
}