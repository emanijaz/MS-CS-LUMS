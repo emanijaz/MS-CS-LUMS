{
  "nbformat": 4,
  "nbformat_minor": 0,
  "metadata": {
    "colab": {
      "name": "CS437_HW3_PartC.ipynb",
      "provenance": [],
      "collapsed_sections": []
    },
    "kernelspec": {
      "name": "python3",
      "display_name": "Python 3"
    },
    "accelerator": "GPU"
  },
  "cells": [
    {
      "cell_type": "markdown",
      "metadata": {
        "id": "JlM2iatsQ9nb"
      },
      "source": [
        "# Assignment 3  - Part C\r\n",
        "\r\n",
        "\r\n",
        "#### Roll Number:20030012\r\n"
      ]
    },
    {
      "cell_type": "markdown",
      "metadata": {
        "id": "U_kQzTmZRTLu"
      },
      "source": [
        "### Task Explanation"
      ]
    },
    {
      "cell_type": "markdown",
      "metadata": {
        "id": "m73XPqSORiIJ"
      },
      "source": [
        "In this task, we will perform feature extraction and fine-tuning on a previously trained over a large dataset model. This is a very useful domain of Deep Learning known as Transfer Learning. We don't always have the luxury of time and computational power to adequately train a large model over our dataset. So, we use models which have been trained on large datasets (usually ImageNet) and then fine-tune them on our dataset. The intuition behind transfer learning for image classification is that if a model is trained on a large and general enough dataset, this model will effectively serve as a generic model of the visual world. You can then take advantage of these learned feature maps without having to start from scratch by training a large model on a large dataset.\r\n",
        "\r\n",
        "Here, we will fine-tune a previously trained model on imagenet to learn and classify three new class: Richshaw, qingqi and Tanga. \r\n"
      ]
    },
    {
      "cell_type": "markdown",
      "metadata": {
        "id": "o5dOkrpMXxwA"
      },
      "source": [
        "### Dataset\r\n",
        "\r\n"
      ]
    },
    {
      "cell_type": "markdown",
      "metadata": {
        "id": "3mbwUfb_YV07"
      },
      "source": [
        "The dataset is divided into training set and testing set. The training set is labeled and contains 80 images for each class (Total 240 images). You have been given unlabeled test set and your task is to predict the class of each test image. The test set contain 853 images.<br>\r\n",
        "Some guidelines:<br>\r\n",
        "- You are free to extend or augment the training set.<br>\r\n",
        "- If you want, you can use a subset of training set as your validation set.<br>\r\n",
        "- You must not use the provided test set in any way except for final predictions.<br>"
      ]
    },
    {
      "cell_type": "code",
      "metadata": {
        "colab": {
          "base_uri": "https://localhost:8080/"
        },
        "id": "hTAWM3gkYCFA",
        "outputId": "ee71c5e2-6da7-4137-ee15-ba12c8526e0e"
      },
      "source": [
        "!git clone https://github.com/MMFa666/VehicleDataset.git"
      ],
      "execution_count": null,
      "outputs": [
        {
          "output_type": "stream",
          "text": [
            "Cloning into 'VehicleDataset'...\n",
            "remote: Enumerating objects: 1106, done.\u001b[K\n",
            "remote: Counting objects: 100% (1106/1106), done.\u001b[K\n",
            "remote: Compressing objects: 100% (1100/1100), done.\u001b[K\n",
            "remote: Total 1106 (delta 4), reused 1103 (delta 4), pack-reused 0\u001b[K\n",
            "Receiving objects: 100% (1106/1106), 34.18 MiB | 29.17 MiB/s, done.\n",
            "Resolving deltas: 100% (4/4), done.\n"
          ],
          "name": "stdout"
        }
      ]
    },
    {
      "cell_type": "markdown",
      "metadata": {
        "id": "LuuKM6L7XvVB"
      },
      "source": [
        "### Models\r\n"
      ]
    },
    {
      "cell_type": "markdown",
      "metadata": {
        "id": "xxOeWlzGYZcw"
      },
      "source": [
        "You can use anyone of the following models for this task. See the [documentation](https://www.tensorflow.org/api_docs/python/tf/keras/applications#functions) for more details.\r\n",
        "- VGG\r\n",
        "- ResNet\r\n",
        "- MobileNet\r\n",
        "- EfficientNet"
      ]
    },
    {
      "cell_type": "markdown",
      "metadata": {
        "id": "Cgf-tLf1YRKV"
      },
      "source": [
        "### LeaderBoard\r\n",
        "\r\n",
        "The goal here is to get the maximum performance on test set. For this purpose, we have created a competition on Kaggle where a leaderboard is maintained. You will upload your predictions for test set there and a score will be generated for you. You will be ranked based on your score. You can submit upto 20 times a day with maximum 300 submissions in total.\r\n",
        "\r\n",
        "This part will be evaluated based on your approach and your performance in LeaderBoard. Furthermore, the top student will receive a 5%, 2nd will receive 3% and 3rd will receive 1% bonus.\r\n",
        "\r\n",
        "You are allowed to the following to win:\r\n",
        "- Extend your chosen model as you like.\r\n",
        "- Extend the training set.\r\n",
        "- Augment the training set.\r\n",
        "- Play with hyperparameters.\r\n",
        "- Preprocess the data as you like.\r\n",
        "\r\n",
        "Competition link [here](https://www.kaggle.com/c/lums-cs437-hw3/)"
      ]
    },
    {
      "cell_type": "markdown",
      "metadata": {
        "id": "rfMOftyqbQbp"
      },
      "source": [
        "### Tutuorial Example\r\n",
        "\r\n",
        "You are recommended to follow this [tutorial](https://www.tensorflow.org/tutorials/images/transfer_learning) for this task. All the hints and information required are available here and this task can be easily completed by following it. In this tutorial, they use MobileNet but as mentioned above you are free to use any of the abovementioned models."
      ]
    },
    {
      "cell_type": "markdown",
      "metadata": {
        "id": "jFkG-dn-cSH3"
      },
      "source": [
        "### Let The Games Begin!!!"
      ]
    },
    {
      "cell_type": "code",
      "metadata": {
        "id": "_POqcmrGQloX"
      },
      "source": [
        "# make necessary imports here\r\n",
        "import matplotlib.pyplot as plt\r\n",
        "import numpy as np\r\n",
        "import pandas as pd\r\n",
        "import os\r\n",
        "import glob\r\n",
        "import random\r\n",
        "\r\n",
        "from tensorflow.keras.preprocessing import image_dataset_from_directory\r\n",
        "import cv2\r\n",
        "from tensorflow.keras.layers import Dense, Conv2D, Dropout, BatchNormalization, Input, LeakyReLU, Flatten, Dropout, GlobalAveragePooling2D, experimental,MaxPooling2D\r\n",
        "from tensorflow.keras.preprocessing import image_dataset_from_directory\r\n",
        "from tensorflow.keras.optimizers import Adam, RMSprop\r\n",
        "from tensorflow.keras import Model\r\n",
        "from sklearn.metrics import confusion_matrix\r\n",
        "import seaborn as sns\r\n",
        "# any other imports that you may require\r\n",
        "from tensorflow.keras.losses import CategoricalCrossentropy\r\n",
        "from tensorflow.keras import Sequential\r\n",
        "from tensorflow import expand_dims\r\n",
        "from sklearn.metrics import confusion_matrix\r\n",
        "from tensorflow.keras.applications import mobilenet_v2, MobileNetV2\r\n",
        "from tensorflow.image import convert_image_dtype\r\n",
        "from tensorflow import float16\r\n",
        "import csv"
      ],
      "execution_count": null,
      "outputs": []
    },
    {
      "cell_type": "code",
      "metadata": {
        "id": "0_w0XI7FeBj_"
      },
      "source": [
        "labels={}\r\n",
        "labels['qingqi']=[1,0,0]\r\n",
        "labels['rickshaw']=[0,1,0]\r\n",
        "labels['tanga']=[0,0,1]"
      ],
      "execution_count": null,
      "outputs": []
    },
    {
      "cell_type": "code",
      "metadata": {
        "id": "-FvcGUc6c4sB"
      },
      "source": [
        "# define hyperparameters\r\n",
        "\r\n",
        "epochs = 30 \r\n",
        "learning_rate = 0.001 \r\n",
        "batch_size = 30\r\n",
        "input_shape = (160, 160, 3)\r\n",
        "img_size = (160,160)"
      ],
      "execution_count": null,
      "outputs": []
    },
    {
      "cell_type": "code",
      "metadata": {
        "colab": {
          "base_uri": "https://localhost:8080/"
        },
        "id": "Bw7YXkc5ZU59",
        "outputId": "608b27c6-27bc-4257-a31e-b6e6a52be5e0"
      },
      "source": [
        "## augmenting the data set\n",
        "!rm -rf VehicleDataset/  ## clear directory first\n",
        "!git clone https://github.com/MMFa666/VehicleDataset.git ## clone dataset\n",
        "\n",
        "## now augment training set\n",
        "data_augmentation = Sequential([\n",
        "  experimental.preprocessing.RandomFlip('horizontal'),\n",
        "  experimental.preprocessing.RandomRotation(0.2),\n",
        "])\n",
        "\n",
        "for dataset_folder in glob.glob('/content/VehicleDataset/train*'):\n",
        "  for type_folder in glob.glob(dataset_folder + '/*'):\n",
        "    for img_link in glob.glob(type_folder+'/*'):\n",
        "      img_name = img_link.split('/')[-1].split('.')[0] \n",
        "      img = cv2.imread(img_link)\n",
        "      img.resize((input_shape))\n",
        "      for k in range(1): ## for each img generate 1 versions rotated for train set\n",
        "        augmented_image = data_augmentation(expand_dims(img, 0))\n",
        "        cv2.imwrite(os.path.join(type_folder, img_name+'__'+str(k)+'_.jpg'), np.array(augmented_image[0]))\n",
        "        \n",
        "\n"
      ],
      "execution_count": null,
      "outputs": [
        {
          "output_type": "stream",
          "text": [
            "Cloning into 'VehicleDataset'...\n",
            "remote: Enumerating objects: 1106, done.\u001b[K\n",
            "remote: Counting objects: 100% (1106/1106), done.\u001b[K\n",
            "remote: Compressing objects: 100% (1100/1100), done.\u001b[K\n",
            "remote: Total 1106 (delta 4), reused 1103 (delta 4), pack-reused 0\u001b[K\n",
            "Receiving objects: 100% (1106/1106), 34.18 MiB | 26.57 MiB/s, done.\n",
            "Resolving deltas: 100% (4/4), done.\n"
          ],
          "name": "stdout"
        }
      ]
    },
    {
      "cell_type": "code",
      "metadata": {
        "id": "B5oPAMnkTW5-",
        "colab": {
          "base_uri": "https://localhost:8080/"
        },
        "outputId": "1ba5baea-a5ce-4784-eaf3-e2d50bfe6737"
      },
      "source": [
        "# read and preprocess the training data and extract the labels. (If your training data is large then you can also use batch generator like done in PartB.)\r\n",
        "# print the shape x and y data\r\n",
        "# split into validation set if you desire\r\n",
        "\r\n",
        "\r\n",
        "train_dir = '/content/VehicleDataset/train/'\r\n",
        "test_dir = '/content/VehicleDataset/test/'\r\n",
        "\r\n",
        "train_dataset = image_dataset_from_directory(train_dir,\r\n",
        "                                             shuffle=True,\r\n",
        "                                             batch_size=batch_size,\r\n",
        "                                             image_size=img_size,\r\n",
        "                                             label_mode = 'categorical')\r\n",
        "\r\n",
        "\r\n",
        "\r\n"
      ],
      "execution_count": null,
      "outputs": [
        {
          "output_type": "stream",
          "text": [
            "Found 480 files belonging to 3 classes.\n"
          ],
          "name": "stdout"
        }
      ]
    },
    {
      "cell_type": "markdown",
      "metadata": {
        "id": "ERyMxckRznzg"
      },
      "source": [
        "### Feature Extraction"
      ]
    },
    {
      "cell_type": "markdown",
      "metadata": {
        "id": "wfrbq528z5WX"
      },
      "source": [
        "In this step, you will freeze the convolutional base created from the previous step and to use as a feature extractor. Additionally, you add a classifier on top of it and train the top-level classifier."
      ]
    },
    {
      "cell_type": "code",
      "metadata": {
        "id": "bj5LalB6fgwh",
        "colab": {
          "base_uri": "https://localhost:8080/"
        },
        "outputId": "8803e984-c5ea-47a7-b766-879137702aa7"
      },
      "source": [
        "# intialize the base model here and print the model summary\r\n",
        "base_model = MobileNetV2(input_shape=input_shape,\r\n",
        "                         include_top=False,\r\n",
        "                         weights='imagenet')\r\n",
        "\r\n",
        "base_model.summary()\r\n",
        "\r\n",
        "global_average_layer = GlobalAveragePooling2D()\r\n",
        "preprocess_input = mobilenet_v2.preprocess_input\r\n",
        "\r\n",
        "\r\n",
        "\r\n"
      ],
      "execution_count": null,
      "outputs": [
        {
          "output_type": "stream",
          "text": [
            "Model: \"mobilenetv2_1.00_160\"\n",
            "__________________________________________________________________________________________________\n",
            "Layer (type)                    Output Shape         Param #     Connected to                     \n",
            "==================================================================================================\n",
            "input_26 (InputLayer)           [(None, 160, 160, 3) 0                                            \n",
            "__________________________________________________________________________________________________\n",
            "Conv1 (Conv2D)                  (None, 80, 80, 32)   864         input_26[0][0]                   \n",
            "__________________________________________________________________________________________________\n",
            "bn_Conv1 (BatchNormalization)   (None, 80, 80, 32)   128         Conv1[0][0]                      \n",
            "__________________________________________________________________________________________________\n",
            "Conv1_relu (ReLU)               (None, 80, 80, 32)   0           bn_Conv1[0][0]                   \n",
            "__________________________________________________________________________________________________\n",
            "expanded_conv_depthwise (Depthw (None, 80, 80, 32)   288         Conv1_relu[0][0]                 \n",
            "__________________________________________________________________________________________________\n",
            "expanded_conv_depthwise_BN (Bat (None, 80, 80, 32)   128         expanded_conv_depthwise[0][0]    \n",
            "__________________________________________________________________________________________________\n",
            "expanded_conv_depthwise_relu (R (None, 80, 80, 32)   0           expanded_conv_depthwise_BN[0][0] \n",
            "__________________________________________________________________________________________________\n",
            "expanded_conv_project (Conv2D)  (None, 80, 80, 16)   512         expanded_conv_depthwise_relu[0][0\n",
            "__________________________________________________________________________________________________\n",
            "expanded_conv_project_BN (Batch (None, 80, 80, 16)   64          expanded_conv_project[0][0]      \n",
            "__________________________________________________________________________________________________\n",
            "block_1_expand (Conv2D)         (None, 80, 80, 96)   1536        expanded_conv_project_BN[0][0]   \n",
            "__________________________________________________________________________________________________\n",
            "block_1_expand_BN (BatchNormali (None, 80, 80, 96)   384         block_1_expand[0][0]             \n",
            "__________________________________________________________________________________________________\n",
            "block_1_expand_relu (ReLU)      (None, 80, 80, 96)   0           block_1_expand_BN[0][0]          \n",
            "__________________________________________________________________________________________________\n",
            "block_1_pad (ZeroPadding2D)     (None, 81, 81, 96)   0           block_1_expand_relu[0][0]        \n",
            "__________________________________________________________________________________________________\n",
            "block_1_depthwise (DepthwiseCon (None, 40, 40, 96)   864         block_1_pad[0][0]                \n",
            "__________________________________________________________________________________________________\n",
            "block_1_depthwise_BN (BatchNorm (None, 40, 40, 96)   384         block_1_depthwise[0][0]          \n",
            "__________________________________________________________________________________________________\n",
            "block_1_depthwise_relu (ReLU)   (None, 40, 40, 96)   0           block_1_depthwise_BN[0][0]       \n",
            "__________________________________________________________________________________________________\n",
            "block_1_project (Conv2D)        (None, 40, 40, 24)   2304        block_1_depthwise_relu[0][0]     \n",
            "__________________________________________________________________________________________________\n",
            "block_1_project_BN (BatchNormal (None, 40, 40, 24)   96          block_1_project[0][0]            \n",
            "__________________________________________________________________________________________________\n",
            "block_2_expand (Conv2D)         (None, 40, 40, 144)  3456        block_1_project_BN[0][0]         \n",
            "__________________________________________________________________________________________________\n",
            "block_2_expand_BN (BatchNormali (None, 40, 40, 144)  576         block_2_expand[0][0]             \n",
            "__________________________________________________________________________________________________\n",
            "block_2_expand_relu (ReLU)      (None, 40, 40, 144)  0           block_2_expand_BN[0][0]          \n",
            "__________________________________________________________________________________________________\n",
            "block_2_depthwise (DepthwiseCon (None, 40, 40, 144)  1296        block_2_expand_relu[0][0]        \n",
            "__________________________________________________________________________________________________\n",
            "block_2_depthwise_BN (BatchNorm (None, 40, 40, 144)  576         block_2_depthwise[0][0]          \n",
            "__________________________________________________________________________________________________\n",
            "block_2_depthwise_relu (ReLU)   (None, 40, 40, 144)  0           block_2_depthwise_BN[0][0]       \n",
            "__________________________________________________________________________________________________\n",
            "block_2_project (Conv2D)        (None, 40, 40, 24)   3456        block_2_depthwise_relu[0][0]     \n",
            "__________________________________________________________________________________________________\n",
            "block_2_project_BN (BatchNormal (None, 40, 40, 24)   96          block_2_project[0][0]            \n",
            "__________________________________________________________________________________________________\n",
            "block_2_add (Add)               (None, 40, 40, 24)   0           block_1_project_BN[0][0]         \n",
            "                                                                 block_2_project_BN[0][0]         \n",
            "__________________________________________________________________________________________________\n",
            "block_3_expand (Conv2D)         (None, 40, 40, 144)  3456        block_2_add[0][0]                \n",
            "__________________________________________________________________________________________________\n",
            "block_3_expand_BN (BatchNormali (None, 40, 40, 144)  576         block_3_expand[0][0]             \n",
            "__________________________________________________________________________________________________\n",
            "block_3_expand_relu (ReLU)      (None, 40, 40, 144)  0           block_3_expand_BN[0][0]          \n",
            "__________________________________________________________________________________________________\n",
            "block_3_pad (ZeroPadding2D)     (None, 41, 41, 144)  0           block_3_expand_relu[0][0]        \n",
            "__________________________________________________________________________________________________\n",
            "block_3_depthwise (DepthwiseCon (None, 20, 20, 144)  1296        block_3_pad[0][0]                \n",
            "__________________________________________________________________________________________________\n",
            "block_3_depthwise_BN (BatchNorm (None, 20, 20, 144)  576         block_3_depthwise[0][0]          \n",
            "__________________________________________________________________________________________________\n",
            "block_3_depthwise_relu (ReLU)   (None, 20, 20, 144)  0           block_3_depthwise_BN[0][0]       \n",
            "__________________________________________________________________________________________________\n",
            "block_3_project (Conv2D)        (None, 20, 20, 32)   4608        block_3_depthwise_relu[0][0]     \n",
            "__________________________________________________________________________________________________\n",
            "block_3_project_BN (BatchNormal (None, 20, 20, 32)   128         block_3_project[0][0]            \n",
            "__________________________________________________________________________________________________\n",
            "block_4_expand (Conv2D)         (None, 20, 20, 192)  6144        block_3_project_BN[0][0]         \n",
            "__________________________________________________________________________________________________\n",
            "block_4_expand_BN (BatchNormali (None, 20, 20, 192)  768         block_4_expand[0][0]             \n",
            "__________________________________________________________________________________________________\n",
            "block_4_expand_relu (ReLU)      (None, 20, 20, 192)  0           block_4_expand_BN[0][0]          \n",
            "__________________________________________________________________________________________________\n",
            "block_4_depthwise (DepthwiseCon (None, 20, 20, 192)  1728        block_4_expand_relu[0][0]        \n",
            "__________________________________________________________________________________________________\n",
            "block_4_depthwise_BN (BatchNorm (None, 20, 20, 192)  768         block_4_depthwise[0][0]          \n",
            "__________________________________________________________________________________________________\n",
            "block_4_depthwise_relu (ReLU)   (None, 20, 20, 192)  0           block_4_depthwise_BN[0][0]       \n",
            "__________________________________________________________________________________________________\n",
            "block_4_project (Conv2D)        (None, 20, 20, 32)   6144        block_4_depthwise_relu[0][0]     \n",
            "__________________________________________________________________________________________________\n",
            "block_4_project_BN (BatchNormal (None, 20, 20, 32)   128         block_4_project[0][0]            \n",
            "__________________________________________________________________________________________________\n",
            "block_4_add (Add)               (None, 20, 20, 32)   0           block_3_project_BN[0][0]         \n",
            "                                                                 block_4_project_BN[0][0]         \n",
            "__________________________________________________________________________________________________\n",
            "block_5_expand (Conv2D)         (None, 20, 20, 192)  6144        block_4_add[0][0]                \n",
            "__________________________________________________________________________________________________\n",
            "block_5_expand_BN (BatchNormali (None, 20, 20, 192)  768         block_5_expand[0][0]             \n",
            "__________________________________________________________________________________________________\n",
            "block_5_expand_relu (ReLU)      (None, 20, 20, 192)  0           block_5_expand_BN[0][0]          \n",
            "__________________________________________________________________________________________________\n",
            "block_5_depthwise (DepthwiseCon (None, 20, 20, 192)  1728        block_5_expand_relu[0][0]        \n",
            "__________________________________________________________________________________________________\n",
            "block_5_depthwise_BN (BatchNorm (None, 20, 20, 192)  768         block_5_depthwise[0][0]          \n",
            "__________________________________________________________________________________________________\n",
            "block_5_depthwise_relu (ReLU)   (None, 20, 20, 192)  0           block_5_depthwise_BN[0][0]       \n",
            "__________________________________________________________________________________________________\n",
            "block_5_project (Conv2D)        (None, 20, 20, 32)   6144        block_5_depthwise_relu[0][0]     \n",
            "__________________________________________________________________________________________________\n",
            "block_5_project_BN (BatchNormal (None, 20, 20, 32)   128         block_5_project[0][0]            \n",
            "__________________________________________________________________________________________________\n",
            "block_5_add (Add)               (None, 20, 20, 32)   0           block_4_add[0][0]                \n",
            "                                                                 block_5_project_BN[0][0]         \n",
            "__________________________________________________________________________________________________\n",
            "block_6_expand (Conv2D)         (None, 20, 20, 192)  6144        block_5_add[0][0]                \n",
            "__________________________________________________________________________________________________\n",
            "block_6_expand_BN (BatchNormali (None, 20, 20, 192)  768         block_6_expand[0][0]             \n",
            "__________________________________________________________________________________________________\n",
            "block_6_expand_relu (ReLU)      (None, 20, 20, 192)  0           block_6_expand_BN[0][0]          \n",
            "__________________________________________________________________________________________________\n",
            "block_6_pad (ZeroPadding2D)     (None, 21, 21, 192)  0           block_6_expand_relu[0][0]        \n",
            "__________________________________________________________________________________________________\n",
            "block_6_depthwise (DepthwiseCon (None, 10, 10, 192)  1728        block_6_pad[0][0]                \n",
            "__________________________________________________________________________________________________\n",
            "block_6_depthwise_BN (BatchNorm (None, 10, 10, 192)  768         block_6_depthwise[0][0]          \n",
            "__________________________________________________________________________________________________\n",
            "block_6_depthwise_relu (ReLU)   (None, 10, 10, 192)  0           block_6_depthwise_BN[0][0]       \n",
            "__________________________________________________________________________________________________\n",
            "block_6_project (Conv2D)        (None, 10, 10, 64)   12288       block_6_depthwise_relu[0][0]     \n",
            "__________________________________________________________________________________________________\n",
            "block_6_project_BN (BatchNormal (None, 10, 10, 64)   256         block_6_project[0][0]            \n",
            "__________________________________________________________________________________________________\n",
            "block_7_expand (Conv2D)         (None, 10, 10, 384)  24576       block_6_project_BN[0][0]         \n",
            "__________________________________________________________________________________________________\n",
            "block_7_expand_BN (BatchNormali (None, 10, 10, 384)  1536        block_7_expand[0][0]             \n",
            "__________________________________________________________________________________________________\n",
            "block_7_expand_relu (ReLU)      (None, 10, 10, 384)  0           block_7_expand_BN[0][0]          \n",
            "__________________________________________________________________________________________________\n",
            "block_7_depthwise (DepthwiseCon (None, 10, 10, 384)  3456        block_7_expand_relu[0][0]        \n",
            "__________________________________________________________________________________________________\n",
            "block_7_depthwise_BN (BatchNorm (None, 10, 10, 384)  1536        block_7_depthwise[0][0]          \n",
            "__________________________________________________________________________________________________\n",
            "block_7_depthwise_relu (ReLU)   (None, 10, 10, 384)  0           block_7_depthwise_BN[0][0]       \n",
            "__________________________________________________________________________________________________\n",
            "block_7_project (Conv2D)        (None, 10, 10, 64)   24576       block_7_depthwise_relu[0][0]     \n",
            "__________________________________________________________________________________________________\n",
            "block_7_project_BN (BatchNormal (None, 10, 10, 64)   256         block_7_project[0][0]            \n",
            "__________________________________________________________________________________________________\n",
            "block_7_add (Add)               (None, 10, 10, 64)   0           block_6_project_BN[0][0]         \n",
            "                                                                 block_7_project_BN[0][0]         \n",
            "__________________________________________________________________________________________________\n",
            "block_8_expand (Conv2D)         (None, 10, 10, 384)  24576       block_7_add[0][0]                \n",
            "__________________________________________________________________________________________________\n",
            "block_8_expand_BN (BatchNormali (None, 10, 10, 384)  1536        block_8_expand[0][0]             \n",
            "__________________________________________________________________________________________________\n",
            "block_8_expand_relu (ReLU)      (None, 10, 10, 384)  0           block_8_expand_BN[0][0]          \n",
            "__________________________________________________________________________________________________\n",
            "block_8_depthwise (DepthwiseCon (None, 10, 10, 384)  3456        block_8_expand_relu[0][0]        \n",
            "__________________________________________________________________________________________________\n",
            "block_8_depthwise_BN (BatchNorm (None, 10, 10, 384)  1536        block_8_depthwise[0][0]          \n",
            "__________________________________________________________________________________________________\n",
            "block_8_depthwise_relu (ReLU)   (None, 10, 10, 384)  0           block_8_depthwise_BN[0][0]       \n",
            "__________________________________________________________________________________________________\n",
            "block_8_project (Conv2D)        (None, 10, 10, 64)   24576       block_8_depthwise_relu[0][0]     \n",
            "__________________________________________________________________________________________________\n",
            "block_8_project_BN (BatchNormal (None, 10, 10, 64)   256         block_8_project[0][0]            \n",
            "__________________________________________________________________________________________________\n",
            "block_8_add (Add)               (None, 10, 10, 64)   0           block_7_add[0][0]                \n",
            "                                                                 block_8_project_BN[0][0]         \n",
            "__________________________________________________________________________________________________\n",
            "block_9_expand (Conv2D)         (None, 10, 10, 384)  24576       block_8_add[0][0]                \n",
            "__________________________________________________________________________________________________\n",
            "block_9_expand_BN (BatchNormali (None, 10, 10, 384)  1536        block_9_expand[0][0]             \n",
            "__________________________________________________________________________________________________\n",
            "block_9_expand_relu (ReLU)      (None, 10, 10, 384)  0           block_9_expand_BN[0][0]          \n",
            "__________________________________________________________________________________________________\n",
            "block_9_depthwise (DepthwiseCon (None, 10, 10, 384)  3456        block_9_expand_relu[0][0]        \n",
            "__________________________________________________________________________________________________\n",
            "block_9_depthwise_BN (BatchNorm (None, 10, 10, 384)  1536        block_9_depthwise[0][0]          \n",
            "__________________________________________________________________________________________________\n",
            "block_9_depthwise_relu (ReLU)   (None, 10, 10, 384)  0           block_9_depthwise_BN[0][0]       \n",
            "__________________________________________________________________________________________________\n",
            "block_9_project (Conv2D)        (None, 10, 10, 64)   24576       block_9_depthwise_relu[0][0]     \n",
            "__________________________________________________________________________________________________\n",
            "block_9_project_BN (BatchNormal (None, 10, 10, 64)   256         block_9_project[0][0]            \n",
            "__________________________________________________________________________________________________\n",
            "block_9_add (Add)               (None, 10, 10, 64)   0           block_8_add[0][0]                \n",
            "                                                                 block_9_project_BN[0][0]         \n",
            "__________________________________________________________________________________________________\n",
            "block_10_expand (Conv2D)        (None, 10, 10, 384)  24576       block_9_add[0][0]                \n",
            "__________________________________________________________________________________________________\n",
            "block_10_expand_BN (BatchNormal (None, 10, 10, 384)  1536        block_10_expand[0][0]            \n",
            "__________________________________________________________________________________________________\n",
            "block_10_expand_relu (ReLU)     (None, 10, 10, 384)  0           block_10_expand_BN[0][0]         \n",
            "__________________________________________________________________________________________________\n",
            "block_10_depthwise (DepthwiseCo (None, 10, 10, 384)  3456        block_10_expand_relu[0][0]       \n",
            "__________________________________________________________________________________________________\n",
            "block_10_depthwise_BN (BatchNor (None, 10, 10, 384)  1536        block_10_depthwise[0][0]         \n",
            "__________________________________________________________________________________________________\n",
            "block_10_depthwise_relu (ReLU)  (None, 10, 10, 384)  0           block_10_depthwise_BN[0][0]      \n",
            "__________________________________________________________________________________________________\n",
            "block_10_project (Conv2D)       (None, 10, 10, 96)   36864       block_10_depthwise_relu[0][0]    \n",
            "__________________________________________________________________________________________________\n",
            "block_10_project_BN (BatchNorma (None, 10, 10, 96)   384         block_10_project[0][0]           \n",
            "__________________________________________________________________________________________________\n",
            "block_11_expand (Conv2D)        (None, 10, 10, 576)  55296       block_10_project_BN[0][0]        \n",
            "__________________________________________________________________________________________________\n",
            "block_11_expand_BN (BatchNormal (None, 10, 10, 576)  2304        block_11_expand[0][0]            \n",
            "__________________________________________________________________________________________________\n",
            "block_11_expand_relu (ReLU)     (None, 10, 10, 576)  0           block_11_expand_BN[0][0]         \n",
            "__________________________________________________________________________________________________\n",
            "block_11_depthwise (DepthwiseCo (None, 10, 10, 576)  5184        block_11_expand_relu[0][0]       \n",
            "__________________________________________________________________________________________________\n",
            "block_11_depthwise_BN (BatchNor (None, 10, 10, 576)  2304        block_11_depthwise[0][0]         \n",
            "__________________________________________________________________________________________________\n",
            "block_11_depthwise_relu (ReLU)  (None, 10, 10, 576)  0           block_11_depthwise_BN[0][0]      \n",
            "__________________________________________________________________________________________________\n",
            "block_11_project (Conv2D)       (None, 10, 10, 96)   55296       block_11_depthwise_relu[0][0]    \n",
            "__________________________________________________________________________________________________\n",
            "block_11_project_BN (BatchNorma (None, 10, 10, 96)   384         block_11_project[0][0]           \n",
            "__________________________________________________________________________________________________\n",
            "block_11_add (Add)              (None, 10, 10, 96)   0           block_10_project_BN[0][0]        \n",
            "                                                                 block_11_project_BN[0][0]        \n",
            "__________________________________________________________________________________________________\n",
            "block_12_expand (Conv2D)        (None, 10, 10, 576)  55296       block_11_add[0][0]               \n",
            "__________________________________________________________________________________________________\n",
            "block_12_expand_BN (BatchNormal (None, 10, 10, 576)  2304        block_12_expand[0][0]            \n",
            "__________________________________________________________________________________________________\n",
            "block_12_expand_relu (ReLU)     (None, 10, 10, 576)  0           block_12_expand_BN[0][0]         \n",
            "__________________________________________________________________________________________________\n",
            "block_12_depthwise (DepthwiseCo (None, 10, 10, 576)  5184        block_12_expand_relu[0][0]       \n",
            "__________________________________________________________________________________________________\n",
            "block_12_depthwise_BN (BatchNor (None, 10, 10, 576)  2304        block_12_depthwise[0][0]         \n",
            "__________________________________________________________________________________________________\n",
            "block_12_depthwise_relu (ReLU)  (None, 10, 10, 576)  0           block_12_depthwise_BN[0][0]      \n",
            "__________________________________________________________________________________________________\n",
            "block_12_project (Conv2D)       (None, 10, 10, 96)   55296       block_12_depthwise_relu[0][0]    \n",
            "__________________________________________________________________________________________________\n",
            "block_12_project_BN (BatchNorma (None, 10, 10, 96)   384         block_12_project[0][0]           \n",
            "__________________________________________________________________________________________________\n",
            "block_12_add (Add)              (None, 10, 10, 96)   0           block_11_add[0][0]               \n",
            "                                                                 block_12_project_BN[0][0]        \n",
            "__________________________________________________________________________________________________\n",
            "block_13_expand (Conv2D)        (None, 10, 10, 576)  55296       block_12_add[0][0]               \n",
            "__________________________________________________________________________________________________\n",
            "block_13_expand_BN (BatchNormal (None, 10, 10, 576)  2304        block_13_expand[0][0]            \n",
            "__________________________________________________________________________________________________\n",
            "block_13_expand_relu (ReLU)     (None, 10, 10, 576)  0           block_13_expand_BN[0][0]         \n",
            "__________________________________________________________________________________________________\n",
            "block_13_pad (ZeroPadding2D)    (None, 11, 11, 576)  0           block_13_expand_relu[0][0]       \n",
            "__________________________________________________________________________________________________\n",
            "block_13_depthwise (DepthwiseCo (None, 5, 5, 576)    5184        block_13_pad[0][0]               \n",
            "__________________________________________________________________________________________________\n",
            "block_13_depthwise_BN (BatchNor (None, 5, 5, 576)    2304        block_13_depthwise[0][0]         \n",
            "__________________________________________________________________________________________________\n",
            "block_13_depthwise_relu (ReLU)  (None, 5, 5, 576)    0           block_13_depthwise_BN[0][0]      \n",
            "__________________________________________________________________________________________________\n",
            "block_13_project (Conv2D)       (None, 5, 5, 160)    92160       block_13_depthwise_relu[0][0]    \n",
            "__________________________________________________________________________________________________\n",
            "block_13_project_BN (BatchNorma (None, 5, 5, 160)    640         block_13_project[0][0]           \n",
            "__________________________________________________________________________________________________\n",
            "block_14_expand (Conv2D)        (None, 5, 5, 960)    153600      block_13_project_BN[0][0]        \n",
            "__________________________________________________________________________________________________\n",
            "block_14_expand_BN (BatchNormal (None, 5, 5, 960)    3840        block_14_expand[0][0]            \n",
            "__________________________________________________________________________________________________\n",
            "block_14_expand_relu (ReLU)     (None, 5, 5, 960)    0           block_14_expand_BN[0][0]         \n",
            "__________________________________________________________________________________________________\n",
            "block_14_depthwise (DepthwiseCo (None, 5, 5, 960)    8640        block_14_expand_relu[0][0]       \n",
            "__________________________________________________________________________________________________\n",
            "block_14_depthwise_BN (BatchNor (None, 5, 5, 960)    3840        block_14_depthwise[0][0]         \n",
            "__________________________________________________________________________________________________\n",
            "block_14_depthwise_relu (ReLU)  (None, 5, 5, 960)    0           block_14_depthwise_BN[0][0]      \n",
            "__________________________________________________________________________________________________\n",
            "block_14_project (Conv2D)       (None, 5, 5, 160)    153600      block_14_depthwise_relu[0][0]    \n",
            "__________________________________________________________________________________________________\n",
            "block_14_project_BN (BatchNorma (None, 5, 5, 160)    640         block_14_project[0][0]           \n",
            "__________________________________________________________________________________________________\n",
            "block_14_add (Add)              (None, 5, 5, 160)    0           block_13_project_BN[0][0]        \n",
            "                                                                 block_14_project_BN[0][0]        \n",
            "__________________________________________________________________________________________________\n",
            "block_15_expand (Conv2D)        (None, 5, 5, 960)    153600      block_14_add[0][0]               \n",
            "__________________________________________________________________________________________________\n",
            "block_15_expand_BN (BatchNormal (None, 5, 5, 960)    3840        block_15_expand[0][0]            \n",
            "__________________________________________________________________________________________________\n",
            "block_15_expand_relu (ReLU)     (None, 5, 5, 960)    0           block_15_expand_BN[0][0]         \n",
            "__________________________________________________________________________________________________\n",
            "block_15_depthwise (DepthwiseCo (None, 5, 5, 960)    8640        block_15_expand_relu[0][0]       \n",
            "__________________________________________________________________________________________________\n",
            "block_15_depthwise_BN (BatchNor (None, 5, 5, 960)    3840        block_15_depthwise[0][0]         \n",
            "__________________________________________________________________________________________________\n",
            "block_15_depthwise_relu (ReLU)  (None, 5, 5, 960)    0           block_15_depthwise_BN[0][0]      \n",
            "__________________________________________________________________________________________________\n",
            "block_15_project (Conv2D)       (None, 5, 5, 160)    153600      block_15_depthwise_relu[0][0]    \n",
            "__________________________________________________________________________________________________\n",
            "block_15_project_BN (BatchNorma (None, 5, 5, 160)    640         block_15_project[0][0]           \n",
            "__________________________________________________________________________________________________\n",
            "block_15_add (Add)              (None, 5, 5, 160)    0           block_14_add[0][0]               \n",
            "                                                                 block_15_project_BN[0][0]        \n",
            "__________________________________________________________________________________________________\n",
            "block_16_expand (Conv2D)        (None, 5, 5, 960)    153600      block_15_add[0][0]               \n",
            "__________________________________________________________________________________________________\n",
            "block_16_expand_BN (BatchNormal (None, 5, 5, 960)    3840        block_16_expand[0][0]            \n",
            "__________________________________________________________________________________________________\n",
            "block_16_expand_relu (ReLU)     (None, 5, 5, 960)    0           block_16_expand_BN[0][0]         \n",
            "__________________________________________________________________________________________________\n",
            "block_16_depthwise (DepthwiseCo (None, 5, 5, 960)    8640        block_16_expand_relu[0][0]       \n",
            "__________________________________________________________________________________________________\n",
            "block_16_depthwise_BN (BatchNor (None, 5, 5, 960)    3840        block_16_depthwise[0][0]         \n",
            "__________________________________________________________________________________________________\n",
            "block_16_depthwise_relu (ReLU)  (None, 5, 5, 960)    0           block_16_depthwise_BN[0][0]      \n",
            "__________________________________________________________________________________________________\n",
            "block_16_project (Conv2D)       (None, 5, 5, 320)    307200      block_16_depthwise_relu[0][0]    \n",
            "__________________________________________________________________________________________________\n",
            "block_16_project_BN (BatchNorma (None, 5, 5, 320)    1280        block_16_project[0][0]           \n",
            "__________________________________________________________________________________________________\n",
            "Conv_1 (Conv2D)                 (None, 5, 5, 1280)   409600      block_16_project_BN[0][0]        \n",
            "__________________________________________________________________________________________________\n",
            "Conv_1_bn (BatchNormalization)  (None, 5, 5, 1280)   5120        Conv_1[0][0]                     \n",
            "__________________________________________________________________________________________________\n",
            "out_relu (ReLU)                 (None, 5, 5, 1280)   0           Conv_1_bn[0][0]                  \n",
            "==================================================================================================\n",
            "Total params: 2,257,984\n",
            "Trainable params: 2,223,872\n",
            "Non-trainable params: 34,112\n",
            "__________________________________________________________________________________________________\n"
          ],
          "name": "stdout"
        }
      ]
    },
    {
      "cell_type": "markdown",
      "metadata": {
        "id": "7aQFbNFv01e3"
      },
      "source": [
        "It is important to freeze the convolutional base before you compile and train the model. Freezing (by setting layer.trainable = False) prevents the weights in a given layer from being updated during training. "
      ]
    },
    {
      "cell_type": "code",
      "metadata": {
        "id": "8vuzbvanmPWU"
      },
      "source": [
        "# Freeze the base Model\r\n",
        "base_model.trainable = False\r\n"
      ],
      "execution_count": null,
      "outputs": []
    },
    {
      "cell_type": "code",
      "metadata": {
        "id": "vKCCtPJ-ipAD"
      },
      "source": [
        "# Add your desired classification head and initalize new model\r\n",
        "inputs = Input(shape=input_shape)\r\n",
        "x = data_augmentation(inputs)\r\n",
        "x = preprocess_input(x)\r\n",
        "x = base_model(x, training=False)\r\n",
        "x = global_average_layer(x)\r\n",
        "x = Dropout(0.2)(x)\r\n",
        "prediction_layer = Dense(3,activation='softmax') \r\n",
        "outputs = prediction_layer(x)\r\n",
        "model = Model(inputs, outputs)\r\n"
      ],
      "execution_count": null,
      "outputs": []
    },
    {
      "cell_type": "code",
      "metadata": {
        "id": "nV73k0VDtZBA",
        "colab": {
          "base_uri": "https://localhost:8080/"
        },
        "outputId": "7eb7f9eb-33db-4e6f-af4d-bd5fe564c6d8"
      },
      "source": [
        "# compile the model and print the summary\r\n",
        "model.compile(\r\n",
        "    loss=CategoricalCrossentropy(from_logits=False),\r\n",
        "    optimizer=Adam(learning_rate= learning_rate),\r\n",
        "    metrics=[\"accuracy\"],\r\n",
        ")\r\n",
        "model.summary()\r\n"
      ],
      "execution_count": null,
      "outputs": [
        {
          "output_type": "stream",
          "text": [
            "Model: \"model_14\"\n",
            "_________________________________________________________________\n",
            "Layer (type)                 Output Shape              Param #   \n",
            "=================================================================\n",
            "input_27 (InputLayer)        [(None, 160, 160, 3)]     0         \n",
            "_________________________________________________________________\n",
            "sequential_7 (Sequential)    (None, 160, 160, 3)       0         \n",
            "_________________________________________________________________\n",
            "tf.math.truediv_14 (TFOpLamb (None, 160, 160, 3)       0         \n",
            "_________________________________________________________________\n",
            "tf.math.subtract_14 (TFOpLam (None, 160, 160, 3)       0         \n",
            "_________________________________________________________________\n",
            "mobilenetv2_1.00_160 (Functi (None, 5, 5, 1280)        2257984   \n",
            "_________________________________________________________________\n",
            "global_average_pooling2d_11  (None, 1280)              0         \n",
            "_________________________________________________________________\n",
            "dropout_14 (Dropout)         (None, 1280)              0         \n",
            "_________________________________________________________________\n",
            "dense_14 (Dense)             (None, 3)                 3843      \n",
            "=================================================================\n",
            "Total params: 2,261,827\n",
            "Trainable params: 3,843\n",
            "Non-trainable params: 2,257,984\n",
            "_________________________________________________________________\n"
          ],
          "name": "stdout"
        }
      ]
    },
    {
      "cell_type": "code",
      "metadata": {
        "id": "iEfCM7bqu05m",
        "colab": {
          "base_uri": "https://localhost:8080/"
        },
        "outputId": "f82ac1a6-560e-4b8e-ed46-572d716aace1"
      },
      "source": [
        "# fit the model\r\n",
        "hist = model.fit(train_dataset, epochs= epochs)\r\n"
      ],
      "execution_count": null,
      "outputs": [
        {
          "output_type": "stream",
          "text": [
            "Epoch 1/30\n",
            "16/16 [==============================] - 4s 46ms/step - loss: 1.5397 - accuracy: 0.3588\n",
            "Epoch 2/30\n",
            "16/16 [==============================] - 1s 41ms/step - loss: 1.0855 - accuracy: 0.5113\n",
            "Epoch 3/30\n",
            "16/16 [==============================] - 1s 40ms/step - loss: 0.9747 - accuracy: 0.5907\n",
            "Epoch 4/30\n",
            "16/16 [==============================] - 1s 42ms/step - loss: 0.8550 - accuracy: 0.6156\n",
            "Epoch 5/30\n",
            "16/16 [==============================] - 1s 40ms/step - loss: 0.6647 - accuracy: 0.7209\n",
            "Epoch 6/30\n",
            "16/16 [==============================] - 1s 39ms/step - loss: 0.7158 - accuracy: 0.6665\n",
            "Epoch 7/30\n",
            "16/16 [==============================] - 1s 40ms/step - loss: 0.5872 - accuracy: 0.7458\n",
            "Epoch 8/30\n",
            "16/16 [==============================] - 1s 39ms/step - loss: 0.5904 - accuracy: 0.7159\n",
            "Epoch 9/30\n",
            "16/16 [==============================] - 1s 40ms/step - loss: 0.5746 - accuracy: 0.7457\n",
            "Epoch 10/30\n",
            "16/16 [==============================] - 1s 40ms/step - loss: 0.5872 - accuracy: 0.7280\n",
            "Epoch 11/30\n",
            "16/16 [==============================] - 1s 41ms/step - loss: 0.5657 - accuracy: 0.7366\n",
            "Epoch 12/30\n",
            "16/16 [==============================] - 1s 40ms/step - loss: 0.5703 - accuracy: 0.7701\n",
            "Epoch 13/30\n",
            "16/16 [==============================] - 1s 40ms/step - loss: 0.5229 - accuracy: 0.7865\n",
            "Epoch 14/30\n",
            "16/16 [==============================] - 1s 40ms/step - loss: 0.5302 - accuracy: 0.7819\n",
            "Epoch 15/30\n",
            "16/16 [==============================] - 1s 40ms/step - loss: 0.5385 - accuracy: 0.7969\n",
            "Epoch 16/30\n",
            "16/16 [==============================] - 1s 40ms/step - loss: 0.5660 - accuracy: 0.7623\n",
            "Epoch 17/30\n",
            "16/16 [==============================] - 1s 40ms/step - loss: 0.4974 - accuracy: 0.7964\n",
            "Epoch 18/30\n",
            "16/16 [==============================] - 1s 40ms/step - loss: 0.4479 - accuracy: 0.8200\n",
            "Epoch 19/30\n",
            "16/16 [==============================] - 1s 40ms/step - loss: 0.4763 - accuracy: 0.7920\n",
            "Epoch 20/30\n",
            "16/16 [==============================] - 1s 40ms/step - loss: 0.4395 - accuracy: 0.8013\n",
            "Epoch 21/30\n",
            "16/16 [==============================] - 1s 41ms/step - loss: 0.4476 - accuracy: 0.8209\n",
            "Epoch 22/30\n",
            "16/16 [==============================] - 1s 40ms/step - loss: 0.4515 - accuracy: 0.8123\n",
            "Epoch 23/30\n",
            "16/16 [==============================] - 1s 40ms/step - loss: 0.4483 - accuracy: 0.8022\n",
            "Epoch 24/30\n",
            "16/16 [==============================] - 1s 40ms/step - loss: 0.4638 - accuracy: 0.8073\n",
            "Epoch 25/30\n",
            "16/16 [==============================] - 1s 40ms/step - loss: 0.4681 - accuracy: 0.8120\n",
            "Epoch 26/30\n",
            "16/16 [==============================] - 1s 40ms/step - loss: 0.4040 - accuracy: 0.8370\n",
            "Epoch 27/30\n",
            "16/16 [==============================] - 1s 40ms/step - loss: 0.4902 - accuracy: 0.7824\n",
            "Epoch 28/30\n",
            "16/16 [==============================] - 1s 40ms/step - loss: 0.5070 - accuracy: 0.7900\n",
            "Epoch 29/30\n",
            "16/16 [==============================] - 1s 39ms/step - loss: 0.4218 - accuracy: 0.8347\n",
            "Epoch 30/30\n",
            "16/16 [==============================] - 1s 41ms/step - loss: 0.4085 - accuracy: 0.8412\n"
          ],
          "name": "stdout"
        }
      ]
    },
    {
      "cell_type": "code",
      "metadata": {
        "id": "LIAfQy4AvRVC",
        "colab": {
          "base_uri": "https://localhost:8080/",
          "height": 265
        },
        "outputId": "c5f86cb6-29fe-44f9-e242-6b5fbd965903"
      },
      "source": [
        "# plot the loss and accuracy curves\r\n",
        "\r\n",
        "loss = hist.history['loss']\r\n",
        "plt.plot(loss, label='Training Loss')\r\n",
        "plt.ylabel('Loss')\r\n",
        "plt.show()"
      ],
      "execution_count": null,
      "outputs": [
        {
          "output_type": "display_data",
          "data": {
            "image/png": "[encoded data removed]",
            "text/plain": [
              "<Figure size 432x288 with 1 Axes>"
            ]
          },
          "metadata": {
            "tags": [],
            "needs_background": "light"
          }
        }
      ]
    },
    {
      "cell_type": "code",
      "metadata": {
        "colab": {
          "base_uri": "https://localhost:8080/",
          "height": 265
        },
        "id": "J5eCwtfQc4fj",
        "outputId": "8f774b24-ad31-44e6-ebc4-b76dd3f139b8"
      },
      "source": [
        "acc = hist.history['accuracy']\n",
        "plt.plot(acc, label='Training Accuracy')\n",
        "plt.ylabel('Accuracy')\n",
        "plt.show()"
      ],
      "execution_count": null,
      "outputs": [
        {
          "output_type": "display_data",
          "data": {
            "image/png": "[encoded data removed]",
            "text/plain": [
              "<Figure size 432x288 with 1 Axes>"
            ]
          },
          "metadata": {
            "tags": [],
            "needs_background": "light"
          }
        }
      ]
    },
    {
      "cell_type": "markdown",
      "metadata": {
        "id": "VxdjZRhPzrcZ"
      },
      "source": [
        "### Fine Tuning"
      ]
    },
    {
      "cell_type": "markdown",
      "metadata": {
        "id": "wb3YoB9_z_uV"
      },
      "source": [
        "In the feature extraction, you were only training a few layers on top of a base model. The weights of the pre-trained network were not updated during training.\r\n",
        "\r\n",
        "One way to increase performance even further is to train (or \"fine-tune\") the weights of the top layers of the pre-trained model alongside the training of the classifier you added. The training process will force the weights to be tuned from generic feature maps to features associated specifically with the dataset."
      ]
    },
    {
      "cell_type": "code",
      "metadata": {
        "id": "9713lUTSzgAB"
      },
      "source": [
        "# unfreeze the base model\r\n",
        "base_model.trainable = True\r\n"
      ],
      "execution_count": null,
      "outputs": []
    },
    {
      "cell_type": "code",
      "metadata": {
        "id": "C1GD7SWk0QAt",
        "colab": {
          "base_uri": "https://localhost:8080/"
        },
        "outputId": "a45ce947-51c8-4ed7-8061-a427a0c4657f"
      },
      "source": [
        "# print the number of layers in the base model\r\n",
        "print(\"Number of layers in the base model: \", len(base_model.layers))\r\n"
      ],
      "execution_count": null,
      "outputs": [
        {
          "output_type": "stream",
          "text": [
            "Number of layers in the base model:  154\n"
          ],
          "name": "stdout"
        }
      ]
    },
    {
      "cell_type": "markdown",
      "metadata": {
        "id": "dmdw7PEE0rGE"
      },
      "source": [
        "You should try to fine-tune a small number of top layers rather than the whole MobileNet model. In most convolutional networks, the higher up a layer is, the more specialized it is. The first few layers learn very simple and generic features that generalize to almost all types of images. As you go higher up, the features are increasingly more specific to the dataset on which the model was trained. The goal of fine-tuning is to adapt these specialized features to work with the new dataset, rather than overwrite the generic learning."
      ]
    },
    {
      "cell_type": "code",
      "metadata": {
        "id": "JfhEc5-10cOw"
      },
      "source": [
        "# Decide the number of layers you want to freeze and freeze them.\r\n",
        "fine_tune_at = 80\r\n",
        "for layer in base_model.layers[:fine_tune_at]:  ## freezing layers\r\n",
        "  layer.trainable =  False\r\n"
      ],
      "execution_count": null,
      "outputs": []
    },
    {
      "cell_type": "code",
      "metadata": {
        "id": "yt0CH-uH1GG6",
        "colab": {
          "base_uri": "https://localhost:8080/"
        },
        "outputId": "0ae27e4d-478e-45c0-fb67-0ce23e56831c"
      },
      "source": [
        "# compile the model again.\r\n",
        "# It is advisable to use a lower learning rate here so that updates are not too huge and the model does not overfit.\r\n",
        "# print model summary\r\n",
        "\r\n",
        "model.compile(loss=CategoricalCrossentropy(from_logits=False),\r\n",
        "              optimizer = RMSprop(lr=learning_rate/10),\r\n",
        "              metrics=['accuracy'])\r\n",
        "\r\n",
        "\r\n",
        "model.summary()\r\n",
        "\r\n"
      ],
      "execution_count": null,
      "outputs": [
        {
          "output_type": "stream",
          "text": [
            "Model: \"model_14\"\n",
            "_________________________________________________________________\n",
            "Layer (type)                 Output Shape              Param #   \n",
            "=================================================================\n",
            "input_27 (InputLayer)        [(None, 160, 160, 3)]     0         \n",
            "_________________________________________________________________\n",
            "sequential_7 (Sequential)    (None, 160, 160, 3)       0         \n",
            "_________________________________________________________________\n",
            "tf.math.truediv_14 (TFOpLamb (None, 160, 160, 3)       0         \n",
            "_________________________________________________________________\n",
            "tf.math.subtract_14 (TFOpLam (None, 160, 160, 3)       0         \n",
            "_________________________________________________________________\n",
            "mobilenetv2_1.00_160 (Functi (None, 5, 5, 1280)        2257984   \n",
            "_________________________________________________________________\n",
            "global_average_pooling2d_11  (None, 1280)              0         \n",
            "_________________________________________________________________\n",
            "dropout_14 (Dropout)         (None, 1280)              0         \n",
            "_________________________________________________________________\n",
            "dense_14 (Dense)             (None, 3)                 3843      \n",
            "=================================================================\n",
            "Total params: 2,261,827\n",
            "Trainable params: 2,042,627\n",
            "Non-trainable params: 219,200\n",
            "_________________________________________________________________\n"
          ],
          "name": "stdout"
        }
      ]
    },
    {
      "cell_type": "code",
      "metadata": {
        "id": "EhFgixwQ1nXA",
        "colab": {
          "base_uri": "https://localhost:8080/"
        },
        "outputId": "a0356b10-fe61-40ac-81ef-7419e2dfff0d"
      },
      "source": [
        "# fit the model again.\r\n",
        "fine_tune_epochs = 30\r\n",
        "total_epochs =  epochs + fine_tune_epochs\r\n",
        "\r\n",
        "history_fine = model.fit(train_dataset,\r\n",
        "                         epochs=total_epochs,\r\n",
        "                         initial_epoch=hist.epoch[-1],\r\n",
        "                         )\r\n",
        "\r\n"
      ],
      "execution_count": null,
      "outputs": [
        {
          "output_type": "stream",
          "text": [
            "Epoch 30/60\n",
            "16/16 [==============================] - 6s 60ms/step - loss: 0.7342 - accuracy: 0.7590\n",
            "Epoch 31/60\n",
            "16/16 [==============================] - 1s 56ms/step - loss: 0.3647 - accuracy: 0.8440\n",
            "Epoch 32/60\n",
            "16/16 [==============================] - 1s 56ms/step - loss: 0.3762 - accuracy: 0.8351\n",
            "Epoch 33/60\n",
            "16/16 [==============================] - 1s 57ms/step - loss: 0.3323 - accuracy: 0.8650\n",
            "Epoch 34/60\n",
            "16/16 [==============================] - 1s 58ms/step - loss: 0.4338 - accuracy: 0.8237\n",
            "Epoch 35/60\n",
            "16/16 [==============================] - 1s 55ms/step - loss: 0.3003 - accuracy: 0.8773\n",
            "Epoch 36/60\n",
            "16/16 [==============================] - 1s 57ms/step - loss: 0.4408 - accuracy: 0.8330\n",
            "Epoch 37/60\n",
            "16/16 [==============================] - 1s 57ms/step - loss: 0.2974 - accuracy: 0.8697\n",
            "Epoch 38/60\n",
            "16/16 [==============================] - 1s 56ms/step - loss: 0.2745 - accuracy: 0.8865\n",
            "Epoch 39/60\n",
            "16/16 [==============================] - 1s 56ms/step - loss: 0.2746 - accuracy: 0.9036\n",
            "Epoch 40/60\n",
            "16/16 [==============================] - 1s 56ms/step - loss: 0.2794 - accuracy: 0.8983\n",
            "Epoch 41/60\n",
            "16/16 [==============================] - 1s 54ms/step - loss: 0.1951 - accuracy: 0.9112\n",
            "Epoch 42/60\n",
            "16/16 [==============================] - 1s 55ms/step - loss: 0.2799 - accuracy: 0.8952\n",
            "Epoch 43/60\n",
            "16/16 [==============================] - 1s 53ms/step - loss: 0.2213 - accuracy: 0.9229\n",
            "Epoch 44/60\n",
            "16/16 [==============================] - 1s 53ms/step - loss: 0.2000 - accuracy: 0.9354\n",
            "Epoch 45/60\n",
            "16/16 [==============================] - 1s 54ms/step - loss: 0.4263 - accuracy: 0.8701\n",
            "Epoch 46/60\n",
            "16/16 [==============================] - 1s 54ms/step - loss: 0.1619 - accuracy: 0.9344\n",
            "Epoch 47/60\n",
            "16/16 [==============================] - 1s 55ms/step - loss: 0.3268 - accuracy: 0.8892\n",
            "Epoch 48/60\n",
            "16/16 [==============================] - 1s 54ms/step - loss: 0.2801 - accuracy: 0.8890\n",
            "Epoch 49/60\n",
            "16/16 [==============================] - 1s 55ms/step - loss: 0.1326 - accuracy: 0.9400\n",
            "Epoch 50/60\n",
            "16/16 [==============================] - 1s 56ms/step - loss: 0.1697 - accuracy: 0.9344\n",
            "Epoch 51/60\n",
            "16/16 [==============================] - 1s 56ms/step - loss: 0.1647 - accuracy: 0.9280\n",
            "Epoch 52/60\n",
            "16/16 [==============================] - 1s 56ms/step - loss: 0.1445 - accuracy: 0.9406\n",
            "Epoch 53/60\n",
            "16/16 [==============================] - 1s 56ms/step - loss: 0.1383 - accuracy: 0.9511\n",
            "Epoch 54/60\n",
            "16/16 [==============================] - 1s 55ms/step - loss: 0.1921 - accuracy: 0.9304\n",
            "Epoch 55/60\n",
            "16/16 [==============================] - 1s 57ms/step - loss: 0.2597 - accuracy: 0.9162\n",
            "Epoch 56/60\n",
            "16/16 [==============================] - 1s 57ms/step - loss: 0.0818 - accuracy: 0.9730\n",
            "Epoch 57/60\n",
            "16/16 [==============================] - 1s 56ms/step - loss: 0.5170 - accuracy: 0.8368\n",
            "Epoch 58/60\n",
            "16/16 [==============================] - 1s 56ms/step - loss: 0.1190 - accuracy: 0.9601\n",
            "Epoch 59/60\n",
            "16/16 [==============================] - 1s 56ms/step - loss: 0.1042 - accuracy: 0.9553\n",
            "Epoch 60/60\n",
            "16/16 [==============================] - 1s 56ms/step - loss: 0.1665 - accuracy: 0.9252\n"
          ],
          "name": "stdout"
        }
      ]
    },
    {
      "cell_type": "code",
      "metadata": {
        "id": "8Eh755Gk22ZX",
        "colab": {
          "base_uri": "https://localhost:8080/",
          "height": 515
        },
        "outputId": "8fe2273f-bc46-4cfc-8530-14b1618eea1d"
      },
      "source": [
        "# plot the loss and accuracy curves again\r\n",
        "loss = history_fine.history['loss']\r\n",
        "plt.plot(loss, label='Training Loss')\r\n",
        "plt.ylabel('Loss')\r\n",
        "plt.show()\r\n",
        "\r\n",
        "acc = history_fine.history['accuracy']\r\n",
        "plt.plot(acc, label='Training Accuracy')\r\n",
        "plt.ylabel('Accuracy')\r\n",
        "plt.show()\r\n",
        "\r\n",
        "\r\n",
        "\r\n"
      ],
      "execution_count": null,
      "outputs": [
        {
          "output_type": "display_data",
          "data": {
            "image/png": "[encoded data removed]",
            "text/plain": [
              "<Figure size 432x288 with 1 Axes>"
            ]
          },
          "metadata": {
            "tags": [],
            "needs_background": "light"
          }
        },
        {
          "output_type": "display_data",
          "data": {
            "image/png": "[encoded data removed]",
            "text/plain": [
              "<Figure size 432x288 with 1 Axes>"
            ]
          },
          "metadata": {
            "tags": [],
            "needs_background": "light"
          }
        }
      ]
    },
    {
      "cell_type": "markdown",
      "metadata": {
        "id": "r8NuaOTq3hLu"
      },
      "source": [
        "### Prediction"
      ]
    },
    {
      "cell_type": "markdown",
      "metadata": {
        "id": "ntkRY1y_4f1g"
      },
      "source": [
        "Now we will use our model to make predictions on test set. Store the predictions like in sample_submission.csv file. \r\n",
        "\r\n",
        "sample_submission.csv\r\n",
        "- 4 columns\r\n",
        "- 1 row for each test image (total 853 rows)\r\n",
        "- 1st column = image file name\r\n",
        "- 2nd column = probability of the given image being qingqi\r\n",
        "- 3rd column = probability of the given image being rickshaw\r\n",
        "- 4th column = probability of the given image being tanga"
      ]
    },
    {
      "cell_type": "code",
      "metadata": {
        "id": "SfqOBNCUWALd"
      },
      "source": [
        "def preprocessing_norm(images):\n",
        "    return (images/127.5)-1  ## range pixels between -1 to 1"
      ],
      "execution_count": null,
      "outputs": []
    },
    {
      "cell_type": "code",
      "metadata": {
        "id": "-YxNh0qo3Wi6"
      },
      "source": [
        "# Read and preprocess test data. Remeber to store the names of image files\r\n",
        "test_X = []\r\n",
        "img_file_names = []\r\n",
        "for file_path in glob.glob('/content/VehicleDataset/test/*'):\r\n",
        "  img = preprocessing_norm(cv2.imread(file_path))\r\n",
        "  img.resize((input_shape))\r\n",
        "  test_X.append(img)\r\n",
        "  img_file_names.append(file_path.split('/')[-1].split('.')[0])\r\n"
      ],
      "execution_count": null,
      "outputs": []
    },
    {
      "cell_type": "code",
      "metadata": {
        "id": "k5nNCvDa4S8R"
      },
      "source": [
        "# predict on test data (Hint: model.predict())\r\n",
        "preds = model.predict(np.array(test_X))"
      ],
      "execution_count": null,
      "outputs": []
    },
    {
      "cell_type": "code",
      "metadata": {
        "id": "ILmKtxhRoE47"
      },
      "source": [
        "result_csv= 0"
      ],
      "execution_count": null,
      "outputs": []
    },
    {
      "cell_type": "code",
      "metadata": {
        "id": "87AHm6GQ5h6Q"
      },
      "source": [
        "# store the predictions in a .csv file like in sample_submission.csv (Hint: pandas may be helpful here)\r\n",
        "\r\n",
        "result_csv+=1\r\n",
        "data = [['id', 'qingqi', 'rickshaw', 'tanga']]\r\n",
        "\r\n",
        "for index, pred in enumerate(preds):\r\n",
        "  file_name = img_file_names[index]\r\n",
        "  probabilites = list(pred)\r\n",
        "  probabilites.insert(0,file_name)\r\n",
        "  data.append(probabilites)\r\n",
        "\r\n",
        "data = np.array(data)\r\n",
        "df = pd.DataFrame(data=data[1:,0:],\r\n",
        "                  columns= data[0,0:])\r\n",
        "df.to_csv('result'+str(result_csv)+'.csv', index=False)\r\n"
      ],
      "execution_count": null,
      "outputs": []
    },
    {
      "cell_type": "code",
      "metadata": {
        "id": "hl7G2xypf3aG"
      },
      "source": [
        ""
      ],
      "execution_count": null,
      "outputs": []
    },
    {
      "cell_type": "code",
      "metadata": {
        "id": "ixW4oaukf4FK"
      },
      "source": [
        ""
      ],
      "execution_count": null,
      "outputs": []
    }
  ]
}